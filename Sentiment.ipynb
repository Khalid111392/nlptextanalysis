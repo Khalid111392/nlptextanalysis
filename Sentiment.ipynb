{
 "cells": [
  {
   "cell_type": "code",
   "execution_count": 9,
   "id": "0ff63fbe",
   "metadata": {},
   "outputs": [],
   "source": [
    "import pandas as pd\n",
    "import nltk"
   ]
  },
  {
   "cell_type": "code",
   "execution_count": 10,
   "id": "51fb0479",
   "metadata": {},
   "outputs": [
    {
     "data": {
      "text/html": [
       "<div>\n",
       "<style scoped>\n",
       "    .dataframe tbody tr th:only-of-type {\n",
       "        vertical-align: middle;\n",
       "    }\n",
       "\n",
       "    .dataframe tbody tr th {\n",
       "        vertical-align: top;\n",
       "    }\n",
       "\n",
       "    .dataframe thead th {\n",
       "        text-align: right;\n",
       "    }\n",
       "</style>\n",
       "<table border=\"1\" class=\"dataframe\">\n",
       "  <thead>\n",
       "    <tr style=\"text-align: right;\">\n",
       "      <th></th>\n",
       "      <th>Sentence</th>\n",
       "      <th>Sentiment</th>\n",
       "    </tr>\n",
       "  </thead>\n",
       "  <tbody>\n",
       "    <tr>\n",
       "      <th>0</th>\n",
       "      <td>The GeoSolutions technology will leverage Bene...</td>\n",
       "      <td>positive</td>\n",
       "    </tr>\n",
       "    <tr>\n",
       "      <th>1</th>\n",
       "      <td>$ESI on lows, down $1.50 to $2.50 BK a real po...</td>\n",
       "      <td>negative</td>\n",
       "    </tr>\n",
       "    <tr>\n",
       "      <th>2</th>\n",
       "      <td>For the last quarter of 2010 , Componenta 's n...</td>\n",
       "      <td>positive</td>\n",
       "    </tr>\n",
       "    <tr>\n",
       "      <th>3</th>\n",
       "      <td>According to the Finnish-Russian Chamber of Co...</td>\n",
       "      <td>neutral</td>\n",
       "    </tr>\n",
       "    <tr>\n",
       "      <th>4</th>\n",
       "      <td>The Swedish buyout firm has sold its remaining...</td>\n",
       "      <td>neutral</td>\n",
       "    </tr>\n",
       "    <tr>\n",
       "      <th>5</th>\n",
       "      <td>$SPY wouldn't be surprised to see a green close</td>\n",
       "      <td>positive</td>\n",
       "    </tr>\n",
       "    <tr>\n",
       "      <th>6</th>\n",
       "      <td>Shell's $70 Billion BG Deal Meets Shareholder ...</td>\n",
       "      <td>negative</td>\n",
       "    </tr>\n",
       "    <tr>\n",
       "      <th>7</th>\n",
       "      <td>SSH COMMUNICATIONS SECURITY CORP STOCK EXCHANG...</td>\n",
       "      <td>negative</td>\n",
       "    </tr>\n",
       "    <tr>\n",
       "      <th>8</th>\n",
       "      <td>Kone 's net sales rose by some 14 % year-on-ye...</td>\n",
       "      <td>positive</td>\n",
       "    </tr>\n",
       "    <tr>\n",
       "      <th>9</th>\n",
       "      <td>The Stockmann department store will have a tot...</td>\n",
       "      <td>neutral</td>\n",
       "    </tr>\n",
       "  </tbody>\n",
       "</table>\n",
       "</div>"
      ],
      "text/plain": [
       "                                            Sentence Sentiment\n",
       "0  The GeoSolutions technology will leverage Bene...  positive\n",
       "1  $ESI on lows, down $1.50 to $2.50 BK a real po...  negative\n",
       "2  For the last quarter of 2010 , Componenta 's n...  positive\n",
       "3  According to the Finnish-Russian Chamber of Co...   neutral\n",
       "4  The Swedish buyout firm has sold its remaining...   neutral\n",
       "5    $SPY wouldn't be surprised to see a green close  positive\n",
       "6  Shell's $70 Billion BG Deal Meets Shareholder ...  negative\n",
       "7  SSH COMMUNICATIONS SECURITY CORP STOCK EXCHANG...  negative\n",
       "8  Kone 's net sales rose by some 14 % year-on-ye...  positive\n",
       "9  The Stockmann department store will have a tot...   neutral"
      ]
     },
     "execution_count": 10,
     "metadata": {},
     "output_type": "execute_result"
    }
   ],
   "source": [
    "sentiment_df = pd.read_csv('data.csv')\n",
    "sentiment_df.head(10)"
   ]
  },
  {
   "cell_type": "code",
   "execution_count": 11,
   "id": "15c284d7",
   "metadata": {},
   "outputs": [
    {
     "data": {
      "text/plain": [
       "(5842, 2)"
      ]
     },
     "execution_count": 11,
     "metadata": {},
     "output_type": "execute_result"
    }
   ],
   "source": [
    "sentiment_df.shape"
   ]
  },
  {
   "cell_type": "code",
   "execution_count": 12,
   "id": "cf9d5dc5",
   "metadata": {},
   "outputs": [
    {
     "name": "stdout",
     "output_type": "stream",
     "text": [
      "<class 'pandas.core.frame.DataFrame'>\n",
      "RangeIndex: 5842 entries, 0 to 5841\n",
      "Data columns (total 2 columns):\n",
      " #   Column     Non-Null Count  Dtype \n",
      "---  ------     --------------  ----- \n",
      " 0   Sentence   5842 non-null   object\n",
      " 1   Sentiment  5842 non-null   object\n",
      "dtypes: object(2)\n",
      "memory usage: 91.4+ KB\n"
     ]
    }
   ],
   "source": [
    "sentiment_df.info()"
   ]
  },
  {
   "cell_type": "code",
   "execution_count": 13,
   "id": "415b77da",
   "metadata": {},
   "outputs": [
    {
     "data": {
      "text/html": [
       "<div>\n",
       "<style scoped>\n",
       "    .dataframe tbody tr th:only-of-type {\n",
       "        vertical-align: middle;\n",
       "    }\n",
       "\n",
       "    .dataframe tbody tr th {\n",
       "        vertical-align: top;\n",
       "    }\n",
       "\n",
       "    .dataframe thead th {\n",
       "        text-align: right;\n",
       "    }\n",
       "</style>\n",
       "<table border=\"1\" class=\"dataframe\">\n",
       "  <thead>\n",
       "    <tr style=\"text-align: right;\">\n",
       "      <th></th>\n",
       "      <th>Sentence</th>\n",
       "      <th>Sentiment</th>\n",
       "    </tr>\n",
       "  </thead>\n",
       "  <tbody>\n",
       "    <tr>\n",
       "      <th>count</th>\n",
       "      <td>5842</td>\n",
       "      <td>5842</td>\n",
       "    </tr>\n",
       "    <tr>\n",
       "      <th>unique</th>\n",
       "      <td>5322</td>\n",
       "      <td>3</td>\n",
       "    </tr>\n",
       "    <tr>\n",
       "      <th>top</th>\n",
       "      <td>Managing Director 's comments : `` Net sales f...</td>\n",
       "      <td>neutral</td>\n",
       "    </tr>\n",
       "    <tr>\n",
       "      <th>freq</th>\n",
       "      <td>2</td>\n",
       "      <td>3130</td>\n",
       "    </tr>\n",
       "  </tbody>\n",
       "</table>\n",
       "</div>"
      ],
      "text/plain": [
       "                                                 Sentence Sentiment\n",
       "count                                                5842      5842\n",
       "unique                                               5322         3\n",
       "top     Managing Director 's comments : `` Net sales f...   neutral\n",
       "freq                                                    2      3130"
      ]
     },
     "execution_count": 13,
     "metadata": {},
     "output_type": "execute_result"
    }
   ],
   "source": [
    "sentiment_df.describe()"
   ]
  },
  {
   "cell_type": "code",
   "execution_count": 14,
   "id": "4760ee7a",
   "metadata": {
    "scrolled": true
   },
   "outputs": [
    {
     "data": {
      "text/plain": [
       "<AxesSubplot:xlabel='Sentiment', ylabel='count'>"
      ]
     },
     "execution_count": 14,
     "metadata": {},
     "output_type": "execute_result"
    },
    {
     "data": {
      "image/png": "[encoded data removed]",
      "text/plain": [
       "<Figure size 432x288 with 1 Axes>"
      ]
     },
     "metadata": {
      "needs_background": "light"
     },
     "output_type": "display_data"
    }
   ],
   "source": [
    "# Plot the count plot for the Sentiment\n",
    "import seaborn as sns\n",
    "sns.countplot(x = sentiment_df['Sentiment']) "
   ]
  },
  {
   "cell_type": "code",
   "execution_count": 15,
   "id": "f0aa65fa",
   "metadata": {},
   "outputs": [
    {
     "data": {
      "text/html": [
       "<div>\n",
       "<style scoped>\n",
       "    .dataframe tbody tr th:only-of-type {\n",
       "        vertical-align: middle;\n",
       "    }\n",
       "\n",
       "    .dataframe tbody tr th {\n",
       "        vertical-align: top;\n",
       "    }\n",
       "\n",
       "    .dataframe thead th {\n",
       "        text-align: right;\n",
       "    }\n",
       "</style>\n",
       "<table border=\"1\" class=\"dataframe\">\n",
       "  <thead>\n",
       "    <tr style=\"text-align: right;\">\n",
       "      <th></th>\n",
       "      <th>Sentence</th>\n",
       "      <th>Sentiment</th>\n",
       "      <th>(length)</th>\n",
       "    </tr>\n",
       "  </thead>\n",
       "  <tbody>\n",
       "    <tr>\n",
       "      <th>0</th>\n",
       "      <td>The GeoSolutions technology will leverage Bene...</td>\n",
       "      <td>positive</td>\n",
       "      <td>218</td>\n",
       "    </tr>\n",
       "    <tr>\n",
       "      <th>1</th>\n",
       "      <td>$ESI on lows, down $1.50 to $2.50 BK a real po...</td>\n",
       "      <td>negative</td>\n",
       "      <td>55</td>\n",
       "    </tr>\n",
       "    <tr>\n",
       "      <th>2</th>\n",
       "      <td>For the last quarter of 2010 , Componenta 's n...</td>\n",
       "      <td>positive</td>\n",
       "      <td>193</td>\n",
       "    </tr>\n",
       "    <tr>\n",
       "      <th>3</th>\n",
       "      <td>According to the Finnish-Russian Chamber of Co...</td>\n",
       "      <td>neutral</td>\n",
       "      <td>128</td>\n",
       "    </tr>\n",
       "    <tr>\n",
       "      <th>4</th>\n",
       "      <td>The Swedish buyout firm has sold its remaining...</td>\n",
       "      <td>neutral</td>\n",
       "      <td>135</td>\n",
       "    </tr>\n",
       "    <tr>\n",
       "      <th>...</th>\n",
       "      <td>...</td>\n",
       "      <td>...</td>\n",
       "      <td>...</td>\n",
       "    </tr>\n",
       "    <tr>\n",
       "      <th>5837</th>\n",
       "      <td>RISING costs have forced packaging producer Hu...</td>\n",
       "      <td>negative</td>\n",
       "      <td>107</td>\n",
       "    </tr>\n",
       "    <tr>\n",
       "      <th>5838</th>\n",
       "      <td>Nordic Walking was first used as a summer trai...</td>\n",
       "      <td>neutral</td>\n",
       "      <td>83</td>\n",
       "    </tr>\n",
       "    <tr>\n",
       "      <th>5839</th>\n",
       "      <td>According shipping company Viking Line , the E...</td>\n",
       "      <td>neutral</td>\n",
       "      <td>99</td>\n",
       "    </tr>\n",
       "    <tr>\n",
       "      <th>5840</th>\n",
       "      <td>In the building and home improvement trade , s...</td>\n",
       "      <td>neutral</td>\n",
       "      <td>88</td>\n",
       "    </tr>\n",
       "    <tr>\n",
       "      <th>5841</th>\n",
       "      <td>HELSINKI AFX - KCI Konecranes said it has won ...</td>\n",
       "      <td>positive</td>\n",
       "      <td>145</td>\n",
       "    </tr>\n",
       "  </tbody>\n",
       "</table>\n",
       "<p>5842 rows × 3 columns</p>\n",
       "</div>"
      ],
      "text/plain": [
       "                                               Sentence Sentiment  (length)\n",
       "0     The GeoSolutions technology will leverage Bene...  positive       218\n",
       "1     $ESI on lows, down $1.50 to $2.50 BK a real po...  negative        55\n",
       "2     For the last quarter of 2010 , Componenta 's n...  positive       193\n",
       "3     According to the Finnish-Russian Chamber of Co...   neutral       128\n",
       "4     The Swedish buyout firm has sold its remaining...   neutral       135\n",
       "...                                                 ...       ...       ...\n",
       "5837  RISING costs have forced packaging producer Hu...  negative       107\n",
       "5838  Nordic Walking was first used as a summer trai...   neutral        83\n",
       "5839  According shipping company Viking Line , the E...   neutral        99\n",
       "5840  In the building and home improvement trade , s...   neutral        88\n",
       "5841  HELSINKI AFX - KCI Konecranes said it has won ...  positive       145\n",
       "\n",
       "[5842 rows x 3 columns]"
      ]
     },
     "execution_count": 15,
     "metadata": {},
     "output_type": "execute_result"
    }
   ],
   "source": [
    "# Let's get the length of the sentence column\n",
    "sentiment_df['(length)'] = sentiment_df['Sentence'].apply(len)\n",
    "sentiment_df"
   ]
  },
  {
   "cell_type": "code",
   "execution_count": 88,
   "id": "6bd4e958",
   "metadata": {},
   "outputs": [
    {
     "data": {
      "text/html": [
       "<div>\n",
       "<style scoped>\n",
       "    .dataframe tbody tr th:only-of-type {\n",
       "        vertical-align: middle;\n",
       "    }\n",
       "\n",
       "    .dataframe tbody tr th {\n",
       "        vertical-align: top;\n",
       "    }\n",
       "\n",
       "    .dataframe thead th {\n",
       "        text-align: right;\n",
       "    }\n",
       "</style>\n",
       "<table border=\"1\" class=\"dataframe\">\n",
       "  <thead>\n",
       "    <tr style=\"text-align: right;\">\n",
       "      <th></th>\n",
       "      <th>(length)</th>\n",
       "    </tr>\n",
       "  </thead>\n",
       "  <tbody>\n",
       "    <tr>\n",
       "      <th>count</th>\n",
       "      <td>5842.000000</td>\n",
       "    </tr>\n",
       "    <tr>\n",
       "      <th>mean</th>\n",
       "      <td>117.022253</td>\n",
       "    </tr>\n",
       "    <tr>\n",
       "      <th>std</th>\n",
       "      <td>56.420425</td>\n",
       "    </tr>\n",
       "    <tr>\n",
       "      <th>min</th>\n",
       "      <td>9.000000</td>\n",
       "    </tr>\n",
       "    <tr>\n",
       "      <th>25%</th>\n",
       "      <td>72.000000</td>\n",
       "    </tr>\n",
       "    <tr>\n",
       "      <th>50%</th>\n",
       "      <td>107.000000</td>\n",
       "    </tr>\n",
       "    <tr>\n",
       "      <th>75%</th>\n",
       "      <td>150.000000</td>\n",
       "    </tr>\n",
       "    <tr>\n",
       "      <th>max</th>\n",
       "      <td>315.000000</td>\n",
       "    </tr>\n",
       "  </tbody>\n",
       "</table>\n",
       "</div>"
      ],
      "text/plain": [
       "          (length)\n",
       "count  5842.000000\n",
       "mean    117.022253\n",
       "std      56.420425\n",
       "min       9.000000\n",
       "25%      72.000000\n",
       "50%     107.000000\n",
       "75%     150.000000\n",
       "max     315.000000"
      ]
     },
     "execution_count": 88,
     "metadata": {},
     "output_type": "execute_result"
    }
   ],
   "source": [
    "sentiment_df.describe()"
   ]
  },
  {
   "cell_type": "code",
   "execution_count": 51,
   "id": "c49dabfa",
   "metadata": {},
   "outputs": [],
   "source": [
    "X = sentiment_df['Sentence']"
   ]
  },
  {
   "cell_type": "code",
   "execution_count": 52,
   "id": "98dcfd3e",
   "metadata": {},
   "outputs": [],
   "source": [
    "y = sentiment_df['Sentiment']"
   ]
  },
  {
   "cell_type": "code",
   "execution_count": 33,
   "id": "b132674c",
   "metadata": {},
   "outputs": [
    {
     "name": "stderr",
     "output_type": "stream",
     "text": [
      "[nltk_data] Downloading package stopwords to\n",
      "[nltk_data]     C:\\Users\\rohul\\AppData\\Roaming\\nltk_data...\n",
      "[nltk_data]   Package stopwords is already up-to-date!\n"
     ]
    }
   ],
   "source": [
    "from nltk.corpus import stopwords\n",
    "nltk.download('stopwords')\n",
    "import string\n",
    "stop_words = stopwords.words('english')\n",
    "punctuations = string.punctuation\n",
    "def message_cleaning(message):\n",
    "    Test_punc_removed = [char for char in message if char not in string.punctuation]\n",
    "    Test_punc_removed_join = ''.join(Test_punc_removed)\n",
    "    Test_punc_removed_join_clean = [word for word in Test_punc_removed_join.split() if word.lower() not in stopwords.words('english')]\n",
    "    return Test_punc_removed_join_clean"
   ]
  },
  {
   "cell_type": "code",
   "execution_count": 34,
   "id": "40bc6d51",
   "metadata": {},
   "outputs": [
    {
     "data": {
      "text/plain": [
       "0       [GeoSolutions, technology, leverage, Benefon, ...\n",
       "1            [ESI, lows, 150, 250, BK, real, possibility]\n",
       "2       [last, quarter, 2010, Componenta, net, sales, ...\n",
       "3       [According, FinnishRussian, Chamber, Commerce,...\n",
       "4       [Swedish, buyout, firm, sold, remaining, 224, ...\n",
       "                              ...                        \n",
       "5837    [RISING, costs, forced, packaging, producer, H...\n",
       "5838    [Nordic, Walking, first, used, summer, trainin...\n",
       "5839    [According, shipping, company, Viking, Line, E...\n",
       "5840    [building, home, improvement, trade, sales, de...\n",
       "5841    [HELSINKI, AFX, KCI, Konecranes, said, order, ...\n",
       "Name: Sentence, Length: 5842, dtype: object"
      ]
     },
     "execution_count": 34,
     "metadata": {},
     "output_type": "execute_result"
    }
   ],
   "source": [
    "sentiment_df_clean = sentiment_df['Sentence'].apply(message_cleaning)\n",
    "sentiment_df_clean"
   ]
  },
  {
   "cell_type": "code",
   "execution_count": 35,
   "id": "4cd3673b",
   "metadata": {},
   "outputs": [
    {
     "data": {
      "text/plain": [
       "0       [GeoSolutions, technology, leverage, Benefon, ...\n",
       "2       [last, quarter, 2010, Componenta, net, sales, ...\n",
       "5            [SPY, wouldnt, surprised, see, green, close]\n",
       "8       [Kone, net, sales, rose, 14, yearonyear, first...\n",
       "10      [Circulation, revenue, increased, 5, Finland, ...\n",
       "                              ...                        \n",
       "5819    [Last, month, added, GILD, position, started, ...\n",
       "5824    [newly, formed, company, YIT, Stavo, local, co...\n",
       "5825    [Friends, Life, lifts, profits, 38, hikes, div...\n",
       "5836    [Daily, Mail, parent, company, talks, potentia...\n",
       "5841    [HELSINKI, AFX, KCI, Konecranes, said, order, ...\n",
       "Name: Sentence, Length: 1852, dtype: object"
      ]
     },
     "execution_count": 35,
     "metadata": {},
     "output_type": "execute_result"
    }
   ],
   "source": [
    "# Obtain only the positive reviews\n",
    "positive = sentiment_df_clean[sentiment_df['Sentiment'] == 'positive']\n",
    "positive"
   ]
  },
  {
   "cell_type": "code",
   "execution_count": 36,
   "id": "df8533bb",
   "metadata": {},
   "outputs": [
    {
     "data": {
      "text/plain": [
       "3       [According, FinnishRussian, Chamber, Commerce,...\n",
       "4       [Swedish, buyout, firm, sold, remaining, 224, ...\n",
       "9       [Stockmann, department, store, total, floor, s...\n",
       "13                     [Viking, Line, canceled, services]\n",
       "14      [Ahlstrom, Corporation, STOCK, EXCHANGE, ANNOU...\n",
       "                              ...                        \n",
       "5833    [2008, Kemira, recorded, revenue, approximatel...\n",
       "5834    [Investments, product, development, stood, 60,...\n",
       "5838    [Nordic, Walking, first, used, summer, trainin...\n",
       "5839    [According, shipping, company, Viking, Line, E...\n",
       "5840    [building, home, improvement, trade, sales, de...\n",
       "Name: Sentence, Length: 3130, dtype: object"
      ]
     },
     "execution_count": 36,
     "metadata": {},
     "output_type": "execute_result"
    }
   ],
   "source": [
    "# Obtain only the positive reviews\n",
    "neutral = sentiment_df_clean[sentiment_df['Sentiment'] == 'neutral']\n",
    "neutral"
   ]
  },
  {
   "cell_type": "code",
   "execution_count": 37,
   "id": "42ba86aa",
   "metadata": {},
   "outputs": [
    {
     "data": {
      "text/plain": [
       "1            [ESI, lows, 150, 250, BK, real, possibility]\n",
       "6       [Shells, 70, Billion, BG, Deal, Meets, Shareho...\n",
       "7       [SSH, COMMUNICATIONS, SECURITY, CORP, STOCK, E...\n",
       "11      [SAP, Q1, disappoints, software, licenses, Rea...\n",
       "39      [AAPL, afternoon, selloff, usual, brutal, get,...\n",
       "                              ...                        \n",
       "5829           [SBUX, PM, DB, downgrade, PT, cut, 70, 64]\n",
       "5831    [Finnish, developer, manufacturer, mobile, pho...\n",
       "5832    [Operating, profit, fell, EUR, 381, mn, EUR, 5...\n",
       "5835    [HSBC, Says, Unit, Book, 585, Million, Charge,...\n",
       "5837    [RISING, costs, forced, packaging, producer, H...\n",
       "Name: Sentence, Length: 860, dtype: object"
      ]
     },
     "execution_count": 37,
     "metadata": {},
     "output_type": "execute_result"
    }
   ],
   "source": [
    "# Obtain only the positive reviews\n",
    "negative = sentiment_df_clean[sentiment_df['Sentiment'] == 'negative']\n",
    "negative"
   ]
  },
  {
   "cell_type": "code",
   "execution_count": 38,
   "id": "9842c845",
   "metadata": {},
   "outputs": [
    {
     "data": {
      "text/plain": [
       "1852"
      ]
     },
     "execution_count": 38,
     "metadata": {},
     "output_type": "execute_result"
    }
   ],
   "source": [
    "# Convert to list format\n",
    "sentences_pos = positive.tolist()\n",
    "len(sentences_pos)"
   ]
  },
  {
   "cell_type": "code",
   "execution_count": 39,
   "id": "65cb48eb",
   "metadata": {},
   "outputs": [
    {
     "data": {
      "text/plain": [
       "3130"
      ]
     },
     "execution_count": 39,
     "metadata": {},
     "output_type": "execute_result"
    }
   ],
   "source": [
    "# Convert to list format\n",
    "sentences_neu = neutral.tolist()\n",
    "len(sentences_neu)"
   ]
  },
  {
   "cell_type": "code",
   "execution_count": 40,
   "id": "885a48aa",
   "metadata": {},
   "outputs": [
    {
     "data": {
      "text/plain": [
       "860"
      ]
     },
     "execution_count": 40,
     "metadata": {},
     "output_type": "execute_result"
    }
   ],
   "source": [
    "# Convert to list format\n",
    "sentences_neg = negative.tolist()\n",
    "len(sentences_neg)"
   ]
  },
  {
   "cell_type": "code",
   "execution_count": 42,
   "id": "d52e4069",
   "metadata": {},
   "outputs": [
    {
     "data": {
      "text/plain": [
       "'Circulation revenue has increased by 5 % in Finland and 4 % in Sweden in 2008 .'"
      ]
     },
     "execution_count": 42,
     "metadata": {},
     "output_type": "execute_result"
    }
   ],
   "source": [
    "sentiment_df['Sentence'][10]"
   ]
  },
  {
   "cell_type": "code",
   "execution_count": 43,
   "id": "9763ac6b",
   "metadata": {},
   "outputs": [
    {
     "data": {
      "text/plain": [
       "['Circulation', 'revenue', 'increased', '5', 'Finland', '4', 'Sweden', '2008']"
      ]
     },
     "execution_count": 43,
     "metadata": {},
     "output_type": "execute_result"
    }
   ],
   "source": [
    "sentiment_df_clean[10]"
   ]
  },
  {
   "cell_type": "code",
   "execution_count": 44,
   "id": "a20511bd",
   "metadata": {},
   "outputs": [
    {
     "name": "stdout",
     "output_type": "stream",
     "text": [
      "['0', '00', '000', '000063', '0008', '001', '002', '0025', '003', '0030', '004', '005', '006', '008', '009', '01', '010', '01011385', '011', '011200', '012', '013', '01312011', '014', '015', '016', '017', '018', '01872740', '02', '020', '021', '022011', '025', '026', '027', '028', '029', '03', '030', '03022011', '0304', '031', '032', '033', '034', '035', '036', '037', '038', '03c', '04', '040', '042', '043', '044', '045', '047', '048', '049', '0491', '05', '050', '052', '053', '056', '06', '060', '061', '062', '0623', '0625', '063', '064', '066', '067', '07', '070', '0711', '075', '0762', '077', '078', '08', '080', '081', '083', '085', '086', '087', '09', '090', '0900', '0901', '091', '092', '0930', '095', '1', '10', '100', '1000', '10000', '100000', '10000odd', '10012', '100120', '1002', '1007', '100m', '100millilitre', '100mn', '100mn150mn', '100pt', '101', '1010', '10113', '1014', '1015', '1015mn', '1019', '10199', '102', '1022', '1026', '10270', '10277', '1028', '103', '1030', '1032011', '1032146', '1033', '1034', '1035', '104', '1040', '10435023', '1044', '1045', '1046', '10474', '10480', '105', '10500', '10507', '1053074', '105501850', '1056', '1058', '1059', '106', '106063320', '1062', '1063', '106414', '107', '10706', '1071', '1073642', '1075', '107600', '108', '1087', '109', '109000', '10925', '1097000', '109mn', '10D', '10day', '10mn', '10month', '10th', '10year', '11', '110', '1100', '11000', '11012008', '11020', '11061', '1107', '1109percent', '110s', '111', '1111', '1112', '1113', '1115000', '112', '11219', '1124', '112560', '113', '113000', '1131', '1132000', '1133', '1134', '1135', '1138', '113884', '114', '11440', '1145', '115', '115000', '1152007', '1155000', '116', '1166', '1168', '1168732', '117', '1170', '11720829', '1173', '117mn', '118', '1180', '118000', '1184', '119', '11958000', '11986', '11c', '11m', '12', '120', '1200', '120000', '1201', '120meter', '121', '1211', '1214', '1215', '12167', '122', '1220', '122000', '12257', '123', '1230', '123000', '12302010', '12340', '12382', '124', '12444', '1246', '12477any', '1249', '125', '1251', '1259', '12596', '12597', '126', '127', '1273', '128', '12800', '128538', '1287', '12890829', '129', '1294', '1297', '12MP', '12month', '12th', '13', '130', '1300', '13000', '1305', '13086', '131', '131000', '1318', '132', '1321', '1326', '133', '1330', '13300', '1331', '1332', '1334', '1335', '1339', '134', '1340', '1343', '134700', '135', '1350', '1357', '135gram', '136', '137', '1373', '13789', '138', '1384', '139', '13953817', '1397', '13bn', '13min', '14', '140', '1400', '14000', '140000', '1400wow', '1401', '1402', '1408', '141', '1411', '1415', '1417', '1419', '141mn', '142', '1423', '14251', '1429', '143', '1430', '1435', '1437', '1439', '144', '1441', '1445', '145', '1451', '1458', '146', '146000', '146mn', '147', '14747084', '1476', '148', '14811', '14878', '149', '1491', '14mn', '15', '150', '1500', '15000', '150000', '1504', '150k', '150share', '151', '1510', '1519', '152', '1520', '152000', '1522', '1523', '1524', '153', '1532', '1535', '154', '15400', '1541', '155', '1552', '1553', '156', '1566', '1566520', '1569', '157', '158', '1586', '159', '1591966', '1592', '1595', '15US', '15bn', '15minute', '15th', '15thmeh', '16', '160', '1600', '1604', '16062008Publication', '1607', '161', '16122008', '16122010', '161256847', '1615', '162', '162007', '1623', '1625', '1628', '1629000', '163', '164', '16400', '1641', '1647', '16474755', '1649', '165', '1655', '166', '1666', '167', '1670', '168', '1688', '169', '1692008', '16B', '16mn', '17', '170', '1700', '17000', '170000', '170Share', '171', '172', '1724', '1726', '172p', '1738', '174', '1740', '1744900', '175', '1750', '1756', '176', '1766', '177', '177mn', '178', '179', '179mn', '17m', '17mn', '18', '180', '1800', '18000', '1800000', '18000square', '180Share', '180mn', '181', '1810', '182', '1822', '1823', '183', '1830', '18321', '1838', '184', '185', '1850', '18500', '186', '186074', '1862', '1864', '187', '1870', '1878', '188', '1889', '188mn', '189', '189000', '18982', '18mn', '18th', '19', '190', '1900', '19000', '190000', '19062007', '190mn', '191', '1910', '192', '1920', '192007', '19200square', '1923', '1928', '193', '1930s', '1931', '194', '19447574', '19447574is', '1945', '19455648', '1946', '195', '1950s', '1954', '196', '1960s', '19631', '1964', '1970s', '197230', '197mn', '198', '1980', '1983', '1985', '1987', '1989', '199', '1992', '1994', '19952006', '19952009', '1996', '1997', '1998', '19982006', '1999', '19mn', '19percent', '1AstraZeneca', '1BHP', '1BP', '1Berkshire', '1Cypress', '1Dairy', '1EU', '1Engineering', '1Lloyds', '1Meggitt', '1Nomura', '1Pearson', '1SABMiller', '1click', '1m6m', '1nvestor', '1st', '2', '20', '200', '2000', '20000', '200000', '2000000', '20002006', '2001', '2002', '2003', '2003A', '2003style', '2004', '200405', '20042005', '2004B', '2005', '200506', '2006', '200607', '20062007', '2006A', '2006Benefon', '2006Efore', '2006Metso', '2006TJ', '2007', '20072008', '2007A', '2008', '200809', '20082009', '20082010', '2009', '20092012', '200DMA', '200EMA', '200d', '200day', '201', '2010', '20102013', '2010Kemira', '2011', '20112015', '2012', '2013', '2014', '2015', '2016', '2017', '203', '204', '205', '2051', '20520', '2055', '2057', '206', '207', '2071', '2076', '208', '2080', '2084', '209', '2094063', '20EMA', '20MA', '20mn', '20mn25mn', '20x', '21', '210', '2100', '21032011', '211', '2114', '21179', '212', '212030', '213', '21307', '2131', '2135', '214', '2146', '215000', '21503', '216', '2174', '2180', '21823', '219', '2193', '22', '220', '2200', '220000', '22008', '2205', '221', '22295', '223', '224', '225', '2253', '2259', '226', '2272', '229', '2290178475', '22999', '22US', '23', '230', '2300', '230000', '23002', '230s', '231', '2310', '232', '2325', '2326', '2329', '233', '23335', '2338392780', '234', '2342007', '2346', '23498', '235', '2354', '236', '2371', '2374', '238', '2389', '2391', '24', '240', '2400', '2404', '241', '2412', '2418', '242', '2424KOLNP2008', '2432', '24339', '244', '2448', '245', '245000', '2455', '24551', '24592', '246', '2462', '246367', '247', '248', '249', '249000', '2491', '24hour', '24inch', '24x', '25', '250', '2500', '25000', '250000', '2500passenger', '250bn', '251', '2510', '2518', '251867', '252', '2522', '25250', '253', '2532', '25349', '2535', '254', '2541', '2545', '255', '2553', '2556', '256', '25688', '257', '25700', '2575', '258', '25933', '2595', '2597', '25cm', '25gsm', '25mn', '26', '2600', '26000', '260000', '260000squarefoot', '26032010', '261', '2610', '262', '2621', '2623', '2659', '266', '267', '2670', '267mn', '268', '26862', '26885540', '269', '2691', '269481', '27', '270', '2700', '270000', '27021', '271', '2732B', '274', '274279', '275', '275000', '276', '2760', '2761', '2768', '277', '2770', '2779', '278', '279', '27mn', '28', '28022008', '2803', '281', '2814', '282000', '283', '2830', '284', '284mn', '286', '2864', '289', '2895', '29', '290', '2900', '29000', '29035foot', '29045', '2916', '292', '2924', '293', '294', '2951', '296', '29659239', '298', '2982', '2983', '299', '299000', '2991978', '29mn', '2G', '2Pricey', '2Q', '2bn', '2m', '2mn', '2nd', '2ndquarter', '2year', '3', '30', '300', '3000', '30000', '300000', '30012009', '3009', '300mn', '302', '30460', '305', '3056', '306', '3065', '306764', '3078', '308', '3080', '309', '3096', '30Minute', '30bn', '30k', '30minute', '30mn', '30s', '30year', '31', '310', '3106', '311', '3112', '3114', '313', '314', '314357', '315', '315055', '316', '317', '318000', '319000', '32', '320', '3200', '320000', '321', '3216', '322', '32266', '322705218', '3235', '325', '326percent', '327', '3286', '3296', '32bn', '33', '330', '3300', '330000', '331', '331000', '333', '333241', '334á323á6201', '335', '336', '337', '3370', '3378', '338', '3384', '339', '3398', '33percent', '34', '34000', '3404', '342', '3435', '347', '349', '3491', '35', '350', '3500', '35000', '350000', '351', '352', '353', '3538', '3539', '354', '355', '356', '358', '3582', '35870629000', '3588', '359', '3592', '35s', '36', '360', '360380', '360degree', '360yearold', '3611', '363', '364', '364000', '3644', '3646', '365', '366', '36780', '368', '3687', '368715', '369', '369000', '36m', '37', '370', '371', '371500', '372', '373', '374', '375', '3756', '3760', '377', '377000', '38', '380', '38000', '381', '38244', '383', '383000', '3840', '385', '385000', '386', '386530', '387', '388', '388000', '3885', '39', '390', '391630', '392', '3928', '393', '3931', '3932', '394', '395', '395000', '396', '3974', '398', '399', '3Auto', '3BP', '3C', '3D', '3ExBarclays', '3G', '3GHSPA', '3GSM', '3K', '3Q07', '3Stifel', '3bn', '3mn', '3month', '3rd', '3star', '3week', '3ya', '3year', '4', '40', '400', '40000', '400000', '400000000', '4004', '400mn', '401', '401800', '402', '403', '405', '406', '4060', '407', '408', '409665891', '41', '410', '412', '413', '414', '4149', '415', '415000', '416', '41733110', '418', '42', '420', '420000', '421000', '423', '424', '425', '4250', '426', '4271', '429', '43', '430', '430000', '431', '432', '432mn', '433', '434', '4350', '436', '437', '438', '4380', '4385', '439', '43pc', '44', '440', '441', '4416', '444', '445', '4458000', '4476751380', '448', '44million', '45', '450', '4500', '4503151380', '450k', '452', '4550', '457', '4572', '45780', '458', '45mn', '45tonne', '46', '460', '460000', '4608', '461', '462000', '4622', '4628', '463', '464', '4643', '465', '465000', '467', '46763', '47', '470', '4700', '47000', '471119', '4735', '474', '475', '4759', '477', '4787', '47percent', '48', '48012', '4805', '4807', '482', '483', '4831', '4836', '485', '4851', '486', '486969', '4877', '488', '48page', '49', '4901', '4914', '49200', '4929', '4943', '495', '496', '497', '498', '4985', '499', '4998', '4Britains', '4G', '4Q', '4Q07', '4S', '4W', '4bn', '4g', '4mn', '4th', '5', '50', '500', '5000', '50000', '500000', '5000060', '501percent', '5029', '502925', '504', '505', '5050', '5054', '509', '50DMA', '50M', '50MW', '50d', '50day', '50ma', '50mas', '50mn', '50sma', '51', '510', '512', '513', '516', '519', '52', '520', '5204', '521', '522', '523', '525', '5253', '5255667810', '526', '527', '529', '5299', '52week', '53', '530', '530773', '531', '5320XM', '533', '534', '5343', '535', '53mn', '54', '540', '5401', '542', '543', '544', '545', '549', '54percent', '55', '550', '5500', '550K', '551', '553', '554000', '555', '557', '5577', '56', '560', '561', '561470', '5636', '5649', '565', '5657', '565MW', '566', '567', '568', '569', '56955', '56pc', '57', '570', '5700', '571', '573', '575', '575000', '576', '577', '578100', '579', '579000', '5798', '58', '580', '5800', '584', '585', '585236987', '585US', '5865', '587', '589', '59', '591', '59249', '593', '5936700', '598', '599', '5Barclays', '5SABMiller', '5min', '5mn', '5star', '5th', '5year', '6', '60', '600', '6000', '60000', '600000', '600050', '6003', '600mn', '601', '60154', '604', '6050', '6067', '6070', '608', '609', '60percent', '61', '6110', '6120', '613', '6131', '614', '615', '617', '617á801á6888', '618', '61US', '62', '620', '6210', '622', '6220', '623', '623000', '624', '625', '626', '627000', '6291', '62httpstkscot0S0r', '63', '630', '6300', '63091', '631', '634', '635', '6350', '63mn', '64', '640', '6400', '64046460', '64299180', '644', '645', '6453', '65', '650', '6500334', '65200', '653', '654', '655', '6556', '659', '6594', '65mn', '66', '6613', '664', '664000', '665', '666104', '669000', '67', '670', '671', '6734', '6753', '678', '67c', '67mn', '68', '680000', '681', '682', '683', '686', '6865', '687', '6877', '688', '69', '692', '693', '6964', '697', '6mn', '6month', '7', '70', '700', '70000', '700000', '70116', '703', '704', '706', '70mn', '70s', '71', '7103', '7114', '712', '7162', '718430', '72', '720', '7200', '722007', '724', '72473', '725', '726', '72hrs', '73', '730', '7309', '730mn', '731', '7327', '73297', '734', '736', '7365', '74', '740', '7400', '741', '742', '743', '744', '745', '74612523', '75', '750', '750330', '75052523', '753', '754', '7597', '75cm', '76', '760000', '763mn', '765', '767', '769', '77', '7709', '774', '775', '7755', '7773477', '78', '780', '78017', '7804288', '781', '7847', '7853620', '7854608', '786', '7862685', '79', '7900', '79000', '792', '799', '7Year', '7day', '8', '80', '800', '8000', '800000', '800dwt', '8036', '80565', '806', '808', '808973', '80mn', '81', '810', '811', '813191', '814', '815', '81514', '8169', '817198', '819', '82', '821', '822', '8232', '825602', '825mn', '827', '83', '830', '834', '8342', '837', '84', '841', '8427', '845000', '849000', '85', '850', '850000', '85030', '851', '8531', '853742', '8543250', '854mn', '8561', '85mn', '86', '8600', '86000', '865', '867', '869', '86936', '87', '873', '877', '877417', '878', '8797', '88', '880000', '884000', '885', '88500', '888', '89', '890US', '891', '8ma', '8mn', '9', '90', '900', '900000', '900m', '901', '9019', '902', '90211860', '903', '9068', '909', '91', '911', '912', '915', '916', '92', '9200', '92007', '925', '926', '929', '93', '932', '933', '934000', '935', '936', '936480', '939', '939000', '94', '9400', '944', '945', '947', '948', '949', '9492', '95', '9500', '95000', '950mn1', '9526089', '953', '9540000', '958', '96', '960000', '963', '964', '966', '966351', '97', '970', '9708', '979', '98', '983', '989', '99000', '9910', '9923', '99483', '995', '99889', '99mn', '9K', '9mo', 'A1', 'A330', 'A350', 'A350900', 'AA', 'AAL', 'AAPL', 'AB', 'ABB', 'ABBV', 'ABC', 'ABLOY', 'ABN', 'ABP', 'AC', 'ACA', 'ACAD', 'ACANB', 'ACE', 'ACG1V', 'ACInvestorBlog', 'ACNielsen', 'ACOM', 'ACS', 'ADAC', 'ADBE', 'ADP', 'ADPnews', 'ADSK', 'ADX', 'ADate', 'AEGN', 'AET', 'AFE1V', 'AFFECTO', 'AFSI', 'AFX', 'AG', 'AGJ', 'AGM', 'AGN', 'AGU', 'AHL1V', 'AHMS', 'AHS', 'AHT', 'AK', 'AKS', 'ALD1V', 'ALDATA', 'ALERT', 'ALEXANDRIA', 'ALN1V', 'ALR', 'ALTR', 'AMCN', 'AMD', 'AMEAS', 'AMEX', 'AMGN', 'AMR', 'AMRN', 'AMS', 'AMTD', 'AMZN', 'ANALYSIS', 'ANALyst', 'ANDOR', 'ANNOUNCEMENT', 'ANSA', 'AOL', 'AP', 'APAC', 'APPLE', 'ARIA', 'ARM', 'ARNA', 'ART', 'ART1V', 'ARehu', 'ASA', 'ASCs', 'ASK', 'ASM', 'ASMB', 'ASMobile', 'ASOS', 'ASPO', 'ASSA', 'ASTX', 'ASX', 'ATHN', 'ATLAS', 'ATT', 'ATVI', 'AUG', 'AUSTIN', 'AVC', 'AVComparatives', 'AVGO', 'AVI', 'AWFUL', 'AWR', 'AXA', 'AXDX', 'AXP', 'Aaland', 'Aalto', 'Aaltonen', 'Aaron', 'Aava', 'Aazhang', 'Ab', 'Abandons', 'Abbott', 'Aberdeen', 'Abidjan', 'Abloy', 'Aboavista', 'Abp', 'Abramov', 'Abramovich', 'Absolut', 'Academics', 'Acando', 'Accelerate', 'According', 'Accountant', 'Accounting', 'Accumulation', 'Acerta', 'Ackman', 'Acquire', 'Acquired', 'Acquires', 'Acquisition', 'Acquisitions', 'Act', 'Actelion', 'Acting', 'Action', 'Actions', 'Active', 'Activision', 'Activities', 'Actually', 'Ad', 'Adak', 'Adams', 'Adanac', 'Added', 'Additional', 'Additionally', 'Adds', 'Addus', 'AdeS', 'Adjusted', 'Adjustment', 'Administration', 'Admiral', 'Adobe', 'Advertising', 'Advisory', 'Aer', 'Aero', 'Aeronautic', 'Affairs', 'Affarsvarlden', 'Affecto', 'AffectoGenimap', 'Affirms', 'Africa', 'Africaand', 'African', 'Agency', 'Agenda', 'Aggreko', 'Agree', 'Agreed', 'Agreement', 'Agreements', 'Agricole', 'Agricultural', 'Agriculture', 'Agro', 'Ahlstrom', 'Aho', 'Ahola', 'Ahold', 'Ahvenainen', 'Ailus', 'Air', 'Airbus', 'Airline', 'Airlines', 'Airtel', 'Airvana', 'Airways', 'Aker', 'Akseli', 'Aktia', 'Alabama', 'Aladdin', 'Alakoski', 'Alandsbanken', 'Alberta', 'Aldata', 'Aldi', 'Aleksandri', 'Aleksanterinkatu', 'Alexander', 'Alfa', 'Alfred', 'Algeria', 'Alholma', 'Alibaba', 'Alior', 'Alise', 'AllStarCharts', 'Allan', 'Allergen', 'Alliance', 'Allonen', 'Allowance', 'Allstock', 'Allure', 'Alma', 'Almaty', 'Almost', 'Alpha', 'Alphabet', 'Alpina', 'Alpro', 'Also', 'Altadis', 'Altaienergosbyt', 'Alteams', 'Altia', 'Altima', 'Altimo', 'Altogether', 'Altona', 'Aluminij', 'Aluminium', 'Aluminum', 'Alus', 'Amanda', 'Amazing', 'Amazon', 'Amazons', 'Ambassador', 'Amber', 'Ambitions', 'Amer', 'America', 'American', 'Americas', 'Ameriprice', 'Amid', 'Among', 'Amro', 'Amsterdam', 'Anaesthetics', 'Analysis', 'Analyst', 'Analysts', 'Analytics', 'Anasmotet', 'Andalusia', 'Andhra', 'Andrew', 'Andrey', 'Andrius', 'Android', 'Andy', 'Angeles', 'Angelesbased', 'Anglo', 'Angola', 'AnheuserBusch', 'Anne', 'Anneli', 'Announce', 'Announcement', 'Announces', 'Annual', 'Annvik', 'Another', 'Anrak', 'Antniemi', 'Antonio', 'Antti', 'Anttila', 'Antwerp', 'Apart', 'Apartments', 'Apetit', 'Apollo', 'Apple', 'Applicant', 'Application', 'Applications', 'Appoint', 'Appoints', 'Approval', 'Approve', 'Approves', 'Approximately', 'Apr', 'April', 'AprilJune', 'AprilOctober', 'Arab', 'Arabia', 'Arabian', 'Arabized', 'Aramco', 'Arbidans', 'ArcelorMittal', 'Archer', 'ArchestrA', 'ArchiCAD', 'Area', 'Areas', 'Arena', 'Areva', 'Argentina', 'Argentine', 'Argus', 'Arm', 'Army', 'Arokarhu', 'Around', 'Arques', 'Art', 'Artemis', 'Artemyev', 'Arteva', 'Articles', 'Arto', 'Arts', 'Arvo', 'Asahi', 'Ascending', 'Asda', 'Asfaltti', 'Ashley', 'Ashtead', 'Ashutosh', 'Asia', 'AsiaPacific', 'Asian', 'Asokan', 'Aspen', 'Aspo', 'Aspocomp', 'Aspokem', 'Assa', 'Asset', 'Assets', 'Associated', 'Associates', 'Association', 'Astana', 'AstraZeneca', 'AstraZenecas', 'Astrazeneca', 'Atom', 'Atomic', 'Atria', 'Attack', 'Auburn', 'Audi', 'Auditors', 'Aug', 'August', 'AugustOctober', 'Aulasmaa', 'Aura', 'Aussage', 'Australia', 'Australian', 'Austria', 'Austrian', 'Authority', 'Auto', 'Autocharts', 'Automation', 'Automotive', 'Autonomous', 'Autotank', 'Avalon', 'Avena', 'Avenue', 'Avesta', 'Aviation', 'Avista', 'Aviva', 'Avivas', 'Award', 'Awards', 'Axa', 'Axe', 'B', 'B2B', 'B2C', 'BA', 'BABA', 'BABY', 'BAC', 'BAE', 'BANG', 'BARC', 'BASWARE', 'BAT', 'BAVARIA', 'BAWAG', 'BB', 'BBBY', 'BBCN', 'BBH', 'BBM', 'BBRY', 'BBVA', 'BCS', 'BCTMP', 'BEIJING', 'BES10', 'BG', 'BHP', 'BIB', 'BIM', 'BIOBV', 'BIOC', 'BITA', 'BIV', 'BJ', 'BK', 'BLRX', 'BLUE', 'BM4', 'BMO', 'BNO', 'BNPP', 'BNS', 'BNamericas', 'BO', 'BOBE', 'BOM', 'BONE', 'BOUGHT', 'BP', 'BPHs', 'BPI', 'BPM', 'BRCM', 'BRIEF', 'BRIEFAviva', 'BRIEFING', 'BRIEFLegal', 'BRKB', 'BSSOSS', 'BTO', 'BTS', 'BTT1023', 'BULLETIN', 'BULLISH', 'BULLYA', 'BUSINESS', 'BUY', 'BUYPrice', 'BV', 'BVHealthcare', 'BWLD', 'BXS', 'Babcock', 'Back', 'Backup', 'Baer', 'Bagdonas', 'Bahia', 'Bahr', 'Bahrain', 'Baird', 'Bakman', 'Bakosch', 'Baldauf', 'Balfour', 'Bali', 'Balti', 'Baltic', 'Baltica', 'Baltics', 'Baltimore', 'Banco', 'Bancorp', 'BancorpSouth', 'Bangalore', 'Bangalorebased', 'Bangkok', 'Bank', 'Banken', 'Banking', 'Banks', 'Bankó', 'Bao', 'Bar', 'Barcelona', 'Barclays', 'Barratt', 'Barrons', 'Barstow', 'Barum', 'BasWare', 'Base', 'Based', 'Basel', 'Basic', 'Basing', 'Basket', 'Basware', 'Batam', 'Battle', 'Bavarian', 'Bavelloni', 'Baxalta', 'Bay', 'Bearish', 'Bears', 'Beat', 'Beatriz', 'Beatty', 'Beckham', 'Becky', 'Beef', 'Beer', 'Beginning', 'Behnaam', 'Beijing', 'Belarus', 'Belchatow', 'Belgian', 'Belgium', 'BelttonGroup', 'Belvedere', 'Benecol', 'Benefon', 'Benelux', 'Bentos', 'Bergvik', 'Berkshire', 'Berling', 'Bernhard', 'Bertrand', 'Besides', 'Best', 'BestIn', 'BetaTester', 'Betoni', 'Betonituote', 'Beverage', 'Beverages', 'Beyond', 'Bhushan', 'Bia', 'Bid', 'Bidding', 'Bids', 'Big', 'BigMac', 'Bilfinger', 'Billing', 'Billion', 'Billions', 'Billiton', 'Billitons', 'Binkster69', 'Bio', 'BioTherapeutics', 'BioTie', 'BioView', 'Biocare', 'Biohit', 'Biologicals', 'Biotie', 'Birmingham', 'Bjorn', 'BjÂrn', 'Black', 'BlackBerry', 'Blackstone', 'Blessing', 'Blinkbox', 'Blizzard', 'Block', 'Bloomberg', 'Bluebird', 'Bluewin', 'Blyk', 'Bo', 'BoD', 'Board', 'Boardman', 'Boats', 'Bochum', 'Body', 'Boeing', 'Boerse', 'BoerseLSE', 'BofA', 'Bohemia', 'Bollore', 'Bonds', 'Boni', 'Book', 'Books', 'Boomerang', 'Boomeranger', 'Boost', 'Borba', 'Bordeaux', 'Border', 'Bore', 'Borealis', 'Borlñnge', 'Boschbased', 'BosniaHerzegovina', 'Bosse', 'Boston', 'Bothnia', 'Bottom', 'Bought', 'Bounce', 'Bounced', 'Boute', 'Bovine', 'Bower', 'Boy', 'Branch', 'Brand', 'Branding', 'Brands', 'Brandúo', 'Brasil', 'Bratislava', 'Bratsk', 'Brazil', 'Brazilian', 'Breadth', 'Break', 'Breaking', 'Breakingviews', 'Breakout', 'Breakup', 'Brent', 'Bretagne', 'Brewer', 'Brewers', 'Brewerton', 'Brewing', 'Brexit', 'Brian', 'Bribery', 'Bricolage', 'Bridgestone', 'Bright', 'Bring', 'Brinkab', 'Brista', 'Bristol', 'Britain', 'Britains', 'British', 'Britvic', 'Brno', 'Broadband', 'Broadcast', 'Broken', 'Broker', 'BrooklynBandit', 'Bros', 'Brothers', 'Brussels', 'Brydon', 'Bseries', 'Buckeye', 'Budapest', 'Budget', 'BuenavistaCuautitlan', 'Buffett', 'Buffetts', 'Builder', 'Building', 'Bukoba', 'Bulgaria', 'Bullhorn334', 'Bullish', 'Bulls', 'Bunge', 'Bunny', 'Bunzl', 'Buoyed', 'Burberry', 'Burrill', 'Burt', 'Burton', 'Buses', 'Business', 'Buster', 'Button', 'Buy', 'Buyback', 'Buyer', 'Buying', 'Buyout', 'Buys', 'Bylander', 'Byline', 'BÃ¶rse', 'C', 'CA', 'CAD', 'CADmodelling', 'CAFN', 'CAGR', 'CALL', 'CAMT', 'CAP', 'CAPITAL', 'CAT', 'CBA', 'CBD', 'CBS', 'CC', 'CCS', 'CDLI', 'CDMA', 'CDP', 'CDTI', 'CEE', 'CEIVD', 'CELG', 'CEO', 'CEOs', 'CERN', 'CET', 'CF2', 'CFO', 'CFR', 'CFSB', 'CGCBV', 'CGrantWSJ', 'CHARGZ', 'CHARTS', 'CHF', 'CHKP', 'CHP', 'CHRM', 'CHRoark', 'CHS', 'CHU', 'CIB', 'CIDCO', 'CIEN', 'CIP', 'CJSC', 'CLNE', 'CNBC', 'CNC1V', 'CNDO', 'CNL', 'CNP', 'CNPC', 'CNPClosed', 'CO2', 'COCA', 'COG', 'COH', 'COLA', 'COMMUNICATIONS', 'COMPANY', 'COMPOSITES', 'COMPTEL', 'COMTEX', 'CONFERENCE', 'CONFIRMED', 'COO', 'COPYRIGHT', 'CORP', 'CORPORATE', 'CORPORATION', 'CORRECTEDShire', 'COSCO', 'COST', 'CPGX', 'CPH', 'CPIX', 'CPPs', 'CPS', 'CPXX', 'CR', 'CRH', 'CRHs', 'CRK', 'CRM', 'CROSSOVER', 'CROX', 'CRUS', 'CS', 'CSCO', 'CSES', 'CSX', 'CTH1V', 'CTO', 'CTRP', 'CTS', 'CTXS', 'CU', 'CUT', 'CV', 'CVC', 'CVD', 'CVS', 'CVX', 'CVs', 'CW', 'CXE', 'CYTX', 'Cable', 'Cables', 'Cablevision', 'Cableway', 'Cabot', 'Cachet', 'Cadbury', 'Cadburys', 'Cairn', 'CaixaBank', 'Caixabank', 'Calafate', 'Calais', 'Calif', 'Califbased', 'California', 'Call', 'Calling', 'Calls', 'Camara', 'Came', 'Cameco', 'Campbell', 'Campofrio', 'Canada', 'Canadas', 'Canadian', 'Canal', 'Cancer', 'Candlestick', 'Cannedpreserved', 'Cannon', 'Cap', 'CapMan', 'Capacity', 'Capcom', 'Capital', 'Capitex', 'Capman', 'Caprelsa', 'Capture', 'Car', 'Carbon', 'Cardona', 'Cards', 'Cargo', 'Cargotec', 'Carl', 'Carlshamn', 'Carnival', 'Carolina', 'Carphone', 'Carphones', 'Carriers', 'Cash', 'CashCow', 'Casinos', 'Casper', 'Castecka', 'Castell', 'Castle', 'Catalysts', 'Category', 'Caterpillar', 'Caverion', 'Cayman', 'Cellular', 'Celtnieciba', 'Celular', 'Celulose', 'Cement', 'Cencorp', 'Center', 'Central', 'Centre', 'Centres', 'Centrica', 'Ceramic', 'Cerberus', 'Cerner', 'Certified', 'Chaim', 'Chain', 'Chairman', 'Chamber', 'Chambersburg', 'Chameleon', 'Changed', 'Changes', 'Changshu', 'Channel', 'Chapter', 'Charge', 'Charging', 'Charlotte', 'Chart', 'Chartered', 'Chartereds', 'Chartology', 'Charts', 'Chase', 'Chasing', 'Chaudhuri', 'Chelyabinsk', 'Chemical', 'Chemicals', 'Chennai', 'Chevron', 'Chic', 'Chicago', 'Chicagobased', 'Chief', 'Chikunov', 'Chile', 'Chime', 'China', 'Chinas', 'Chinese', 'Chirnside', 'Choice', 'Choose', 'Christian', 'Christmas', 'Christopher', 'Cido', 'Cinema', 'Circulation', 'Cisco', 'Cision', 'Citadele', 'Citi', 'Citigroup', 'Citrix', 'City', 'City24', 'Citycon', 'Civil', 'Claims', 'Class', 'Classic', 'Classroom', 'Clausen', 'Clearing', 'Click', 'Client', 'Cliffton', 'Climb', 'Climbs', 'Close', 'Closed', 'Closing', 'Clothing', 'Cloud', 'Club', 'Clubcard', 'Co', 'CoOperation', 'Coast', 'Coatings', 'CocaCola', 'Cockroft', 'Code', 'Coffee', 'Cohen', 'Coke', 'Collaboration', 'Collective', 'Collins', 'Columbia', 'Combined', 'Combines', 'Combining', 'Comcasts', 'Come', 'Comes', 'Coming', 'Commencing', 'Commented', 'Commenting', 'Commerce', 'Commercial', 'Commercialise', 'Commerzbank', 'Commission', 'Committee', 'Commodities', 'Commodity', 'Communication', 'Communications', 'Communities', 'Community', 'Compagnie', 'Companies', 'CompaniesAB', 'CompaniesActelion', 'CompaniesCar', 'CompaniesDiageo', 'CompaniesDixons', 'CompaniesFresnillo', 'CompaniesHome', 'CompaniesHoward', 'CompaniesKingfisher', 'CompaniesLSE', 'CompaniesMeggitt', 'CompaniesNew', 'CompaniesTesco', 'CompaniesTravis', 'CompaniesUnilever', 'CompaniesandMarketscom', 'Company', 'Comparable', 'Compared', 'Compass', 'Competing', 'Competition', 'Complete', 'Completion', 'Compliance', 'Component', 'Componenta', 'Components', 'Composites', 'Compression', 'Comptel', 'Compton', 'Computer', 'Computerrelated', 'ConAgra', 'Conciliator', 'Conference', 'Conferences', 'Congrats', 'Congress', 'Connectivity', 'Connector', 'Connolly', 'Connors', 'Considering', 'Consisting', 'Consolidated', 'Consolidates', 'Construction', 'ConstructionReal', 'Consultancy', 'Consumer', 'Consumers', 'Consumption', 'Container', 'Contempus', 'Content', 'Contest', 'Continental', 'Continue', 'Continues', 'Continuing', 'Contract', 'Contracting', 'Controller', 'Controlling', 'Controls', 'Converged', 'Convergence', 'Convergent', 'Conversations', 'Convertible', 'Cooper', 'Cooperative', 'Copenhagen', 'Copper', 'Copyright', 'Coq', 'Core', 'Corp', 'Corporate', 'Corporation', 'Coscom', 'Cost', 'Costanza', 'Costco', 'Could', 'Council', 'Countdown', 'Counter', 'Countries', 'Country', 'Court', 'Coutts', 'Covered', 'Cowie', 'Cramers', 'Cramo', 'Crane', 'Crazy', 'Create', 'Creating', 'Creativity', 'Crecent', 'Credit', 'Creme', 'Crest', 'Critch', 'Critics', 'Croda', 'Crossovers', 'Crown', 'Crucially', 'Cruise', 'Cukurova', 'Cumberland', 'Cumerio', 'Cup', 'Curators', 'Curbed', 'Currency', 'Current', 'Currently', 'Customer', 'Customers', 'Cut', 'Cuts', 'Cyber', 'Cybercom', 'Cymed', 'Czech', 'CzechRepublic', 'DALLASCity', 'DANSKE', 'DARA', 'DART', 'DAY', 'DB', 'DBO', 'DBS', 'DC', 'DCTH', 'DCUC', 'DDD', 'DECEMBER', 'DGI', 'DIA', 'DIG1V', 'DINH', 'DIPS', 'DISH', 'DJ', 'DJI', 'DJIA', 'DJSI', 'DKK250', 'DMA', 'DMASIA16', 'DMND', 'DNA', 'DNAbased', 'DNF', 'DNKN', 'DNN', 'DOK', 'DOW', 'DPZ', 'DSO1V', 'DT', 'DUG', 'DVAX', 'DVBH', 'DVD', 'DWA', 'DX', 'DXCM', 'Dagens', 'DahlstrÂm', 'Daiichi', 'Daily', 'DailyMail', 'Dalborg', 'Danish', 'Dans', 'Danske', 'Dasan', 'Dash', 'Data', 'Date', 'Daughters', 'Dave', 'David', 'Davies', 'Dax', 'Daxtum', 'Day', 'De', 'DeLight', 'DeRamus', 'Deal', 'Dealers', 'Debenhams', 'Debt', 'Dec', 'December', 'Decent', 'Decisions', 'Decker', 'Deer', 'Deere', 'Defends', 'Defense', 'Degeneration', 'Degerfors', 'Deka', 'Delhaize', 'Delhi', 'Deliveries', 'Delivers', 'Delivery', 'Delta', 'Demand', 'Demonstrations', 'Den', 'Denied', 'Denies', 'Denmark', 'Denver', 'Department', 'Depending', 'Depositary', 'Depository', 'Depresses', 'Deputy', 'Desano', 'Desarrollo', 'Descending', 'Design', 'DesignTalo', 'Designed', 'Despite', 'Destia', 'Det', 'Details', 'Detector', 'Detroit', 'Deutsche', 'Development', 'Device', 'DiaPol', 'Diageo', 'Diagnostics', 'Dialog', 'Diameter', 'Dibba', 'Diego', 'Dietz', 'Digia', 'Digicel', 'Digital', 'Digitalmediaasiacom', 'Digs', 'Diligence', 'Dillon', 'Diluted', 'Dinmukhamet', 'Dinner', 'Dino', 'Dinosaurs', 'Dips', 'Direct', 'Directed', 'DirectionshttpstkscosOwG', 'Director', 'Directors', 'Dirk', 'Disclosure', 'Disk', 'Dismisses', 'Distribution', 'District', 'Disturbing', 'Divest', 'Divestment', 'Divided', 'Dividend', 'Dividends', 'Division', 'Divisions', 'Dixons', 'Dlerch', 'DnB', 'DoCoMo', 'Documents', 'Doering', 'Dohle', 'Dojiknows', 'Doktas', 'DokuMentori', 'Dokumculuk', 'Dolce', 'Dollar', 'Dollars', 'Dominos', 'Donald', 'Donations', 'Done', 'Dongguan', 'Dont', 'Doobie', 'Dopplr', 'Doprava', 'Doring', 'Dormus', 'Double', 'Doubts', 'Dover', 'Dovre', 'Dow', 'Downgrade', 'Downgraded', 'Downside', 'Dragonfly', 'Drillisch', 'Drive', 'Drop', 'Drug', 'Drugmaker', 'Dubai', 'Dubna', 'Due', 'Duet', 'Dukat', 'Dulai', 'Dundrum', 'Dunelm', 'Durham', 'Dusseldorf', 'Dutch', 'Dyax', 'Dynamic', 'Dynamics', 'E', 'E20', 'E300', 'E36', 'E45', 'E50', 'E51', 'E60', 'E61E61i', 'E62', 'E63', 'E65', 'E658', 'E66', 'E7', 'E70', 'E71', 'E72', 'E90', 'EA', 'EADS', 'EARLY', 'EB', 'EBAY', 'EBG1V', 'EBIT', 'EBITA', 'EBITDA', 'EBITis', 'EBRD', 'ECB', 'EDU', 'EE', 'EEK', 'EET', 'EFI', 'EFO1V', 'EFUT', 'EGHT', 'EGM', 'EI', 'EIOF', 'ELI1V', 'ELIiV', 'ELL', 'ELN', 'ELQAV', 'EM', 'EMC', 'EMI', 'EMS', 'EMSA', 'EMTN', 'ENBCA', 'ENDP', 'ENP', 'ENSO', 'EOD', 'EOSS', 'EOU', 'EOne', 'EPA', 'EPHC', 'EPI', 'EPS', 'EQ', 'EQT', 'ER', 'ERCs', 'ERO', 'ERP', 'ERs', 'ES', 'ESF', 'ESI', 'ESL', 'ESPN', 'ETE', 'ETN', 'ETSI', 'EU', 'EUA', 'EUAPWR', 'EUR', 'EUR0', 'EUR091', 'EUR1', 'EUR10', 'EUR106', 'EUR107', 'EUR108', 'EUR11', 'EUR111', 'EUR1149', 'EUR11m', 'EUR12', 'EUR120m', 'EUR121m', 'EUR125', 'EUR127', 'EUR12m', 'EUR13', 'EUR131', 'EUR131m', 'EUR139m', 'EUR14', 'EUR143', 'EUR15', 'EUR150m', 'EUR152', 'EUR1520m', 'EUR155', 'EUR156', 'EUR157', 'EUR159', 'EUR15m', 'EUR16', 'EUR160m', 'EUR167', 'EUR16m', 'EUR17', 'EUR177', 'EUR179', 'EUR17m', 'EUR18', 'EUR182', 'EUR19', 'EUR193', 'EUR196', 'EUR1bn', 'EUR2', 'EUR20', 'EUR201', 'EUR20m', 'EUR21', 'EUR21m', 'EUR22', 'EUR23', 'EUR230', 'EUR235', 'EUR25', 'EUR250m', 'EUR259m', 'EUR25m', 'EUR26', 'EUR27', 'EUR27m', 'EUR28', 'EUR29', 'EUR297', 'EUR29m', 'EUR2m', 'EUR3', 'EUR30', 'EUR300', 'EUR30m', 'EUR32', 'EUR320', 'EUR33m', 'EUR342', 'EUR35', 'EUR360', 'EUR36m', 'EUR38', 'EUR386', 'EUR394', 'EUR39m', 'EUR3m', 'EUR4', 'EUR400m', 'EUR40m', 'EUR415', 'EUR416', 'EUR41m', 'EUR42', 'EUR422', 'EUR42m', 'EUR43', 'EUR438m', 'EUR45m', 'EUR46', 'EUR46m', 'EUR47', 'EUR472m', 'EUR484m', 'EUR5', 'EUR500', 'EUR50m', 'EUR510m', 'EUR53m', 'EUR55', 'EUR550m', 'EUR58', 'EUR582', 'EUR58m', 'EUR59', 'EUR598', 'EUR59m', 'EUR5m', 'EUR6', 'EUR609m', 'EUR61', 'EUR61m', 'EUR63', 'EUR634', 'EUR64', 'EUR647m', 'EUR65', 'EUR655', 'EUR655m', 'EUR65m', 'EUR67', 'EUR683', 'EUR6m', 'EUR7', 'EUR700', 'EUR70m', 'EUR73', 'EUR732m', 'EUR74', 'EUR74m', 'EUR75m', 'EUR76m', 'EUR7m', 'EUR8', 'EUR80m', 'EUR86', 'EUR860m', 'EUR9', 'EUR900', 'EUR91', 'EUR928', 'EUR93', 'EUR94m', 'EUR97m', 'EUR98m', 'EUR995', 'EURO', 'EURUSD', 'EUbased', 'EV', 'EVERYONES', 'EVP', 'EW', 'EWBC', 'EXAS', 'EXCHANGE', 'EXCLUSIVEBP', 'EXEL', 'EXPE', 'EYE', 'Eagle', 'Earlier', 'Earnings', 'East', 'Easter', 'Eastern', 'Easy', 'EasyJet', 'Eataly', 'Eaton', 'Eberl', 'Eclipse', 'Eco', 'Economic', 'Economics', 'Ecuador', 'Edgar', 'Edita', 'EditorinChief', 'EditorsinChief', 'Edmonds', 'Eero', 'Eesti', 'Effect', 'Efficiency', 'Efforts', 'Efore', 'Egan', 'Egeszsegbolt', 'Eggs', 'Egypt', 'Egyptian', 'Ehitus', 'Eidesvik', 'Eightday', 'Eijkens', 'Eila', 'Einvoices', 'Ekaterinburg', 'Eklund', 'Elcoteq', 'Elected', 'Electric', 'ElectricCar', 'Electricity', 'Electronic', 'Electronics', 'ElectrowattEkono', 'Elektrobit', 'Elektros', 'Eli', 'Elimaki', 'Elisa', 'Elite', 'Eloholma', 'Elsevier', 'Elsewhere', 'Embrace', 'Emerging', 'EmergingMarkets', 'Emirate', 'Emirates', 'Emmy', 'Employees', 'Employment', 'Empresa', 'Enclosed', 'End', 'Endo', 'Endofday', 'Endowment', 'Endustri', 'Enefit', 'Enefit280', 'Energia', 'Energy', 'Enexis', 'Eng', 'Engadget', 'Engine', 'Engineering', 'Engineers', 'England', 'English', 'Engulfing', 'Ennismore', 'Enough', 'Enskilda', 'Enso', 'Ensure', 'Ent', 'Entering', 'Enterprise', 'Entertainment', 'Entire', 'Entreprenad', 'Entreprenor', 'Environment', 'Equipment', 'Equities', 'Equity', 'Erdenet', 'Ergo', 'Ericsson', 'Eriikka', 'Eriksson', 'Erkki', 'Eronen', 'Ervi', 'Ervio', 'Esa', 'Escape', 'Eseries', 'Esko', 'Espana', 'Espoo', 'Espoon', 'Esports', 'Essar', 'Essence', 'Essent', 'Established', 'Establishes', 'Estate', 'Estates', 'Estimations', 'Estonia', 'Estonian', 'Estonianowned', 'Etera', 'Ethanol', 'Ethernet', 'Ethibel', 'EttH', 'Etteplan', 'Eukor', 'Euribor', 'Euro', 'EuroChem', 'Eurobond', 'Euronext', 'Europe', 'European', 'Europeanwide', 'Europolitan', 'Euros', 'Evaluating', 'Evasion', 'Eventim', 'Everest', 'Every', 'Everywhere', 'Evil', 'Evli', 'Evraz', 'ExCentrica', 'Exact', 'Excellence', 'Excellent', 'Exchange', 'Exchanges', 'Excluding', 'Executive', 'Exel', 'Exhibition', 'Expands', 'Expansion', 'Expected', 'Expects', 'Expense', 'Expenses', 'Experience', 'Expiry', 'Exploration', 'Explores', 'Expo', 'Export', 'Exporters', 'Exports', 'Exposure', 'Express', 'Extension', 'External', 'Extraordinary', 'Exxon', 'ExxonMobil', 'F', 'FAB', 'FACE', 'FAST', 'FAZ', 'FB', 'FBR', 'FCC', 'FCU', 'FDA', 'FEBRUARY', 'FEDDAY', 'FEMSA', 'FGL', 'FH', 'FIA1S', 'FIM', 'FIO', 'FISAS', 'FISHING', 'FISV', 'FITZSTOCK2004', 'FIX', 'FKI', 'FL', 'FLSmidth', 'FMCN', 'FMS', 'FR', 'FRANCISCO', 'FREE', 'FRN', 'FRP', 'FSecure', 'FT', 'FTCnobody', 'FTI', 'FTSE', 'FTTH', 'FXE', 'FY16', 'FZC', 'Facebook', 'Facebooks', 'Facing', 'Facts', 'Faculty', 'Failings', 'Fairpoint', 'Fall', 'Fancy', 'Fantuzzi', 'Far', 'Fargo', 'Farm', 'Farmer', 'Farms', 'FastJet', 'Fastenal', 'Faulty', 'Favourable', 'Fears', 'Featuring', 'Feb', 'February', 'Federal', 'Federation', 'Fee', 'Feed', 'FeedFTSE', 'FeedSchroders', 'Fenestra', 'Fennia', 'Ferguson', 'Ferries', 'Ferry', 'Fesco', 'Fiber', 'Fidelity', 'Field', 'Fifth', 'Files', 'Filipino', 'Filmiteollisuus', 'Filter', 'Fimentor', 'Finance', 'Financement', 'Finances', 'Financial', 'FinancialWire', 'Financing', 'Finans', 'Finbow', 'Findest', 'Finding', 'Fine', 'Fined', 'Finfiz', 'Fing', 'Fingers', 'Finieris', 'Finlan', 'Finland', 'Finlandbased', 'Finnair', 'Finncomm', 'Finnegans', 'Finnfund', 'Finnish', 'FinnishGerman', 'FinnishRussian', 'FinnishSwedish', 'Finnishmade', 'Finnishness', 'Finnishowned', 'Finnlines', 'Finns', 'Fintech', 'Finton', 'Fire', 'Fireplaces', 'First', 'FirstAlert', 'FirstQuarter', 'Fischer', 'Fish', 'Fishing', 'Fiskars', 'Fitch', 'Fitzgerald', 'Fixed', 'FixedtoMobile', 'Flagged', 'Flat', 'Flatiron', 'FletchTrade', 'Flexi', 'Flexible', 'Flexiblebaseloadoperation', 'Float', 'Florida', 'Flow', 'Flurry', 'Flykt', 'Fokker', 'Follow', 'Followed', 'Following', 'Follum', 'Foncier', 'Food', 'Foods', 'Foodservice', 'Foothold', 'Ford', 'Foreign', 'Forest', 'Forestal', 'Forestries', 'Forestry', 'Forget', 'Form', 'Former', 'Forssa', 'Forssan', 'Fortitude', 'Fortum', 'Fortune', 'Forward', 'Foundation', 'Founded', 'Foundries', 'Fr0van', 'France', 'Franchise', 'Francisco', 'Frank', 'Frankfurt', 'Fray', 'Fredrik', 'Free', 'Freenet', 'Frei', 'Freight', 'FremantleMedia', 'French', 'Frenzy', 'Frequency', 'Fresh', 'Friday', 'Fridays', 'Friedlander', 'Friends', 'Friman', 'Froh', 'Frolov', 'Frost', 'Frozen', 'FttH', 'Fujairah', 'Fujitsu', 'Fulfillment', 'Full', 'Fullyear', 'Fund', 'Funds', 'Funny', 'Furniture', 'Furthermore', 'Furusund', 'FusionIQ', 'Future', 'Futures', 'G', 'G2', 'G4S', 'GALE', 'GAP', 'GASCO', 'GBX10', 'GBX12', 'GDF', 'GDP', 'GDX', 'GDXJ', 'GE', 'GENEVA', 'GEO1V', 'GET', 'GEVO', 'GHG', 'GHz', 'GILD', 'GKN', 'GLA1V', 'GLD', 'GLOBE', 'GMCR', 'GME', 'GMO', 'GMT', 'GNRC', 'GOGO', 'GOLD', 'GOLUpdating', 'GOOG', 'GOOGL', 'GPRO', 'GPRS', 'GPS', 'GRC', 'GROWING', 'GRPN', 'GS', 'GSK', 'GSM', 'GTAT', 'GTE', 'GTS', 'GUANGDONG', 'GVP', 'GW', 'GWR', 'GWW', 'Ga', 'Gabbana', 'Gain', 'Gainers', 'Gaining', 'Gains', 'Galeria', 'Galerie', 'Gallerix', 'Gallup', 'Galvan', 'Gama', 'Gambro', 'Game', 'Gansu', 'Gap', 'Garden', 'Gardner', 'Garmin', 'Garner', 'Garry', 'Gartner', 'Gas', 'Gasconversions', 'Gavin', 'Gavrilov', 'Gawker', 'Gazprom', 'GazpromShell', 'Geberit', 'Gemalto', 'GenVec', 'General', 'Generally', 'Generals', 'Generic', 'Genesis', 'Genius', 'GeoSentric', 'GeoSolutions', 'Geographic', 'George', 'Gerber', 'German', 'Germanwings', 'Germany', 'Germanys', 'Get', 'Getinge', 'Gets', 'Ghana', 'Giant', 'Gibtelecom', 'Gilchrist', 'Gilead', 'Gill', 'Gilligans', 'Giraffe', 'Glasgow', 'Glass', 'Glaston', 'GlaxoSmithKline', 'GlaxoSmithKlines', 'Glaxos', 'Glencore', 'Gleneagles', 'Glisten', 'Global', 'Globes', 'Gloriya', 'GmbH', 'Gnter', 'Go', 'Gogol', 'Going', 'Gold', 'Golden', 'Goldman', 'Good', 'Goods', 'Goodwill', 'Goodwin', 'Goodyear', 'Google', 'Got', 'Gothenburg', 'Gotta', 'Governance', 'Government', 'Grain', 'Gran', 'Grannan', 'Grapevine', 'Graphic', 'Gratuitous', 'Gray', 'Great', 'Greek', 'Green', 'Greene', 'Greensmith', 'Grid', 'Grieg', 'Grimaldi', 'Grodno', 'Groep', 'Grolsch', 'Grounds', 'Group', 'Groupe', 'Groupon', 'Groups', 'GrowHow', 'Grows', 'Growth', 'Grupe', 'Gruppen', 'Guangdong', 'Guard', 'Guatemala', 'Guder', 'Guinea', 'Guineabased', 'Gulf', 'Gundlach', 'Gunneflo', 'Gustav', 'GyPSii', 'GyPSiipowered', 'H1', 'HAL', 'HBOS', 'HCP', 'HD', 'HDGE', 'HDSI', 'HEL', 'HELSINKI', 'HFC', 'HIGH', 'HIGHS', 'HITK', 'HK', 'HKSE', 'HKScan', 'HLF', 'HM', 'HMI', 'HOD', 'HOLD', 'HP', 'HPQ', 'HR', 'HRL', 'HS', 'HSBC', 'HSC', 'HSEA', 'HSPA', 'HSS', 'HTML', 'HUHTAMAKI', 'HYG', 'HZNP', 'Ha', 'Haakon', 'Haapakoski', 'Haavisto', 'Haikarainen', 'Haiti', 'Hall', 'HallbergIvarsson', 'Halliburton', 'Halonen', 'Hamburg', 'Hameenlinna', 'Hamina', 'Hammaslaakarit', 'Hammer', 'Hammerson', 'Hampden', 'Hampshire', 'Handelsbanken', 'Handler', 'Handling', 'Hang', 'Hangasjarvi', 'HankkijaMaatalous', 'HankoMantsalaPorvoo', 'Hanna', 'Hannaford', 'Hanninen', 'Hannu', 'Hanoi', 'Hans', 'HansOtto', 'Hansen', 'Hantila', 'Happy', 'Harald', 'Harbour', 'Hard', 'Hargreaves', 'Harkonen', 'Harnosand', 'Harold', 'Harple', 'Harri', 'Harrison', 'Hartford', 'Hartwall', 'Hassela', 'Hassinen', 'Hastings', 'Hathaway', 'Hathaways', 'Hattersley', 'Haug', 'Hautaniemi', 'Hayward', 'Head', 'HeadShoulders', 'Headquartered', 'Headquarters', 'Health', 'Healthcare', 'Hearst', 'Heart', 'Heartburn', 'Heathrow', 'Heatmasters', 'Heats', 'Heavy', 'Heed', 'Heeeeeere', 'Heikki', 'Heikkilñ', 'Heindlmeyer', 'Heineken', 'Helander', 'Helasto', 'Held', 'HelirValdor', 'Hello', 'Helokunnas', 'Helps', 'Helsingin', 'Helsinki', 'HelsinkiStockholm', 'Helsinkibased', 'Hemphill', 'Henning', 'Henrik', 'Henry', 'Herttaassa', 'Hervy', 'Hevea', 'Hiab', 'Hienonen', 'High', 'Higher', 'Hiidenheimo', 'Hike', 'Hikes', 'Hillier', 'Hillshire', 'Hilton', 'Hintikka', 'Hintze', 'Hires', 'Hit', 'Hitachi', 'Hitting', 'Hitura', 'Hobby', 'Holcim', 'Hold', 'Holding', 'Holdings', 'Hollola', 'Holmen', 'Home', 'Homebuilders', 'Homeowners', 'Homes', 'Hong', 'Hongmei', 'Honka', 'Honkajoki', 'Honkamaa', 'Honkarakenne', 'Honolulu', 'HopeTurock', 'Hopefully', 'Horizonte', 'Hornborg', 'Hospitalized', 'Hot', 'Hotel', 'Hotels', 'House', 'Housing', 'Howard', 'However', 'Hoyer', 'Hualu', 'Huhtamaki', 'Huhtamñki', 'Human', 'Humo', 'Hungary', 'Husqvarna', 'Hutchison', 'Hydro', 'HydroCopper', 'Hypotek', 'Hyunchang', 'Hyundai', 'Hyvinkaa', 'HÑkan', 'I15', 'IA', 'IACI', 'IAG', 'IBB', 'IBIO', 'IBM', 'ICE', 'ICIS', 'ICOA', 'ICT', 'ID', 'IDCC', 'IDEA', 'IETF', 'IFF', 'IFRS', 'IGE', 'IH', 'II', 'III', 'IIIII', 'ILK2S', 'ILMN', 'ILS', 'IMAP', 'IMHO', 'IMO', 'IMRS', 'IMSM', 'INCAP', 'INCREASE', 'ING', 'INGA', 'INNOVARUIO', 'INO', 'INTC', 'INTERIM', 'INTERNET', 'INTU', 'INVE', 'INVITATION', 'IP', 'IPO', 'IPScaling', 'IPTV', 'IPv6', 'IR', 'IRDM', 'ISE', 'ISK', 'ISMS', 'ISO', 'ISPs', 'ISR', 'ISRG', 'ITG', 'ITV', 'IVRCL', 'IWC', 'IWM', 'IYT', 'Iceland', 'Icelandair', 'Id', 'Identification', 'Identity', 'Idrisov', 'IfHeDiesHeDies', 'Ignatius', 'Igor', 'Ii', 'Iisalmi', 'Iittala', 'Ilim', 'Ilkka', 'IlkkaYhtyma', 'IlkkaYhtymñ', 'Ill', 'Illinois', 'Ilmarinen', 'Ilyin', 'Im', 'Image', 'Imalat', 'Imperial', 'Implementation', 'InBev', 'InBevs', 'InTouch', 'Inbevs', 'Inc', 'Incap', 'Includes', 'Income', 'Increase', 'Increased', 'Increases', 'Index', 'India', 'Indian', 'Indiana', 'Indicator', 'Indigo', 'Indital', 'Indosat', 'Industri', 'Industrial', 'IndustrialSQL', 'Industriekapital', 'Industries', 'Industry', 'Ineta', 'Infection', 'Inflatable', 'Information', 'Infra', 'Infrastructure', 'Infrastructures', 'Infusion', 'Inge', 'Ingen', 'Ingenious', 'Ingerois', 'Ingredients', 'Inha', 'Initial', 'Initially', 'Initiatives', 'Inkinen', 'Inks', 'Innofactor', 'Innova', 'Innovation', 'Innovations', 'Innovationsmanagement', 'Innovator', 'Innovators', 'Innovest', 'Inovio', 'Inrikes', 'Inside', 'Insight', 'Insolvency', 'Insteel', 'Institute', 'Institution', 'Institutions', 'Instrument', 'Insurance', 'Insurer', 'Insurers', 'Integrated', 'Intel', 'Intellectual', 'Intellibis', 'Intelligence', 'Intellisync', 'Inter', 'InterContinental', 'InterDigital', 'InterHolding', 'Interactive', 'Interavanti', 'Interbancaria', 'Interest', 'Interface', 'Interfax', 'Interim', 'Interiors', 'Internal', 'International', 'Internet', 'Internetbased', 'Internettype', 'Intertek', 'Intuitiv', 'Intuitive', 'Invenergy', 'Inventor', 'Inventors', 'Inverse', 'Invest', 'InvestLesProm', 'Investigation', 'Investing', 'Investment', 'Investments', 'Investor', 'InvestorPlace', 'Investors', 'Investrend', 'Invoice', 'IonPhasE', 'Ipad', 'Iphone', 'Iprint', 'Iran', 'Iraq', 'Ireland', 'Irelands', 'Iressa', 'Irish', 'Isabel', 'Island', 'Islandsbased', 'Isnt', 'Iso', 'IsoRay', 'Isolationism', 'Israel', 'Issues', 'Isto', 'Italahdenkatu', 'Italian', 'Italy', 'Itella', 'Itikka', 'Itkonen', 'Itll', 'Itonut', 'Ivan', 'Ive', 'Ivory', 'Ixonos', 'J', 'JD', 'JDST', 'JE', 'JKHY', 'JNK', 'JNPR', 'JNUG', 'JP', 'JPM', 'JPMorgan', 'JPMorgans', 'JSC', 'JSCo', 'JV', 'JVC', 'JWN', 'Jaakko', 'Jackson', 'Jacobs', 'Jaemsaenkoski', 'Jalo', 'James', 'Jamnagar', 'Jams', 'Jan', 'Janhonen', 'Janis', 'Janno', 'January', 'JanuaryAugust', 'JanuaryDecember', 'JanuaryJune', 'JanuaryMarch', 'JanuaryMay', 'JanuaryNovember', 'JanuarySeptember', 'Japan', 'Japanese', 'Japans', 'Jari', 'Jarle', 'Jarmo', 'Jaroszowka', 'Jarvenpaa', 'Jarvinen', 'Jaston', 'Java', 'Jeambar', 'Jeder', 'Jefferies', 'Jeffries', 'Jensen', 'Jiang', 'Jim', 'Jobs', 'Joe', 'Joerazorback', 'Johan', 'Johanna', 'John', 'Johnson', 'Joint', 'Jointly', 'Jon', 'Jones', 'Jordan', 'Jorgen', 'Jorma', 'Jortikka', 'Jot', 'Jouko', 'Journal', 'Judge', 'Juergen', 'Juha', 'JuhaPekka', 'Juhani', 'Jukka', 'Jul', 'Julia', 'Julius', 'July', 'JulySeptember', 'Jumbo', 'Jun', 'June', 'Junior', 'Juniper', 'Juri', 'Jury', 'Jussi', 'Justin', 'Juuka', 'Jyvaeskylae', 'Jyvaskyla', 'Jyvñskylñ', 'Jñrvi', 'JñrviSuomen', 'Jñrvinen', 'K', 'KAUKOTELKO', 'KCG', 'KCI', 'KCR1V', 'KDG', 'KEMIRA', 'KEP', 'KESBV', 'KESKO', 'KGC', 'KGroup', 'KIOR', 'KIT', 'KITD', 'KKD', 'KNDI', 'KO', 'KONE', 'KORS', 'KPI', 'KPY', 'KR', 'KRA1V', 'KS', 'KY', 'Kaaja', 'Kaarstroem', 'Kahonen', 'Kai', 'Kaisanlahti', 'Kaivooja', 'Kalajoki', 'Kaleva', 'Kalinisky', 'Kallasvuo', 'Kallio', 'Kallioranta', 'Kalmar', 'KalnapilioTauro', 'KalnapilisTauras', 'Kaluga', 'Kaman', 'Kangasala', 'Kansas', 'Kantar', 'Kapellskar', 'Kapiteeli', 'Kapthing', 'Kapuli', 'Kara', 'Karachi', 'Karara', 'Karczewicz', 'Kardzhali', 'Karelia', 'Karhinen', 'Karhu', 'Kari', 'Kariniemi', 'Karkkila', 'Karlstad', 'Karppinen', 'Karputer', 'Karttakeskus', 'Karvinen', 'Kasak', 'Kasei', 'Kaspersky', 'Katajavuori', 'Katzman', 'Kauhajoen', 'Kauhajoki', 'Kauhava', 'KaukoTelko', 'Kaukomarkkinat', 'Kaunas', 'Kauniskangas', 'Kaunisvaara', 'Kauno', 'Kauppalehti', 'Kaupthing', 'Kausta', 'Kazakh', 'Kazakhstan', 'Kazan', 'Kazgiprotsvetmet', 'Kbkiwi', 'Kedia', 'Keep', 'Keiju', 'Keith', 'Kellokoski', 'Kemian', 'Kemijoki', 'Kemijñrvi', 'Kemira', 'Kengeter', 'Kennedy', 'Kenneth', 'Kentucky', 'Kershaw', 'Keskinen', 'Kesko', 'Kevin', 'Key', 'Keywords', 'Kft', 'KhantyMansi', 'Khopoli', 'Kia', 'Kiikoinen', 'Kiilto', 'Kim', 'Kimmo', 'Kinder', 'Kindle', 'Kingfisher', 'Kings', 'Kiosk', 'Kipa', 'Kiran', 'Kirin', 'Kirkkonummi', 'Kirsi', 'Kirst', 'Kiruna', 'Kitai', 'Kito', 'Kitron', 'Kivimeister', 'Klabin', 'Knickerbockers', 'Knight', 'Know', 'Known', 'Koduextra', 'Koff', 'Kohtamñki', 'Koistinen', 'Koivisto', 'Kolkata', 'Kolkhoznitsa', 'Kolorit', 'Kone', 'Konecranes', 'Kong', 'Konglisted', 'Kontturi', 'Kopijyva', 'Korea', 'Koreabased', 'Korean', 'Korpinen', 'Korteniemi', 'Koskinen', 'Koskull', 'Kostiainen', 'Kostroma', 'Kotikokki', 'Kotka', 'Kraft', 'KraftHeinz', 'Krakeroy', 'Kraski', 'Kretailer', 'Krippl', 'Krishna', 'Krister', 'Krogerus', 'Kroksberg', 'Krona', 'Kstores', 'Kuitu', 'Kuitunen', 'Kuopio', 'Kurkilahti', 'Kurt', 'Kustannus', 'Kuula', 'Kuzaj', 'Kveyt', 'Ky', 'Kyivstar', 'Kylas', 'Kymi', 'Kyro', 'Kyrolainen', 'Kyronsalmi', 'Kyroskoski', 'LABU', 'LAN2LAN', 'LAT1V', 'LCD', 'LCS', 'LEAPS', 'LEE', 'LEED', 'LEM1S', 'LG', 'LGL', 'LGPL', 'LGU', 'LIETUVA', 'LIGHTS', 'LINE', 'LKAB', 'LLC', 'LLY', 'LMT', 'LNG', 'LNGfuelled', 'LNKD', 'LNT', 'LOCO', 'LOL', 'LONDON', 'LONG', 'LOOKS', 'LOSERS', 'LOT', 'LOW', 'LP', 'LPG', 'LPbacked', 'LR', 'LSC', 'LSCC', 'LSE', 'LSEDeutsche', 'LT', 'LTD', 'LTE', 'LTEready', 'LULU', 'LUV', 'LVL', 'LVS', 'LXE', 'LaGuardia', 'Laakso', 'Laamanen', 'Laasanen', 'Laavainen', 'Labs', 'Lafarge', 'Lagardere', 'Lahden', 'Lahti', 'Lahtinen', 'Laine', 'Laisi', 'Laitinen', 'Lake', 'Lakeville', 'Lakshmi', 'Lampokasittely', 'Land', 'Lanebrook', 'Lang', 'Lankapaja', 'Lansdown', 'Lansio', 'Lanxess', 'Lappeenranta', 'Large', 'Largest', 'Larox', 'Larsen', 'Las', 'Lasse', 'Lassi', 'Lassila', 'Last', 'Latch', 'Later', 'Latest', 'Latin', 'Latta', 'Lattelecom', 'Latvenergo', 'Latvia', 'Latvian', 'Latvijas', 'Launches', 'Laurence', 'Law', 'Lawsuit', 'Lay', 'Lazada', 'Le', 'Lead', 'Leader', 'Leadership', 'Lean', 'Leaning', 'Leaps', 'Learning', 'Lebanon', 'Lee', 'Leerink', 'Legal', 'Legislative', 'Legrand', 'Lehdentekijat', 'Lehman', 'Lehtiyhtyma', 'Leif', 'Leipurin', 'Lemann', 'Lember', 'Lemcon', 'Lemminkainen', 'Lemminkñinen', 'Lender', 'Leningrad', 'Lennon', 'Lesprom', 'Less', 'Lets', 'Letting', 'Level', 'Lewa', 'Lewis', 'Liability', 'Liberty', 'Library', 'Libyan', 'Licensing', 'Liddell', 'Lidl', 'Lidskoe', 'Liechtenstein', 'Lieksaare', 'Lietuva', 'Lietuvos', 'Life', 'Lifetree', 'Lifts', 'Light', 'Lihatoostus', 'Lihir', 'Liising', 'Like', 'Liljeholmen', 'Lilly', 'Limited', 'Linden', 'Lindex', 'Lindsey', 'Line', 'Lines', 'Lingus', 'Lining', 'LinkedIn', 'Lion', 'Lions', 'Lippupiste', 'Liquid', 'Liquide', 'Lisle', 'List', 'Literature', 'Lithuania', 'Lithuanian', 'Little', 'Live', 'Lizard', 'Lloyds', 'LloydsPharmacy', 'LoL', 'Loaded', 'Loan', 'Local', 'Location', 'Locatrix', 'Locked', 'Lockheed', 'Logistics', 'Logo', 'Logset', 'London', 'Londonbased', 'Long', 'LongPos', 'Longbow', 'Lonmin', 'Lonnfors', 'Look', 'Looking', 'Looks', 'Loooooongggggg', 'Los', 'Losing', 'Loss', 'Losses', 'Lots', 'Lotus', 'Loudeac', 'Loudeye', 'Louis', 'Love', 'Loviisa', 'Lovin', 'Low', 'LowCost', 'Loyal', 'Loyalty', 'Ls', 'Lt', 'Ltd', 'LtdIIVRCL', 'Ltda', 'Lubricants', 'Luceplan', 'Lufthansa', 'LukkoExpert', 'Lulea', 'LuleÑ', 'Lumberman', 'Lumene', 'Luna', 'Lunchtime', 'Lundbeck', 'Lundberg', 'Lundmark', 'Lung', 'Lures', 'Lutterworth', 'Luumaki', 'Luxembourg', 'Luxembourgregistered', 'Lynch', 'Lynn', 'Lñhikauppa', 'Lñhivakuutus', 'Lñnnen', 'LñnsiKalkkuna', 'M2', 'MA50', 'MACD', 'MADISON', 'MAN', 'MANAVIGATORSeptember', 'MAP', 'MAPs', 'MARA', 'MARAS', 'MARKETS', 'MAT', 'MBA', 'MBLY', 'MC3090', 'MCC', 'MCD', 'MD', 'MDA', 'MET', 'METALSZinc', 'MEUR', 'MF', 'MFLX', 'MG', 'MHS', 'MHz', 'MID', 'MIDNIGHTTRADER', 'MIDs', 'MILAN', 'MINUTE', 'MITK', 'MMH', 'MMO1V', 'MMS', 'MMX', 'MNC', 'MODEL', 'MORNING', 'MOS', 'MOVANTIK', 'MPRA', 'MPWR', 'MREAL', 'MReal', 'MS', 'MSFT', 'MSO', 'MSSB', 'MT', 'MTD', 'MTI', 'MTNOY', 'MU', 'MW', 'MWW', 'MWe', 'MXWL', 'Maarten', 'Maaseudun', 'Maatta', 'Mac', 'MacGREGOR', 'MacGregor', 'MacRumors', 'Machine', 'Machinery', 'MachineryEngineering', 'Machines', 'Macquarie', 'Madison', 'Madoff', 'Maemo', 'Magazine', 'Magazines', 'Maggie', 'Magistral', 'Maglan', 'Magney', 'Magnus', 'Maihaniemi', 'MaijaLiisa', 'Mail', 'Main', 'Maine', 'Mainor', 'Maintenance', 'Mainz', 'Major', 'Majority', 'Making', 'Maks', 'Makuisa', 'Malaysia', 'Malaysians', 'Malinen', 'Malkia', 'Maloney', 'Maltider', 'Mammila', 'Man', 'Managed', 'Management', 'Manager', 'Managing', 'Manchester', 'Manhattan', 'Mansner', 'Mantsala', 'Manturovo', 'Manty', 'Mantyharju', 'Manufacturing', 'Many', 'Mar', 'Marathon', 'Marcel', 'March', 'MarchApril', 'Marek', 'Margin', 'Marieholm', 'Marietta', 'Marilyn', 'Marimekko', 'Marina', 'Maritim', 'Maritime', 'Marjo', 'Mark', 'Market', 'MarketWatch', 'Marketing', 'Marketplaces', 'Markets', 'MarketsBP', 'MarketsShire', 'Markka', 'Markku', 'Marko', 'Marks', 'Marshal', 'Marski', 'Marta', 'Martela', 'Martin', 'Martina', 'Martinez', 'Marubeni', 'Maskinservice', 'Master', 'MasterCard', 'Masterbulk', 'Matador', 'Matching', 'Material', 'Materials', 'Matinkyla', 'Matkatoimisto', 'Mats', 'Matthey', 'Matti', 'Mattila', 'Maximum', 'Maxis', 'May', 'May20', 'Maya', 'Mayawas', 'Maybe', 'Mazzika', 'McAfee', 'McAlpine', 'McDonald', 'McDonalds', 'McFarlane', 'McGuire', 'Meadville', 'Meals', 'Meantime', 'Meanwhile', 'Measures', 'Meats', 'Mechanizace', 'Med', 'MedImmune', 'Media', 'MediaCityUK', 'Mediterranean', 'Medvezhyegorsk', 'MeeGo', 'Meeting', 'Meets', 'Mega', 'MegaFon', 'Megaas2000', 'Meggitt', 'Meiklejohn', 'Mejeri', 'Melngailis', 'Melody', 'Meltdown', 'Member', 'Members', 'Memo', 'Men', 'Mercator', 'Merchant', 'Merchants', 'Merged', 'Merger', 'Merging', 'MeriPori', 'Merisatama', 'Merkels', 'Merko', 'Merrill', 'Mertano', 'Messaging', 'Method', 'Metrics', 'Metro', 'MetsaBotnia', 'Metsaliitto', 'Metsamasina', 'Metso', 'Metsñliitto', 'MettlerToledo', 'Mexican', 'Mexico', 'Mformation', 'Mi', 'Mich', 'Michael', 'Michelin', 'Micro', 'Micron', 'Microsoft', 'Mid', 'Middle', 'MiddleEast', 'MidnightTrader', 'Midwest', 'Might', 'Migration', 'Miguel', 'Mika', 'MikaApplication', 'Mike', 'Mikko', 'Mikkonen', 'Mikron', 'Mill', 'MillerCoors', 'Millhouse', 'Million', 'Mineracao', 'Minerals', 'Miners', 'Mines', 'Mining', 'Minister', 'Ministry', 'Minn', 'Minnetonka', 'Mirabela', 'MiracleGro', 'Mississippi', 'Missouri', 'Mitsubishi', 'Mittal', 'Mizuho…', 'Mo', 'MoU', 'Mobile', 'MobileID', 'Mobilebased', 'Mobility', 'Model', 'ModelX', 'Modeling', 'Modern', 'Mohammed', 'Moisio', 'MolubAlloy', 'Molybdenum', 'Momentum', 'Momo', 'Monate', 'Monday', 'Mondi', 'Money', 'Mongolia', 'MonoSpace', 'Monroe', 'Monster', 'Montaj', 'Monthly', 'Moody', 'Moorestown', 'Moorits', 'Moran', 'Moreover', 'Morgan', 'Morna', 'Morning', 'Morocco', 'Moron', 'Morris', 'Morrisons', 'Morvillars', 'Moscow', 'MosenergosbytBody', 'Moskovia', 'Moss', 'Mostar', 'Motiva', 'Motlanthe', 'Motorola', 'Motors', 'Mount', 'Mountain', 'Movantik', 'Moved', 'Moving', 'Mr', 'Mreal', 'Ms', 'Mukkavilli', 'Muling', 'Multi', 'Multimedia', 'Multimediacard', 'Multiradio', 'Mumbai', 'Munich', 'Municipal', 'Mursula', 'Museum', 'Music', 'Musoma', 'Mustonen', 'Mutual', 'MySpacecom', 'Mylan', 'Mylans', 'Myllykoskió', 'Myllyla', 'MÂglichkeit', 'Mñkelñ', 'N', 'N71', 'N72', 'N73', 'N75', 'N76', 'N77', 'N78', 'N79', 'N8', 'N80', 'N81', 'N82', 'N85', 'N92', 'N93N931', 'N95', 'N958GB', 'N96', 'NAND', 'NASDAQ', 'NASDAQlisted', 'NASDboy', 'NAV', 'NAVB', 'NAVTEQ', 'NBCUniversal', 'NBL', 'NCC', 'ND', 'NDA', 'NDX', 'NEM', 'NEMBV', 'NEON', 'NETeller', 'NEW', 'NEWS', 'NEWSWIRE', 'NEXT', 'NExBTL', 'NFLX', 'NGL', 'NGage', 'NHGordon', 'NIHD', 'NKE', 'NL', 'NMlist', 'NOA1V', 'NOC', 'NOK', 'NOK16', 'NOK1V', 'NORDIC', 'NORSKE', 'NPS', 'NQ', 'NQF', 'NSM', 'NSN', 'NSR', 'NST', 'NTAP', 'NTC', 'NTLS', 'NTSB', 'NTT', 'NUAN', 'NUGT', 'NV', 'NVDA', 'NViro', 'NWC', 'NYSE', 'NYSEBA', 'Nadarajah', 'Nadu', 'Name', 'Names', 'Nancheng', 'Narva', 'Nasdaq', 'Nastola', 'National', 'Natlabs', 'Natural', 'NaturalGas', 'Navigator', 'Navteq', 'Near', 'NearEast', 'Nearly', 'Nears', 'Nederland', 'Needs', 'Negotiations', 'Neither', 'Nekilnojamas', 'Nenonen', 'Neomarkka', 'Nepal', 'Neste', 'Net', 'NetAct', 'NetApp', 'NetCom', 'Netflix', 'Netherlands', 'Network', 'Networks', 'Neudorf', 'Neutral', 'Nevertheless', 'Nevsky', 'New', 'NewPage', 'Newark', 'Newbury', 'Newport', 'News', 'NewsMorrisons', 'NewsWolseley', 'Newsroom', 'Newstex', 'Newswire', 'Newswires', 'Next', 'Neya', 'Niam', 'Nice', 'Nickel', 'Nielsen', 'Niemi', 'Niiininoski', 'Niina', 'Nike', 'Nikkei', 'Nikkiso', 'Niklas', 'Nils', 'NilsErik', 'Nine', 'Nish', 'Nivala', 'Njastein', 'Nobel', 'Nokia', 'Nokiabranded', 'Nokian', 'Noma', 'Nomination', 'NonFood', 'NonLife', 'Noncore', 'Nonlife', 'Nonwovens', 'Noop', 'Noora', 'Noponen', 'NorSun', 'Nord', 'NordAlu', 'Nordea', 'Nordic', 'Nordstjernan', 'Norilsk', 'Normandy', 'Normark', 'Norske', 'Nortel', 'North', 'NorthAmerican', 'NorthRhine', 'Northern', 'Northernmost', 'Northland', 'Northwestern', 'Norvestia', 'Norway', 'Norwegian', 'Norwegianregistered', 'Notable', 'Note', 'Notes', 'Notice', 'Nov', 'Novartis', 'Novator', 'November', 'Novotel', 'Nr', 'Nuclear', 'Number', 'Numbers', 'Nurminen', 'Nutzfahrzeuge', 'Nyberg', 'Nyman', 'Nyrstar', 'OAO', 'OCBC', 'OCTOBER', 'OEMs', 'OESK', 'OFIX', 'OI', 'OKM1V', 'OKO', 'OM', 'OMEO', 'OMX', 'OMXN40', 'ONT10', 'ONTY', 'OOO', 'OP', 'OPEC', 'OPK', 'OPPohjola', 'OPTIONS', 'OPUS', 'ORCL', 'ORNAV', 'OSL', 'OSS', 'OSUR', 'OTE1V', 'OTH', 'OUT1V', 'OUTOTEC', 'OVA', 'OY', 'OYJ', 'OYName', 'OYj', 'OZK', 'Oasis', 'Oblast', 'Oblivion', 'Oborniki', 'Oct', 'October', 'OctoberDecember', 'Ocwen', 'Odell', 'Ofcom', 'Offenburg', 'Offer', 'Office', 'Officer', 'Officials', 'Offshore', 'Ogden', 'Oh', 'Ohio', 'Oil', 'OjalaYhtyma', 'Oka', 'Okhta', 'Okmetic', 'Oksanen', 'Olavi', 'Old', 'Oleg', 'Olkiluoto', 'Olli', 'OlliPekka', 'Olvi', 'Omena', 'Omnis', 'OnStar', 'One', 'OneMain', 'OneMed', 'OneWorld', 'Oneworld', 'Online', 'Open', 'Operating', 'Operation', 'Operations', 'Operators', 'Optiflex', 'Optimization', 'Option', 'Options', 'Oral', 'Orange', 'Oras', 'Orascom', 'Orchard', 'Ordabasy', 'Order', 'Orders', 'Oregon', 'Organization', 'Orhangazi', 'Oriental', 'Oriented', 'Origin', 'Originally', 'Oriola', 'OriolaKD', 'Orion', 'Orkola', 'Osaka', 'OsakeyhtiÂ', 'Oscar', 'Oslo', 'Osmo', 'Ostrava', 'Ostroleka', 'Ostrom', 'Osuuskauppa', 'Osuuskunta', 'Otherwise', 'Otis', 'Otto', 'Oulu', 'Outdoor', 'Outlook', 'Outokumpu', 'Outotec', 'Outperform', 'Outsourcing', 'Ovako', 'Overall', 'Overbought', 'Oversold', 'Ovi', 'Oximeter', 'Oxyview', 'Oy', 'Oyj', 'P', 'P1', 'PA', 'PAIKALLISSANOMAT', 'PAR', 'PAY', 'PBS', 'PC', 'PCB', 'PCBs', 'PCLN', 'PCMagcom', 'PCS', 'PDA', 'PDAs', 'PDE10', 'PDS', 'PET', 'PETERSBURG', 'PG', 'PGE', 'PHYS', 'PINK', 'PKC', 'PKC1V', 'PKT', 'PLC', 'PLCCompany', 'PLCs', 'PLNR', 'PLUG', 'PLUMBING', 'PLUNGING', 'PLX', 'PM', 'PMax', 'PNC', 'PNTZ', 'PO', 'POH1S', 'POJLF', 'PON1V', 'POP', 'PORTSMOUTH', 'POS', 'POST', 'POY', 'POY1V', 'POYRY', 'PPG', 'PPMI', 'PRESS', 'PRGN', 'PRIMETASS', 'PRLB', 'PRNewswire', 'PROBABILITY', 'PSV', 'PT', 'PURCHASE', 'PUT', 'PVT', 'PYPL', 'Paatela', 'Paavel', 'Pacific', 'Pack', 'Packaging', 'Packs', 'Pagamentos', 'PaijatHame', 'Paikallissanomat', 'Painful', 'Paints', 'Paivaniemi', 'Pakistan', 'Palace2', 'Paldiski', 'Palfinger', 'Palin', 'Palm', 'Palmberg', 'Panama', 'Panamax', 'Panda', 'Panfish', 'Pankaj', 'Pankki', 'Panostaja', 'Papa', 'Papel', 'Paper', 'PaperlinX', 'Papers', 'Papua', 'Paraní', 'Paris', 'Park', 'Parks', 'Parliament', 'Parnu', 'Part', 'Participants', 'Particular', 'Partihallsforbindelsen', 'PartihallsfÂrbindelsen', 'Partner', 'Partners', 'Parvi', 'Passenger', 'Passengerrelated', 'Passengers', 'Patent', 'Pathana', 'Patient', 'Patja', 'Patricia', 'Patrick', 'Patrik', 'Pattern', 'Paul', 'Paulig', 'Pavara', 'Paviljonki', 'Pay', 'Paychex', 'Payment', 'Payphones', 'Pays', 'Peab', 'Pearl', 'Pearson', 'Pecs', 'Peer', 'PehuLehtonen', 'Peigs', 'Pekka', 'Pekkarinen', 'Pekoni', 'Pellissier', 'Pellonpaja', 'Peltola', 'Peltonen', 'Pennsylvania', 'Pensioenfonds', 'Pension', 'Pentikñinen', 'Pentti', 'Penttila', 'Penttilñ', 'People', 'Percent', 'Performance', 'Perkins', 'Perkonoja', 'Perlos', 'Peroni', 'Perrigo', 'Persimmon', 'Personal', 'Pertti', 'Perttu', 'Pervorouralsky', 'Perñmeri', 'Pesonen', 'Pestka', 'Petcore', 'Peter', 'PeterServis', 'Petersburg', 'Petersburgbased', 'Peterson', 'Petri', 'Petrobras', 'Petrofac', 'Peugeot', 'Pfizer', 'Ph3', 'Pharma', 'Pharmaceutical', 'Pharmaceuticals', 'Phase', 'Phew', 'Phil', 'Philadelphia', 'Philip', 'Philippines', 'Philips', 'Phillip', 'Phoenix', 'Phone', 'Phonebook', 'Photonium', 'Physical', 'Pickers', 'Pickup', 'Pietarsaari', 'Pietiek', 'Pietinalho', 'Piirainen', 'Pilanesberg', 'Pioneer', 'Piper', 'Pipleline', 'Pirelli', 'Pirila', 'Pirkka', 'Pisa', 'PitProdukt', 'Pivo', 'Pivotal', 'Pizza', 'Place', 'Plan', 'PlanMill', 'Planning', 'Plans', 'Plants', 'Plate', 'Platform', 'Platinum', 'Platts', 'Play', 'Player', 'Plaza', 'Plc', 'Please', 'Pledges', 'Plunge', 'Plus', 'Plyfa', 'Plyland', 'Podlaska', 'Pohjantahti', 'Pohjoa', 'Pohjola', 'Pohjolan', 'Point', 'Poised', 'Poland', 'Police', 'Policy', 'Polish', 'Polya', 'Polytechnic', 'Ponsse', 'Ponten', 'Ponzi', 'Poors', 'Pop', 'Pori', 'Port', 'Portion', 'Portland', 'Portti', 'Portugal', 'Porvoo', 'Poseidon', 'Position', 'Positive', 'Possible', 'Post', 'Postel', 'Potential', 'Potts', 'Poultry', 'Pounded', 'Poundstretcher', 'Pouring', 'Powder', 'Power', 'Powered', 'Poyry', 'Poznan', 'Pradesh', 'Prague', 'Precision', 'Precor', 'Prefab', 'Premedia', 'Premier', 'Premium', 'Preparing', 'Present', 'Presentation', 'Presentations', 'President', 'Press', 'Pressplate', 'Pretax', 'Previously', 'Price', 'Pricelines', 'Prices', 'Priceshare', 'Priit', 'Primark', 'Print', 'Printed', 'Prior', 'Private', 'Pro', 'ProHouse', 'Process', 'ProcessGuide', 'Processing', 'Product', 'Production', 'Productional', 'Products', 'Professional', 'Profile', 'Profit', 'Profitability', 'Profits', 'Program', 'Programs', 'Progress', 'Proha', 'Prohaska', 'Project', 'Projects', 'Projektivuokraus', 'Proline', 'Prom', 'Proofpoint', 'Properties', 'Propertos', 'Property', 'Prospect', 'Protalix', 'Protein', 'Prothious', 'Protocol', 'Providence', 'Providers', 'Provides', 'Province', 'Proving', 'Prudential', 'Prudentials', 'Pty', 'Public', 'Publication', 'Published', 'Publisher', 'Publishing', 'Puljonki', 'Pulkovo', 'PullbackTime', 'Pulp', 'Pulse', 'Punch', 'Purchase', 'Purdy', 'Pure', 'Puro', 'Pursuant', 'Put', 'Putin', 'Puts', 'Pvt', 'PwC', 'Pyszny', 'P®cs', 'PÂyry', 'Pñrnits', 'Q', 'Q1', 'Q12010', 'Q2', 'Q3', 'Q4', 'Q400', 'QA', 'QCOM', 'QCOR', 'QE3', 'QI', 'QIHU', 'QNX', 'QPR', 'QPR1V', 'QQQ', 'Qatar', 'Qingyuan', 'Qt', 'Quadriga', 'Qualcomm', 'Qualcommpatented', 'Quality', 'Quartal', 'Quarterly', 'Quatrocon', 'Questcor', 'Quick', 'Quito', 'R', 'RA', 'RAD', 'RAIVV', 'RALLYING', 'RAO', 'RAP1V', 'RAPALA', 'RB', 'RBC', 'RBFF', 'RBI', 'RBS', 'RCON', 'RCP', 'RD', 'RDC', 'REALTIME', 'RECALL', 'RECAP', 'RECZakaria', 'REFILEAviva', 'REFILEHikma', 'REFILEUPDATE', 'RELEASE', 'REN', 'REPORT', 'REPORT17', 'REPORT26', 'REPURCHASE', 'RF', 'RFC', 'RFID', 'RIB', 'RIFD', 'RIG', 'RIM', 'RIMM', 'RISING', 'RLNordic', 'RMB8', 'RME', 'RMG', 'RMR1V', 'RNN', 'ROCE', 'ROI', 'ROST', 'RPK', 'RPM', 'RPTL', 'RPTOld', 'RS', 'RSA', 'RSH', 'RSI', 'RSOL', 'RSPO', 'RT', 'RTCH', 'RTG', 'RTKM', 'RTRKS', 'RTS', 'RUG1V', 'RUSS', 'RUT', 'RUTAV', 'RVR', 'RXII', 'RYL', 'Raab', 'Raahe', 'Rabochy', 'Racked', 'Radiation', 'Radio', 'Raffles', 'Ragot', 'Ragutis', 'Raiffeisen', 'RaiffeisenBankingGroup', 'RaiffeisenLeasing', 'Raiguel', 'Railways', 'Raising', 'Raisio', 'Raiso', 'Rajamaki', 'Rake', 'Rakvere', 'Rakverebased', 'Rally', 'Ramirent', 'Ramsey', 'Rana', 'Randgold', 'Range', 'Rangers', 'Ranjan', 'Rantakari', 'Rantanen', 'Rap', 'Rapala', 'Ratasmaki', 'Rated', 'Rates', 'Rating', 'Ratings', 'RatingsNetwork', 'Raty', 'Rauma', 'Rautakesko', 'Rautakirja', 'Rautalinko', 'Rautaruukki', 'Raute', 'Ray', 'Reach', 'Reaches', 'Read', 'Ready', 'Readychex', 'Real', 'Really', 'Realprojekti', 'Reargument', 'Recall', 'Recalling', 'Recalls', 'Recari', 'Receive', 'Receives', 'Recently', 'Recoil', 'Record', 'Records', 'Recovery', 'Red', 'RedHot', 'Reding', 'Reed', 'Refinery', 'Refining', 'Reftele', 'Regains', 'Regal', 'Regina', 'Region', 'Regional', 'Register', 'Registration', 'Regulator', 'Rehu', 'Reijo', 'Reiljan', 'Reino', 'Reinstate', 'Reisholz', 'Reka', 'Relacom', 'Related', 'Relations', 'Release', 'Reliability', 'Reliance', 'Relief', 'Remain', 'Remains', 'Remote', 'Remuneration', 'Renal', 'Renatta', 'Renesas', 'Renewed', 'Reng', 'Renison', 'Rentakran', 'Rental', 'Repair', 'Repeats', 'Replace', 'Report', 'Reported', 'Reporting', 'Reports', 'Republic', 'Repurchase', 'Research', 'Reseller', 'Residence', 'Resident', 'Residentialconstruction', 'Residents', 'Resistance', 'Resources', 'Respecta', 'Responsibility', 'Respublikos', 'Result', 'Results', 'Resume', 'Resuming', 'Retail', 'RetailWholesale', 'Retailers', 'Retracement', 'Rettig', 'Return', 'Retweet', 'Reuse', 'Reuters', 'Revenue', 'Revenues', 'Review', 'Rewards', 'Ridge', 'Riga', 'Right', 'Rights', 'Rigid', 'Rihko', 'Riihimñki', 'Rik', 'Rimi', 'Rimvesta', 'Ringman', 'Rinkuskiai', 'Rio', 'RipRoaring', 'Rise', 'Rises', 'Risfelt', 'Risk', 'Risto', 'Rival', 'Rivals', 'RoP', 'RoRo', 'RoRocruise', 'Road', 'Robert', 'Rock', 'Rocket', 'Rockwell', 'Roger', 'Rogers', 'Rohwedder', 'RollsRoyce', 'Roman', 'Romania', 'Romanian', 'Romosozumab', 'Rory', 'RosTelecom', 'Rosberg', 'Rose', 'Rosen', 'Roshan', 'Ross', 'Rostelecom', 'RostovonDon', 'Rotana', 'Rough', 'Roundtable', 'Rout', 'Rowan', 'Roy', 'Royal', 'Royalties', 'Rs', 'Rs310', 'Rs35', 'Rs40', 'Rsi', 'Rubin', 'Rugby', 'Rukax', 'Rules', 'Ruling', 'Rumilly', 'Runway', 'Ruokatalo', 'RusHydro', 'Russia', 'Russian', 'Ruukki', 'Ruuska', 'Ruutana', 'Ruwais', 'Ryanair', 'Ryder', 'Ryobi', 'Ryymin', 'S1', 'S2', 'S60', 'SA', 'SAA1V', 'SAB', 'SABMiller', 'SABMillers', 'SABs', 'SAL1V', 'SAMAS', 'SAMPO', 'SAN', 'SANOMAT', 'SAP', 'SARE', 'SAS', 'SAV', 'SAVE', 'SBGRP', 'SBRCY', 'SBUX', 'SCANIA', 'SCF1V', 'SCOPI', 'SCTY', 'SDA1V', 'SDLP', 'SDM', 'SDRL', 'SDS', 'SE', 'SEATBELT', 'SEB', 'SECURITY', 'SEE', 'SEK', 'SEK1', 'SEK150', 'SEK25m', 'SEK50m', 'SEK6', 'SEK70', 'SEK72', 'SEK77', 'SEK90m', 'SEL', 'SELL', 'SEPA', 'SEPT', 'SES', 'SETV', 'SFD', 'SFI', 'SFO', 'SGYP', 'SH', 'SHARE', 'SHARES', 'SHB', 'SHDSL', 'SHIFTING', 'SHORScaling', 'SHSE', 'SIGA', 'SIMO', 'SINA', 'SINGAPORE', 'SIRI', 'SITRA', 'SIs', 'SKF', 'SKH', 'SKOG', 'SKS', 'SKX', 'SLV', 'SLW', 'SMA', 'SMH', 'SMI', 'SML', 'SMS', 'SMTand', 'SNA', 'SNDK', 'SNP', 'SODA', 'SODRA', 'SONC', 'SOULLOR', 'SOUTHFIELD', 'SOX', 'SP', 'SPC', 'SPPIbuilding', 'SPX', 'SPY', 'SQL', 'SRV', 'SS', 'SSH', 'SSLVPN', 'SSRIPAAS', 'SSYS', 'ST', 'STAN', 'STARS', 'STERV', 'STO', 'STOCK', 'STOCKMANN', 'STORA', 'STOXX', 'STQ1V', 'STRONG', 'STT', 'STUDY', 'STUK', 'STX', 'STZ', 'SUBSCRIBED', 'SUBSCRIPTIONS', 'SUEZ', 'SUOMEN', 'SUPER', 'SUSPECT', 'SUV', 'SUVS', 'SUVs', 'SUY1V', 'SVP', 'SWIFT', 'SWKS', 'SWOT', 'SWY', 'SYMC', 'Saarelainen', 'Saarijarvi', 'Saarinen', 'Saarioinen', 'Saavalainen', 'Sabah', 'Sabharwal', 'Sacanfil', 'Sachs', 'Sadam', 'Safran', 'Sage', 'Saha', 'Sahavaara', 'Sahlberg', 'Said', 'Saigon', 'Saimaa', 'Sains', 'Sainsbury', 'Sainsburys', 'Saint', 'Sakari', 'Saku', 'Salcomp', 'Sale', 'Sales', 'Salmi', 'Salminen', 'Salo', 'Salokannel', 'Salomon', 'Salonen', 'Salonius', 'Saltonstall', 'Salvor', 'Samarco', 'Sami', 'Sammy', 'Sampo', 'SampoRosenlew', 'Samsung', 'Samuel', 'San', 'Sanayi', 'Sandbagged', 'Sandberg', 'Sanitas', 'Sankey', 'Sankyo', 'Sanna', 'Sanofi', 'Sanoma', 'SanomaWSOY', 'Sanomat', 'Santos', 'Sanyo', 'Sappi', 'Sarantel', 'Saratovenergo', 'Sardus', 'Sari', 'Sarkamies', 'Sastamala', 'SataFlexo', 'Satama', 'Satlan', 'Saudi', 'Sauk', 'Saunalahti', 'Savcor', 'Save', 'Savings', 'Savon', 'Savonlinna', 'Says', 'Scala', 'Scan', 'ScanTrack', 'ScanTukka', 'Scandic', 'Scandinavia', 'Scandinavian', 'Scanfil', 'Scania', 'Schapiro', 'Scheck', 'Scheme', 'Schindler', 'Schmardin', 'School', 'Schroders', 'Schuldschein', 'Schultz', 'Sciard', 'Science', 'Sciences', 'Scissors', 'ScoreCard', 'Scotland', 'Scott', 'Scottish', 'Scotts', 'Scrap', 'Sea', 'SeaWind', 'Seafoods', 'Search', 'Seas', 'Seat', 'Seats', 'Secretary', 'Section', 'Sector', 'Secure', 'Securities', 'Security', 'Seeder', 'Seems', 'Sees', 'Segment', 'Seidenberg', 'Seikku', 'Seinajoki', 'Seitovirta', 'Selfservice', 'Sell', 'Seller', 'Sells', 'Semiconductor', 'Seng', 'Senior', 'Sensex', 'Sentera', 'Sentry', 'Sep', 'Separately', 'Seppala', 'Seppo', 'Seppñlñ', 'Seppñnen', 'Sept', 'September', 'Serbia', 'Serco', 'Series', 'Server', 'Service', 'Services', 'Serving', 'Set', 'Sets', 'Settlement', 'Settles', 'Settling', 'Setup', 'Sevenmonth', 'Seventythree', 'Several', 'Severn', 'Shad', 'Shalkiya', 'Shanahan', 'Shane', 'Shanghai', 'Share', 'SharePoint', 'ShareStockNews', 'Shareholder', 'Shareholders', 'Shares', 'Sharp', 'Sheksna', 'Shell', 'ShellBG', 'Shells', 'Shenzhen', 'Sherlock', 'Sheryl', 'Shetland', 'Shifts', 'Shimano', 'Ship', 'Shipping', 'Shire', 'Shires', 'Shivakumar', 'Shop', 'Shore', 'Short', 'Shorts', 'Shortterm', 'Shoulders', 'Show', 'Showroom', 'Shuweihat', 'Siemens', 'Sierra', 'Sievi', 'Sign', 'Signal', 'Signals', 'Signed', 'Significance', 'Significant', 'Signs', 'Sihvo', 'Sihvonen', 'Siilinjarvi', 'Silicon', 'Silja', 'Silva', 'Silvennoinen', 'Simdax', 'Simmons', 'Simon', 'Simonson', 'Simultaneously', 'Sinappi', 'Since', 'Singapore', 'Singaporean', 'Singer', 'Singulase', 'Sink', 'SinoCast', 'Sintra', 'Sipponen', 'Sir', 'SiriusXM', 'SirkkaLiisa', 'Sitra', 'Sitronics', 'Sitting', 'Skaarer', 'Skandinavian', 'Skandinaviska', 'Skanssi', 'Skeoch', 'Skeptical', 'Skepticism', 'Ski', 'Skog', 'Skogberg', 'Skogster', 'Sky', 'SkÑne', 'Slams', 'Slo', 'Slovak', 'Slovakia', 'Slovenia', 'Slowly', 'Slump', 'Small', 'Smallcaps', 'Smartphone', 'Smith', 'Smithfield', 'Smiths', 'Sneed', 'Snow', 'Soapstone', 'Soar', 'Soars', 'Social', 'Societe', 'Software', 'SokoPro', 'Sokonet', 'Sold', 'Solel', 'Solidium', 'Solteq', 'Solution', 'Solutions', 'Somaxon', 'Someone', 'Somoncom', 'Sony', 'Soon', 'Soosalu', 'Sophos', 'Sotkamo', 'Sounds', 'Sourcing', 'South', 'SouthAfrica', 'SouthKorea', 'Southeastern', 'Southern', 'SoyBased', 'Space', 'Spain', 'Spains', 'SpareBank', 'Speaker', 'Speaking', 'Special', 'Specialised', 'Speciality', 'Specialty', 'Speedy', 'Spencer', 'Spirits', 'Spolka', 'Sponda', 'Sport', 'Sports', 'Springleaf', 'Square', 'Sriperumbudur', 'Srl', 'St', 'St1', 'Stability', 'Stabler', 'Stadigh', 'Stadtverwaltung', 'Staff', 'Stahlberg', 'Stainless', 'Stake', 'Stakes', 'StanChart', 'Standard', 'Stanley', 'Star', 'Starbucks', 'Stars', 'Start', 'Starwood', 'State', 'Statement', 'Statements', 'States', 'Station', 'Stations', 'Statistics', 'Statoil', 'Status', 'Stavebni', 'Stavo', 'Stavokonsult', 'Steek', 'Steel', 'Steers', 'Stefan', 'Stelios', 'Sten', 'Stena', 'Sterling', 'Steve', 'Stewart', 'Stichting', 'Stifel', 'StigGoran', 'Still', 'Stoch', 'Stochastic', 'Stock', 'StockTwits', 'Stockholm', 'Stockholmbased', 'Stockholmheadquartered', 'Stockmann', 'Stockoptionexpert', 'Stocks', 'Stone', 'StoneGate', 'Stonesoft', 'Stop', 'Stora', 'Store', 'Storengy', 'Stores', 'Strand', 'Strategic', 'Strategy', 'Street', 'StreetInsider', 'Strelny', 'Strength', 'Stress', 'Strips', 'Stroi', 'Strong', 'Strongest', 'Strongly', 'Structures', 'Studies', 'Study', 'Stuttgart', 'Subjectmatter', 'Subscribers', 'Subscription', 'Sudden', 'Sue', 'Suihko', 'Suisse', 'Suistio', 'Suite', 'Sukhraj', 'Sullivan', 'Sumatra', 'Summary', 'Sun', 'Sundays', 'Sunnuntai', 'Sunrise', 'Suomalainen', 'Suomen', 'Suomi', 'Suominen', 'Suonenjoen', 'Suovaniemi', 'Supermarket', 'Supermarkets', 'Supermercado', 'Supervisor', 'Supervisory', 'Supply', 'Support', 'Supported', 'Supporting', 'Supreme', 'Surge', 'Surgical', 'Surging', 'Surprising', 'Survey', 'Suspends', 'Sustainable', 'Suunto', 'SuurSavo', 'Svenska', 'Svensson', 'Sverige', 'Sveza', 'Svyazinvest', 'SvyturysUtenos', 'Swedbank', 'Sweden', 'Swedish', 'SwedishFinnish', 'Sweet', 'Swiss', 'SwissSwedish', 'Switch', 'Switzerland', 'Swoope', 'Symantec', 'Symbian', 'Symbianbased', 'Symphony', 'Syndicate', 'Synergy', 'Synosia', 'Syrjñnen', 'SysOpen', 'Systeemitiimi', 'System', 'Systemhaus', 'Systems', 'Systemss', 'SÂderstrÂm', 'T2', 'TAKE', 'TALLINN', 'TALV', 'TASB', 'TASE', 'TB', 'TCO', 'TDD', 'TEC1V', 'TECNOMENRESULTS', 'TEL', 'TELE2', 'TELECOMWORLDWIRE7', 'TEM1V', 'TEUs', 'TEX', 'TGK1', 'TGK10', 'TIE1V', 'TII1V', 'TIK1V', 'TJ', 'TKK', 'TLSN', 'TLT', 'TLT1V', 'TLV1V', 'TM', 'TMLsfor', 'TMTanalyst', 'TNH', 'TODAY', 'TOMORROW', 'TOURNAMENT', 'TRIP', 'TRLPC', 'TROW', 'TRX', 'TSCO', 'TSLA', 'TSPT', 'TT', 'TTM1V', 'TTT', 'TV', 'TVIX', 'TVO', 'TVS', 'TVs', 'TWIG', 'TWTR', 'TWh', 'TXRH', 'TYC', 'TYO', 'TYRVAAN', 'TYRVääN', 'TZA', 'TZOO', 'Tagrisso', 'Tahdet', 'Tahko', 'Taiwan', 'Takanen', 'Take', 'Takeda', 'Takeover', 'Taking', 'Talentum', 'Talermo', 'TalkTalk', 'Talks', 'Tallink', 'Tallinn', 'TallinnHelisnki', 'TallinnHelsinki', 'Tallinna', 'Tallinnbased', 'Tallon', 'Talo', 'Talotekniikka', 'Taloustutkimus', 'Talvik', 'Talvivaara', 'Tambov', 'Tameer', 'Tamglass', 'Tamil', 'Tammela', 'Tamminen', 'Tampere', 'Taneli', 'Tang', 'Tank', 'Tanqia', 'Tanzania', 'Tapani', 'Tapeks', 'Tapio', 'Tapiola', 'Tapro', 'Tapuli', 'Target', 'Targets', 'Tarmo', 'Tata', 'Tax', 'Taylor', 'Teachers', 'Team', 'Teams', 'Technical', 'Technologies', 'Technology', 'Technopolis', 'Tecnomen', 'Tecnomens', 'Tecnotree', 'Tectia', 'Teho', 'Tehtaat', 'Tekes', 'Tekla', 'Tekmanni', 'Teks', 'Tel', 'Telanne', 'Telcontar', 'Tele', 'Tele2', 'Telecom', 'TelecomInvest', 'Telecominvest', 'Telecommunication', 'Telecommunications', 'Telekom', 'Telematics', 'Telemig', 'Telenor', 'Telephone', 'Teleste', 'Telgua', 'TeliaSonera', 'Telko', 'Tellabs', 'Telpak', 'Tel¬maco', 'Temporary', 'Teollisuuden', 'Teppo', 'Terminal', 'Terminator', 'Terms', 'Tero', 'Terrain', 'Tesco', 'Tescos', 'Tesisleri', 'Tesla', 'Teslas', 'Tesoro', 'Test', 'Testing', 'Teterboro', 'Teurastamokiinteistot', 'Teva', 'Texas', 'Thailand', 'Thank', 'Thanks', 'Thanksto', 'Thats', 'TheAcsMan', 'TheStreet', 'TheWartsila32generating', 'Thebault', 'Theodosopoulos', 'Therapeutics', 'Therapies', 'Therefore', 'Thetrainlinecom', 'Thiam', 'Think', 'ThirdRow', 'Thomas', 'Thomson', 'Thorwoste', 'Thought', 'Thoughts', 'Three', 'Thursday', 'Thursdays', 'Thus', 'ThyssenKrupp', 'Ticaret', 'Ticker', 'Tidningar', 'Tielinja', 'Tier', 'Tieto', 'TietoEnator', 'TietoEnators', 'Tiimari', 'Tikanoja', 'Tikkakoski', 'Tikkurila', 'Tim', 'Timber', 'Timberjack', 'Timberrrr', 'Time', 'Times', 'Timing', 'Timo', 'Tinto', 'Tip', 'Tips', 'Tiusanen', 'Tobacco', 'Today', 'Together', 'Toivola', 'TokyoMitsubishi', 'Told', 'Tom', 'TomTom', 'Tomas', 'Tomi', 'Tomorrow', 'Tomsk', 'Tool', 'Toolonlahti', 'Tools', 'Top', 'TopLine', 'Toptronics', 'Tornio', 'Tortue', 'Toshiba', 'Total', 'Touch', 'Tough', 'Tower', 'Towergates', 'Toy', 'TraceyRyniec', 'Trade', 'Tradeka', 'Trademark', 'Trader', 'Trading', 'Traffic', 'Trailing', 'Trainers', 'Training', 'Transaction', 'Transactions', 'Transocean', 'Transport', 'Transportation', 'Transports', 'Travel', 'Traveler', 'Travis', 'Treasurys', 'Treatment', 'Trend', 'Trendline', 'Trent', 'Triangle', 'TripAdvisor', 'Tripolibased', 'Trojan', 'Trojans', 'Trouble', 'Trucks', 'Trust', 'Trustee', 'TrygVesta', 'Trying', 'Tube', 'Tue', 'Tuesday', 'Tuija', 'Tulevaisuus', 'Tulikivi', 'Tulla', 'Tullow', 'Tulonen', 'Tumbleweed', 'Tumkur', 'Tuomas', 'Tuomo', 'Turbo', 'Turkcell', 'Turkey', 'Turkish', 'Turku', 'Turnaround', 'Turnover', 'Turtas', 'Turun', 'Tusa', 'Tutkimuksen', 'Tuuri', 'Tweeple', 'Twig', 'Twist', 'Twitter', 'Two', 'Type', 'Typhoon', 'Typical', 'Typically', 'Tyres', 'Tyrvaan', 'Tyrvñinen', 'Tyrvññn', 'Tyumen', 'T®l®com', 'U', 'UAB', 'UAE', 'UBI', 'UBNT', 'UBS', 'UCB', 'UCell', 'UDN', 'UES', 'UFA', 'UFJ', 'UGAZ', 'UH', 'UK', 'UKbased', 'UKs', 'ULTA', 'UMTS', 'UMTS900', 'UNC', 'UNXL', 'UPDATE', 'UPGRADE', 'UPM', 'UPM1V', 'UPMKYMMENE', 'UPMKymmene', 'URL', 'URLs', 'US', 'USA', 'USD', 'USD0', 'USD1', 'USD119', 'USD12', 'USD12m', 'USD2', 'USD213m', 'USD3', 'USD332m', 'USD4', 'USD5', 'USD6m', 'USO', 'USP', 'USbased', 'UTSI', 'UUP', 'UV', 'UVXY', 'Ugglarp', 'Ukmerge', 'Ukonaho', 'Ukraine', 'Ulm', 'Ultra', 'Ultrascan', 'Umo', 'Unbelievably', 'Uncertainties', 'Uncommonly', 'Underground', 'Underlying', 'Understanding', 'Undertakings', 'Unibrew', 'Unicom', 'Unikko', 'Unilever', 'Unimilk', 'Union', 'Uniontown', 'Unit', 'United', 'Units', 'Universal', 'Universiti', 'University', 'Unless', 'Unlikely', 'Unlisted', 'Unveil', 'Updates', 'Upgraded', 'Upgrades', 'Upholds', 'Upon', 'Uponor', 'Ups', 'Upside', 'Uptrend', 'Urbano', 'Uruguay', 'Uruguayan', 'Usa', 'User', 'Using', 'Usko', 'Usmanov', 'Ustjug', 'Utah', 'Uusimaki', 'Uutislehti', 'Uwe', 'Uzbek', 'V', 'VAC1V', 'VAIAS', 'VALE', 'VAP1', 'VAS', 'VAT', 'VCP', 'VDW', 'VER', 'VGA', 'VIII2010', 'VIPS', 'VISION', 'VIVUS', 'VIX', 'VMC', 'VMW', 'VMarkets', 'VNET', 'VNH', 'VOLC', 'VP', 'VR', 'VRTX', 'VTB24', 'VTMRakennuskonevuokraamo', 'VVAuto', 'VVUS', 'VWAP', 'VWR', 'VXX', 'VZ', 'Va', 'Vaahto', 'Vaalipalveluservice', 'Vaasa', 'Vacon', 'Vahur', 'Vaisala', 'Valeant', 'Valga', 'Validating', 'Valio', 'Valkama', 'Valkeakoski', 'Valley', 'Valmet', 'Van', 'Vana', 'Vanhanen', 'Vantaa', 'Varesvuo', 'Varkaus', 'Varma', 'Varpaisjâ', 'Vartan', 'Vasantha', 'Vashi', 'Vauramo', 'Veda', 'Vegas', 'Vegastrader66', 'Vegetable', 'Vehicles', 'Vehvilainen', 'Vehvilñinen', 'Veidekke', 'Veikko', 'VeliMatti', 'Veliky', 'Velta', 'Veltabranded', 'Vendor', 'Venezuel', 'Venture', 'Ventures', 'Venue', 'Veracel', 'Verizon', 'Version', 'Vertex', 'Vesa', 'Vetr', 'Via', 'Vianor', 'Vice', 'ViceChairman', 'Victoria', 'Video', 'VideoStreaming', 'Vie', 'Vietnam', 'View', 'Viewership', 'Views', 'ViiV', 'Viiala', 'Viitasaari', 'Vijver', 'Viking', 'Village', 'Vilo', 'VimpelCom', 'Vinachem', 'Virala', 'Virent', 'Virkkala', 'Virpi', 'Virsuliskes', 'Viscaria', 'Vishakapatnam', 'Vision', 'Visitors', 'Vista', 'Visual', 'Vitim', 'Vizag', 'Vladimir', 'Vladivostok', 'VoIP', 'Vocal', 'Vocollect', 'Vodafone', 'Voice', 'Voima', 'Voimatel', 'Volatile', 'Volkswagen', 'Vologda', 'Volotinen', 'Volume', 'Voluntary', 'Volvo', 'Von', 'Vorota', 'Vosstaniya', 'Vostochny', 'Vostok', 'Vote', 'Votorantim', 'Vridi', 'Vsevolozhsk', 'Vuokatti', 'Vuolteenaho', 'Vuorenmaa', 'Vuosaari', 'Vyvanse', 'W', 'WAC', 'WAP', 'WARRANTS', 'WATCO', 'WCDMA', 'WDC', 'WEEK', 'WFM', 'WFT', 'WGOs', 'WIG', 'WIG20', 'WINNERS', 'WMB', 'WMT', 'WPP', 'WRT1V', 'WT4090', 'WTC', 'WTI', 'WWD', 'WWG', 'WX', 'WYN', 'WYNN', 'Wahlroos', 'Waiting', 'Walden', 'Walker', 'Walking', 'Wall', 'Wallhamn', 'Walter', 'War', 'Warehouse', 'Warehousing', 'Warner', 'Warrant', 'Warren', 'Warsaw', 'Wartsila', 'Washington', 'Watch', 'Watchtower', 'Water', 'Watermark', 'Waterqueen', 'Wayne', 'Weak', 'Wealth', 'Weather', 'Web', 'WebMarela', 'Webbased', 'Webcast', 'Weber', 'Weblogs', 'Websense', 'WeckstrÂm', 'Wednesday', 'Week', 'Weeks', 'Weert', 'Weir', 'Welcome', 'Welcomes', 'Welfare', 'Wellbeing', 'Wellingborough', 'Wellmont', 'Wellness', 'Wells', 'Welsh', 'Wenchong', 'Went', 'Westend', 'Westerlund', 'Western', 'Westpac', 'Westphalia', 'Wet', 'Whats', 'Whitbread', 'White', 'Whitehall', 'Wholesale', 'WiFi', 'WiMAX', 'Wid', 'Wiio', 'Wiklof', 'Williams', 'Willich', 'Wilshire', 'Wilson', 'Wimpey', 'Win', 'Wind', 'Window', 'Windows', 'Wins', 'Wintek', 'Wipes', 'Wis', 'Wisconsin', 'Wish', 'Withdraw', 'Within', 'Wittine', 'Witty', 'Wolf', 'Wonderware', 'Wont', 'Wood', 'Word', 'Work', 'Worker', 'Workers', 'Works', 'World', 'Worlds', 'Worldwide', 'Worth', 'Would', 'Wouldnt', 'Wynne', 'Wysockiego', 'Wñrtsilñ', 'X', 'XBOX', 'XFNASIA', 'XLB', 'XLE', 'XLF', 'XLI', 'XNS1V', 'XVI', 'Xerox', 'Xmas', 'Xpower', 'Xpress', 'YA', 'YANG', 'YELP', 'YHOO', 'YIT', 'YMI', 'YNDX', 'YOKU', 'YTY1V', 'Yahoo', 'YahooFinance', 'Yahoos', 'Yakima', 'Yamskogo', 'Yankov', 'Yara', 'Yards', 'Yaroslavl', 'Year', 'Yekaterinburg', 'Yesterday', 'Yet', 'Yhteishyvñ', 'Yielders', 'Yiliang', 'Yinhe', 'Yit', 'Ylinen', 'Yliopistonrinne', 'Ylivieska', 'YoY', 'Yomiuri', 'York', 'Yorkbased', 'YouTube', 'Young', 'Yvonne', 'Z', 'Z6xx', 'ZAGG', 'ZAO', 'ZNGA', 'ZS', 'ZSL', 'ZTE', 'Zahariev', 'Zaharova', 'Zain', 'Zainalabedin', 'Zanadvorov', 'Zapadnye', 'Zgody', 'Zinc', 'Zoltan', 'Zurich', 'aapl', 'aberration', 'ability', 'able', 'abov', 'abovementioned', 'abroad', 'absentee', 'accelerate', 'accelerated', 'accepted', 'access', 'accessories', 'accident', 'accommodate', 'accommodation', 'accomplish', 'accomplishing', 'accordance', 'according', 'accordingly', 'account', 'accounted', 'accounting', 'accounts', 'accrue', 'accumulate', 'accumulated', 'accumulating', 'accumulation', 'accused', 'accuses', 'achieve', 'achieved', 'achievement', 'acid', 'acknowledged', 'acquire', 'acquired', 'acquirer', 'acquires', 'acquiring', 'acquisition', 'acquisitions', 'acquitted', 'across', 'act', 'acted', 'acting', 'action', 'actions', 'activate', 'activated', 'activating', 'activation', 'active', 'actively', 'activeness', 'activities', 'activity', 'actors', 'actual', 'actually', 'add', 'added', 'addiction', 'adding', 'addition', 'additional', 'addon', 'address', 'adds', 'adequacy', 'adidas', 'adjacent', 'adjust', 'adjustable', 'adjusted', 'adjusting', 'adjustment', 'adjustments', 'administered', 'administration', 'administrative', 'administrators', 'admired', 'admits', 'adopters', 'adopting', 'adoption', 'adult', 'adults', 'advance', 'advanced', 'advantage', 'advantages', 'advert', 'advertised', 'advertisements', 'advertising', 'advice', 'advise', 'advised', 'advisors', 'advisory', 'affairs', 'affect', 'affected', 'affecting', 'affects', 'affordable', 'aforementioned', 'afterhour', 'aftermarket', 'afternoon', 'aftersales', 'aftertreatment', 'age', 'agencies', 'agency', 'agenda', 'agent', 'agents', 'aggregate', 'aggregator', 'ago', 'agree', 'agreed', 'agreeing', 'agreement', 'agreements', 'agrees', 'agricultural', 'ahead', 'ailing', 'ailments', 'aim', 'aimed', 'aiming', 'aims', 'air', 'airBaltic', 'aircraft', 'airline', 'airlines', 'airport', 'airports', 'airspace', 'albums', 'alerts', 'aligned', 'alike', 'alleged', 'alliance', 'allocated', 'allocation', 'allotted', 'allow', 'allowed', 'allows', 'alloys', 'allshare', 'alltime', 'almost', 'alone', 'along', 'alphatrends', 'alpine', 'already', 'alreadyworking', 'also', 'alternately', 'alternative', 'alternatives', 'although', 'altogether', 'alumina', 'aluminium', 'aluminum', 'always', 'amazing', 'ambulance', 'amended', 'amending', 'amendment', 'amendments', 'amid', 'among', 'amount', 'amounted', 'amounting', 'amounts', 'amplifier', 'amplifiers', 'amrn', 'amzn', 'analyses', 'analysis', 'analysishigh', 'analyst', 'analysts', 'analytics', 'analyzed', 'anchored', 'anchors', 'andrewnyquist', 'anglers', 'animal', 'announce', 'announced', 'announcement', 'announces', 'annual', 'annualised', 'annually', 'annulled', 'annum', 'anode', 'another', 'answer', 'answers', 'antenna', 'antennas', 'antibody', 'anticipated', 'anticipates', 'antidumping', 'anyone', 'anything', 'apart', 'apartment', 'apartments', 'apiece', 'app', 'apparatus', 'apparent', 'appeal', 'appealing', 'appear', 'appearing', 'appears', 'appetite', 'applauded', 'applepear', 'appliance', 'applicable', 'application', 'applications', 'applied', 'applies', 'apply', 'applying', 'appoint', 'appointed', 'appointment', 'appointments', 'appoints', 'appreciation', 'approach', 'approaches', 'appropriate', 'approval', 'approvals', 'approve', 'approved', 'approves', 'approx', 'approximately', 'april', 'apsaugos', 'aqua', 'archipelago', 'architecture', 'archived', 'area', 'areanext', 'areas', 'arena', 'argument', 'arguments', 'arm', 'around', 'arranged', 'arrangement', 'arrangements', 'arrangers', 'arrival', 'arrive', 'arrived', 'art', 'arthritis', 'article', 'articles', 'artistic', 'artists', 'arts', 'asbuilt', 'ascending', 'asdfLLC', 'aside', 'ask', 'asked', 'asks', 'aspects', 'asphalt', 'aspiring', 'assembly', 'assessing', 'assessment', 'asset', 'assets', 'assigned', 'assignment', 'assist', 'assistance', 'assistants', 'associate', 'associated', 'associates', 'association', 'associations', 'assume', 'assumed', 'assuming', 'assumption', 'assurance', 'asthma', 'at8', 'attach', 'attached', 'attack', 'attackers', 'attacks', 'attempt', 'attempts', 'attend', 'attention', 'attract', 'attractive', 'attracts', 'attributed', 'attributes', 'auction', 'audience', 'audio', 'auditing', 'auditor', 'auditors', 'authentication', 'authorisation', 'authorisations', 'authorise', 'authorities', 'authority', 'authorization', 'authorized', 'auto', 'automate', 'automated', 'automates', 'automatically', 'automation', 'automobile', 'automotive', 'autumn', 'availability', 'available', 'average', 'avg', 'aviation', 'avoid', 'avoidance', 'awaits', 'award', 'awarded', 'awards', 'awardwinning', 'awareness', 'away', 'awful', 'axe', 'axes', 'axis', 'b', 'b4', 'babies', 'baby', 'back', 'backburner', 'backdrop', 'backed', 'backhaul', 'backlog', 'backs', 'backup', 'backups', 'bad', 'badly', 'bag', 'bags', 'bailout', 'baked', 'baker', 'bakery', 'balance', 'balanced', 'ball', 'ballast', 'balloons', 'ban', 'bancostheyre', 'band', 'bands', 'bank', 'banking', 'bankruptcy', 'banks', 'banned', 'bar', 'bargaining', 'bargainpriced', 'barges', 'bark', 'barley', 'barleycorn', 'barrel', 'barrels', 'barronsonline', 'bascule', 'base', 'based', 'basement', 'bases', 'basestations', 'basic', 'basing', 'basis', 'basketball', 'batch', 'bathroom', 'bathrooms', 'battery', 'bay', 'bbl', 'bbry', 'bc', 'bcd', 'beanietype', 'bear', 'bearing', 'bearish', 'beat', 'beaten', 'beatendown', 'beating', 'became', 'become', 'becomes', 'becoming', 'bed', 'bedroom', 'beef', 'beeinflussen', 'beer', 'beers', 'begin', 'beginner', 'beginning', 'begins', 'behalf', 'behavioural', 'behind', 'beleaguered', 'believe', 'believes', 'bell', 'belonging', 'belt', 'belts', 'benches', 'benchmark', 'beneath', 'beneficial', 'beneficiaries', 'benefit', 'benefits', 'beside', 'besides', 'best', 'bestinclass', 'bestofbreed', 'bestseller', 'bestselling', 'beta', 'bets', 'better', 'betting', 'beverage', 'beverages', 'beyond', 'bias', 'bibs', 'bicentenary', 'bid', 'bidders', 'bidding', 'bidirectional', 'bidirectionality', 'bids', 'big', 'bigger', 'biggest', 'biggies', 'bill', 'billing', 'billion', 'billionaire', 'billionplus', 'billionpound', 'bingeeating', 'biodiesel', 'bioethanol', 'biofuelfired', 'biofuels', 'biofuelsbased', 'bioheapleaching', 'biomass', 'biopharmaceutical', 'biotech', 'birch', 'birchbranch', 'biscuit', 'biscuits', 'bit', 'bitmapped', 'bitter', 'black', 'blames', 'blaming', 'blast', 'bleaching', 'bleeding', 'blending', 'blindspots', 'blip', 'bln', 'bloated', 'bloc', 'block', 'blockchain', 'blocking', 'blog', 'blond', 'blood', 'bloodoxygen', 'blow', 'blows', 'blue', 'bluechip', 'bluecollar', 'bluegills', 'bman1', 'bn', 'bo', 'board', 'boardroom', 'boards', 'boat', 'boaters', 'boats', 'bob', 'bodies', 'bodily', 'body', 'bolster', 'bond', 'bonds', 'bonus', 'book', 'booked', 'booking', 'bookrunners', 'books', 'boomed', 'boost', 'boosted', 'boosting', 'boosts', 'bootcut', 'boots', 'border', 'bored', 'boring', 'born', 'borrower', 'borrowers', 'borrowing', 'boss', 'bosss', 'bot', 'bottle', 'bottled', 'bottles', 'bottom', 'bottoming', 'bottomline', 'bottoms', 'bought', 'bounce', 'bounced', 'bounces', 'bouncing', 'bout', 'bow', 'bowl', 'box', 'boxboard', 'boxes', 'boycotting', 'bps', 'bracing', 'braking', 'branch', 'branches', 'brand', 'branded', 'brandnew', 'brands', 'brasiliensis', 'brcm', 'breached', 'bread', 'breadth', 'break', 'breakable', 'breakdown', 'breakeven', 'breakfast', 'breaking', 'breakout', 'breaks', 'breakup', 'brealout', 'breath', 'breather', 'breeze', 'brewer', 'breweries', 'brewery', 'brianwieser', 'brick', 'bricksandmortar', 'bridge', 'bridges', 'brief', 'bring', 'bringing', 'brings', 'brisk', 'brisker', 'broad', 'broadband', 'broadbased', 'broadcasters', 'broader', 'broadsheet', 'broke', 'broken', 'broker', 'brokerage', 'brokers', 'broking', 'brother', 'brought', 'browse', 'browser', 'browsing', 'brutal', 'bsx', 'bubble', 'bucks', 'budget', 'build', 'builders', 'building', 'buildings', 'builds', 'built', 'bulk', 'bull', 'bullet', 'bulletin', 'bullish', 'bulls', 'bullying', 'bumping', 'bumpy', 'burdened', 'burgers', 'bus', 'business', 'businessclass', 'businesses', 'businesssummit', 'businesstobusiness', 'button', 'buy', 'buyable', 'buyback', 'buybacks', 'buyer', 'buyers', 'buying', 'buyout', 'buys', 'bye', 'bypasses', 'ca', 'cabin', 'cable', 'cads', 'cakes', 'calcination', 'calciners', 'calculate', 'calculated', 'calculates', 'calendar', 'calibrate', 'calibration', 'call', 'called', 'caller', 'callers', 'calling', 'calls', 'came', 'camera', 'cameras', 'campaign', 'campaigns', 'canal', 'canceled', 'cancellation', 'cancer', 'candidates', 'candle', 'cannot', 'cant', 'canvas', 'cap', 'capabilities', 'capability', 'capable', 'capacities', 'capacity', 'capita', 'capital', 'capitals', 'capped', 'caps', 'captures', 'capturing', 'car', 'carbon', 'card', 'cardiovascular', 'cards', 'care', 'career', 'careful', 'cares', 'cargo', 'carmaker', 'carpark', 'carriage', 'carried', 'carrier', 'carrierrelated', 'carriers', 'carries', 'carrots', 'carry', 'carrying', 'cars', 'carshipping', 'cartel', 'cartons', 'case', 'caseUS', 'cases', 'cash', 'casing', 'cast', 'casting', 'castings', 'casual', 'casualty', 'catalyst', 'catalysts', 'catalytic', 'catch', 'categorically', 'categories', 'categorization', 'category', 'catering', 'cathode', 'catskillfishing', 'cause', 'caused', 'cautions', 'cautious', 'cautiously', 'cc', 'ceilings', 'celebrated', 'cell', 'cellphone', 'cells', 'cellular', 'cellulose', 'cement', 'cent', 'center', 'centers', 'centimeters', 'central', 'centralising', 'centralized', 'centres', 'centricity', 'cents', 'ceramic', 'ceramics', 'cereals', 'certain', 'certainly', 'certification', 'certified', 'cessation', 'cfrazierjr', 'chain', 'chains', 'chairman', 'challendge', 'challenge', 'challengers', 'challenges', 'challenging', 'chambers', 'chance', 'change', 'changed', 'changes', 'changing', 'channel', 'channels', 'channelwill', 'chapter', 'characteristics', 'charge', 'charger', 'chargers', 'charges', 'charging', 'chart', 'charter', 'charters', 'charting', 'charts', 'chase', 'chases', 'chassis', 'cheap', 'cheaper', 'cheapest', 'check', 'checkpoint', 'cheer', 'cheered', 'cheerful', 'chemical', 'chemicals', 'cherries', 'chessNwine', 'chief', 'chiefs', 'child', 'children', 'chilled', 'chipped', 'chips', 'chit', 'choice', 'cholesterol', 'choose', 'choosing', 'chore', 'chose', 'chosen', 'chrome', 'chum', 'churned', 'churning', 'cider', 'ciders', 'cinema', 'circle', 'circuit', 'circuits', 'circulating', 'circulation', 'cities', 'citing', 'city', 'civil', 'claim', 'claiming', 'claims', 'clarification', 'clarify', 'clarity', 'class', 'classified', 'clean', 'cleaning', 'clear', 'cleared', 'clearer', 'clearly', 'clears', 'clerical', 'clicked', 'clicking', 'client', 'clientele', 'clients', 'cliff', 'climate', 'climb', 'climbed', 'climbers', 'climbs', 'clinical', 'clock', 'clockwork', 'close', 'closed', 'closedown', 'closely', 'closer', 'closes', 'closing', 'closng', 'closure', 'closures', 'clothing', 'cloud', 'cmon', 'cnnbrk', 'co', 'coagulant', 'coalfired', 'coarranger', 'coast', 'coasters', 'coat', 'coated', 'coating', 'coatings', 'coatingsrelated', 'cobalt', 'cocktail', 'code', 'codenamed', 'coffee', 'cogeneration', 'coincident', 'coke', 'coker', 'cold', 'collaborate', 'collaboration', 'collaborative', 'collated', 'colleagues', 'collect', 'collection', 'collective', 'collects', 'collisions', 'color', 'colorful', 'colors', 'colourful', 'com', 'combination', 'combine', 'combined', 'combines', 'combining', 'come', 'comes', 'comfort', 'comfortably', 'comibinations', 'coming', 'commanding', 'commence', 'comment', 'commented', 'comments', 'commercial', 'commercially', 'commerciallyfunded', 'commission', 'commissioned', 'commissioner', 'commissioning', 'commit', 'commiting', 'commitment', 'commitments', 'committed', 'committee', 'committees', 'commodities', 'common', 'communal', 'communicated', 'communication', 'communications', 'communities', 'community', 'companies', 'company', 'companys', 'companyóEUR', 'comparable', 'comparative', 'comparatives', 'compare', 'compared', 'comparison', 'comparisons', 'compasses', 'compatible', 'compatriot', 'compensated', 'compensation', 'compete', 'competence', 'competencies', 'competency', 'competing', 'competition', 'competitive', 'competitiveness', 'competitor', 'competitors', 'complement', 'complemented', 'complements', 'complete', 'completed', 'completely', 'completes', 'completion', 'complex', 'complexity', 'comply', 'compnay', 'component', 'components', 'composite', 'composition', 'compounds', 'compq', 'comprehensive', 'compressors', 'comprise', 'comprised', 'comprises', 'comprising', 'compulsory', 'computer', 'computers', 'concentrate', 'concentrated', 'concentrating', 'concentrator', 'concept', 'conceptual', 'concern', 'concerned', 'concerning', 'concerns', 'concluded', 'concludes', 'concrete', 'condition', 'conditioning', 'conditions', 'condominiums', 'conduct', 'conducted', 'conducting', 'conference', 'confidence', 'confident', 'configuration', 'configured', 'confirmation', 'confirmed', 'confirming', 'confirms', 'conglomerate', 'congrats', 'conjunction', 'connect', 'connected', 'connecting', 'connection', 'connections', 'connectivity', 'consecutive', 'consensus', 'consent', 'consequence', 'conservative', 'consider', 'considerably', 'consideration', 'considered', 'considering', 'considers', 'consist', 'consistency', 'consistent', 'consisting', 'consists', 'consolidate', 'consolidated', 'consolidates', 'consolidating', 'consolidation', 'consolidations', 'consortium', 'conspiracy', 'constantly', 'constitute', 'constitutes', 'construct', 'constructed', 'construction', 'constructive', 'constructor', 'consulate', 'consultancy', 'consultant', 'consultation', 'consulting', 'consumer', 'consumercustomers', 'consumers', 'consumption', 'contact', 'contacted', 'contain', 'container', 'contains', 'content', 'contents', 'contextual', 'continents', 'continually', 'continuation', 'continue', 'continued', 'continues', 'continuesKantar', 'continuing', 'continuous', 'contract', 'contracted', 'contracting', 'contractor', 'contractors', 'contracts', 'contractual', 'contrast', 'contribute', 'contributed', 'contribution', 'control', 'controlled', 'controller', 'controlling', 'controls', 'convenience', 'convenient', 'convergence', 'convergent', 'conversion', 'conversions', 'convert', 'converted', 'converter', 'converters', 'convertible', 'converting', 'conveying', 'conviction', 'convinced', 'convincing', 'cool', 'cooling', 'coop', 'cooperate', 'cooperating', 'cooperation', 'cooperationand', 'cooperative', 'coordinate', 'coordinated', 'coowner', 'copper', 'copy', 'copying', 'copyright', 'core', 'cornering', 'corners', 'cornerstones', 'corporate', 'corporations', 'corrected', 'correction', 'correlation', 'correleation', 'corrensponds', 'correspond', 'corresponding', 'correspondingly', 'corresponds', 'corroborate', 'corrupt', 'cosmetics', 'cost', 'costcutting', 'costeffective', 'costefficiency', 'costefficient', 'costly', 'costs', 'costumer', 'could', 'council', 'counter', 'counterpart', 'countervalue', 'counties', 'countries', 'country', 'counts', 'couple', 'coupled', 'courier', 'course', 'court', 'courthouse', 'courtship', 'covenants', 'cover', 'coverage', 'covered', 'covering', 'covers', 'cowboy', 'coz', 'crackers', 'cracking', 'craft', 'crane', 'cranes', 'crash', 'crazy', 'cream', 'create', 'created', 'creates', 'creating', 'creation', 'credit', 'creditor', 'cree', 'creep', 'crew', 'crews', 'crisis', 'criteria', 'critical', 'criticised', 'criticising', 'crore', 'cross', 'crosscountry', 'crossed', 'crossing', 'crossover', 'crosstown', 'crowns', 'crude', 'cruise', 'cruising', 'crunching', 'crushed', 'crushing', 'cry', 'crystals', 'cue', 'culdesac', 'culture', 'cumulative', 'cupandhandle', 'curfew', 'curl', 'currencies', 'currency', 'current', 'currently', 'cursors', 'curve', 'cushion', 'custody', 'custom', 'customer', 'customers', 'customised', 'customized', 'cut', 'cutlery', 'cuts', 'cutting', 'cuttolength', 'cyber', 'cycle', 'cyclone', 'dExploitation', 'daily', 'dairy', 'damage', 'damaged', 'damaging', 'dampened', 'dandyduct', 'dark', 'darn', 'darts', 'data', 'database', 'datadriven', 'datasecurity', 'date', 'dates', 'day', 'days', 'dd', 'de', 'dead', 'deadline', 'deal', 'dealer', 'dealers', 'dealership', 'dealmakers', 'deals', 'dean', 'debate', 'debenture', 'debt', 'decaliters', 'decide', 'decided', 'decision', 'decisionmaking', 'deck', 'declare', 'declares', 'decline', 'declined', 'declining', 'decor', 'decoration', 'decorative', 'decrease', 'decreased', 'dedicated', 'deducted', 'deep', 'deepwater', 'defect', 'defences', 'defends', 'defense', 'defined', 'definitely', 'definitive', 'degree', 'deinking', 'delay', 'delayed', 'delays', 'delegation', 'delighted', 'delist', 'delisted', 'deliver', 'delivered', 'deliveries', 'delivering', 'delivers', 'delivery', 'demand', 'demanded', 'demanding', 'demerger', 'demographic', 'demonstrated', 'demonstrates', 'demonstrating', 'demonstration', 'demonstrations', 'denied', 'denominated', 'dent', 'dental', 'department', 'departures', 'depend', 'depending', 'depends', 'deploy', 'deployment', 'deposit', 'depositor', 'deposits', 'depot', 'depots', 'depressed', 'depth', 'deputy', 'deregulatory', 'derive', 'derived', 'derives', 'deriving', 'derogating', 'desalination', 'descending', 'described', 'design', 'designated', 'designation', 'designed', 'designer', 'designing', 'designs', 'desk', 'desktop', 'despite', 'destinations', 'destroyed', 'detail', 'detailed', 'detailing', 'details', 'detect', 'detected', 'detection', 'determine', 'determined', 'determining', 'devaluation', 'develop', 'developed', 'developer', 'developers', 'developing', 'development', 'developments', 'develops', 'device', 'devices', 'diabetes', 'diagnosed', 'diagnostic', 'diagnostics', 'diagrid', 'dial', 'dialing', 'diamond', 'dictated', 'didnt', 'die', 'diesel', 'differ', 'difference', 'different', 'differentiate', 'differs', 'difficult', 'difficulties', 'diffuse', 'digital', 'digits', 'diluted', 'dilution', 'dimensions', 'diminished', 'dioxide', 'dip', 'dipping', 'dips', 'direct', 'directed', 'direction', 'directly', 'director', 'directors', 'directory', 'disagreement', 'disappear', 'disappeared', 'disappoint', 'disappointing', 'disappointment', 'disappoints', 'disaster', 'disclaims', 'disclose', 'disclosed', 'discloses', 'disclosing', 'disclosure', 'discontinue', 'discontinued', 'discount', 'discounted', 'discounters', 'discovered', 'discuss', 'discussed', 'discussion', 'discussions', 'disease', 'diseasespecific', 'disgraceful', 'dishes', 'dismissed', 'disorder', 'dispels', 'display', 'displays', 'disposable', 'disposal', 'dispose', 'dispute', 'dissolve', 'dissolved', 'distance', 'distant', 'distinct', 'distinctive', 'distinctly', 'distinguished', 'distributable', 'distribute', 'distributed', 'distributes', 'distribution', 'distributions', 'distributor', 'distributors', 'district', 'dive', 'divergence', 'diversified', 'diversify', 'divested', 'divestment', 'divestments', 'divests', 'divi', 'divide', 'divided', 'dividend', 'dividends', 'division', 'divisions', 'djia', 'doctors', 'document', 'documentation', 'documents', 'doesnt', 'dog', 'dojis', 'dollar', 'dollars', 'domain', 'domestic', 'domestically', 'dominance', 'dominated', 'dominating', 'donate', 'donation', 'donations', 'done', 'dont', 'doom', 'doomed', 'door', 'doors', 'dos', 'dose', 'doses', 'dosing', 'double', 'doublechecked', 'doubled', 'doubledeck', 'doubledigit', 'doubles', 'downgrade', 'downgraded', 'downgrades', 'download', 'downloadable', 'downloading', 'downplay', 'downside', 'downsizing', 'downstream', 'downtown', 'downtrend', 'downturns', 'downward', 'dozen', 'dozens', 'drafted', 'dragged', 'dragging', 'drags', 'drainage', 'dramatic', 'dramatically', 'draught', 'drawing', 'drawn', 'dress', 'dried', 'drink', 'drinking', 'drinks', 'drive', 'driven', 'drivers', 'drives', 'driving', 'drop', 'dropped', 'dropping', 'drops', 'drought', 'drug', 'drugmakers', 'drugs', 'dry', 'drying', 'du', 'dualfuel', 'due', 'dumping', 'dumps', 'duo', 'duration', 'duties', 'duty', 'dwt', 'dyed', 'dyes', 'dynamic', 'e', 'eBusiness', 'earlier', 'earliest', 'early', 'earned', 'earning', 'earnings', 'earningslots', 'earningsrelated', 'earnout', 'earns', 'ease', 'easier', 'east', 'eastern', 'easyJet', 'eat', 'eaten', 'ebay', 'ecoefficient', 'ecofriendly', 'ecommerce', 'econ', 'economic', 'economies', 'economy', 'ecosystem', 'edges', 'edging', 'edible', 'education', 'effect', 'effected', 'effective', 'effectively', 'effectiveness', 'effects', 'efficiencies', 'efficiency', 'efficient', 'effluent', 'effort', 'efforts', 'eg', 'eggs', 'eigener', 'eight', 'eighteen', 'eightfold', 'eila', 'einvoice', 'either', 'elect', 'elected', 'elections', 'electric', 'electrical', 'electrically', 'electricity', 'electrification', 'electronic', 'electronics', 'element', 'elements', 'eletric', 'elevated', 'elevator', 'elevators', 'eleven', 'eligible', 'else', 'elsewhere', 'email', 'emailed', 'emails', 'embarked', 'embroiled', 'emerge', 'emergency', 'emerging', 'emission', 'emissions', 'emphasis', 'emphasised', 'emphasises', 'employ', 'employed', 'employee', 'employees', 'employer', 'employeremployee', 'employers', 'employing', 'employment', 'employs', 'empty', 'en', 'enable', 'enables', 'enabling', 'enclosed', 'encompassing', 'encourage', 'end', 'endAugust', 'ended', 'ending', 'ends', 'endtoend', 'enduses', 'energy', 'energyefficient', 'engaged', 'engagement', 'engine', 'engineer', 'engineered', 'engineering', 'engineers', 'engines', 'engulfing', 'enhance', 'enhanced', 'enhances', 'enhancing', 'enjoy', 'enough', 'ensure', 'ensuring', 'enter', 'entered', 'enterprise', 'enterprises', 'enters', 'entertainment', 'enthusiasm', 'entice', 'entire', 'entirely', 'entirety', 'entitle', 'entitled', 'entitlement', 'entitlements', 'entitles', 'entity', 'entrepreneur', 'entry', 'enuff', 'environment', 'environmental', 'environmentally', 'environments', 'envisaged', 'envisages', 'eod', 'equal', 'equaling', 'equalweight', 'equilibrium', 'equipment', 'equipped', 'equities', 'equity', 'equitybacked', 'equivalents', 'era', 'erases', 'erection', 'ergonomic', 'erhñlt', 'errors', 'escalators', 'especially', 'essential', 'establish', 'established', 'establishes', 'establishing', 'establishment', 'estate', 'estimate', 'estimated', 'estimates', 'estimation', 'etc', 'ethanol', 'eur', 'euro', 'euro0', 'euro1', 'euro120', 'euro13', 'euro172', 'euro18', 'euro26', 'euro3', 'euro300', 'euro603', 'euro735', 'euro742', 'euro86', 'europeans', 'euros', 'ev3', 'evacuate', 'evaluated', 'evaluation', 'even', 'evening', 'event', 'events', 'ever', 'every', 'everyday', 'everydayWhich', 'everyone', 'everything', 'evidence', 'evident', 'evidentiary', 'exSEC', 'exactly', 'examines', 'examining', 'example', 'exceed', 'exceeded', 'exceeds', 'excellence', 'excellent', 'excellently', 'except', 'excerpt', 'excess', 'excessive', 'exchange', 'excise', 'excited', 'exciting', 'excluding', 'exclusive', 'excuse', 'execute', 'executed', 'execution', 'executive', 'executives', 'exempted', 'exempting', 'exercise', 'exercising', 'exert', 'exhibition', 'exist', 'existing', 'exists', 'exit', 'exits', 'exp', 'expand', 'expandable', 'expanded', 'expanding', 'expands', 'expansion', 'expect', 'expectations', 'expected', 'expecting', 'expects', 'expenditure', 'expenditures', 'expenses', 'expensive', 'experience', 'experiences', 'experiencing', 'experimenting', 'expert', 'expertise', 'experts', 'expiration', 'expire', 'expired', 'expires', 'expiring', 'explain', 'explained', 'explains', 'exploited', 'exploits', 'exploration', 'explore', 'exploring', 'explosive', 'explosively', 'export', 'exported', 'exporter', 'exports', 'exposure', 'expressed', 'expression', 'expressly', 'ext', 'extend', 'extended', 'extendedhours', 'extending', 'extends', 'extension', 'extensive', 'extensively', 'extent', 'exterior', 'extra', 'extract', 'extracted', 'extraction', 'extraordinary', 'extreme', 'extremely', 'eye', 'eyeing', 'eyes', 'f', 'fabric', 'fabrication', 'fabrics', 'facades', 'face', 'faces', 'facilitate', 'facilities', 'facilitieskeeping', 'facility', 'facing', 'fact', 'factbased', 'factor', 'factored', 'factories', 'factors', 'factory', 'fade', 'fail', 'failed', 'failing', 'fails', 'failure', 'fair', 'faith', 'fakeout', 'fall', 'fallen', 'faller', 'fallers', 'falling', 'fallondpicks', 'falls', 'false', 'families', 'family', 'familyfun', 'fanfare', 'far', 'farm', 'farms', 'fast', 'fasten', 'faster', 'fastest', 'fat', 'fats', 'faulty', 'favor', 'favorable', 'favorite', 'favors', 'favourable', 'favourably', 'favours', 'fb', 'fears', 'feasibility', 'feasible', 'feature', 'featured', 'features', 'featuring', 'feb', 'federal', 'feds', 'fee', 'feed', 'feedback', 'feeders', 'feedersupply', 'feedstock', 'feel', 'feeling', 'fees', 'feet', 'fell', 'felled', 'felt', 'femto', 'fencing', 'ferries', 'ferrochrome', 'ferry', 'fertilizer', 'festive', 'fewer', 'fgVoIP', 'fi', 'fiber', 'fiberbased', 'fibers', 'fibertothehome', 'fibrebased', 'fibrecoaxial', 'field', 'fields', 'fierce', 'fifth', 'fight', 'figure', 'figures', 'file', 'filed', 'files', 'filing', 'fill', 'filledlookin', 'filling', 'filter', 'filters', 'filtrates', 'final', 'finale', 'finalize', 'finalized', 'finally', 'finance', 'financed', 'finances', 'financial', 'financially', 'financing', 'financings', 'find', 'finding', 'findings', 'finds', 'fine', 'fined', 'fingerfriendly', 'finish', 'finished', 'finisher', 'finishing', 'fire', 'fired', 'fireplace', 'fireplaces', 'firm', 'firmed', 'firms', 'first', 'firsthalf', 'firstquarter', 'fiscal', 'fish', 'fishing', 'fishy', 'fit', 'fitness', 'fits', 'five', 'fivestar', 'fivestorey', 'fiveyear', 'fixed', 'fixedperiod', 'fixedterm', 'fixing', 'flag', 'flagging', 'flagship', 'flange', 'flashing', 'flat', 'flatI', 'fleet', 'flew', 'flexibility', 'flexible', 'flexibly', 'flies', 'flight', 'flights', 'float', 'floats', 'flock', 'floor', 'floorball', 'flooring', 'floorings', 'floors', 'floral', 'flow', 'fluctuated', 'fluctuation', 'fluid', 'flush', 'flushed', 'fly', 'flying', 'fo', 'focus', 'focused', 'focuses', 'focusing', 'folded', 'folding', 'follow', 'followed', 'following', 'followon', 'follows', 'food', 'foods', 'foot', 'footing', 'footwear', 'force', 'forced', 'forces', 'forecast', 'forecasts', 'foreign', 'foremost', 'foresees', 'forest', 'forestry', 'forests', 'forever', 'forex', 'forges', 'forging', 'fork', 'form', 'forma', 'formadehyde', 'formal', 'format', 'formation', 'formed', 'former', 'formerly', 'forming', 'forms', 'formwork', 'forthcoming', 'forums', 'forward', 'forwarded', 'forwarders', 'forwarding', 'forwards', 'foul', 'found', 'foundation', 'foundations', 'founded', 'founder', 'founders', 'foundry', 'four', 'fourdoor', 'fourmonth', 'fourth', 'fourthlargest', 'fourthquarter', 'fouryear', 'fragile', 'fragmented', 'frame', 'framework', 'framing', 'franc', 'franchising', 'free', 'freezing', 'freighters', 'frequencies', 'frequency', 'frequent', 'fresh', 'friday', 'friend', 'friendly', 'friends', 'front', 'frontedge', 'frozen', 'fruit', 'ft', 'fuel', 'fuelling', 'fuels', 'fulfil', 'fulfill', 'fulfilled', 'fulfilment', 'full', 'fullfunction', 'fully', 'fullyear', 'fullyleased', 'fullyowned', 'fun', 'function', 'functionalities', 'functionality', 'functions', 'fund', 'fundam', 'fundamentals', 'funded', 'fundementals', 'funding', 'fundredemption', 'funds', 'furlough', 'furnace', 'furnaces', 'furniture', 'furthermore', 'fusing', 'future', 'g', 'gain', 'gained', 'gainers', 'gaining', 'gains', 'gainsadvances', 'gakrum', 'gambling', 'game', 'games', 'gaming', 'gantry', 'gap', 'gapping', 'garage', 'garden', 'gardening', 'gas', 'gasfuelled', 'gasoline', 'gate', 'gatecrash', 'gatehouse', 'gather', 'gathered', 'gave', 'gear', 'geenrated', 'general', 'generally', 'generate', 'generated', 'generates', 'generating', 'generation', 'generator', 'generators', 'genetically', 'genuine', 'geographic', 'geographical', 'geographically', 'geographies', 'geometric', 'geometrically', 'get', 'gets', 'gettin', 'getting', 'giant', 'gift', 'girders', 'give', 'given', 'gives', 'giving', 'glad', 'glass', 'glasses', 'glassfiber', 'global', 'globally', 'gloss', 'glut', 'go', 'goal', 'goals', 'god', 'goes', 'going', 'gold', 'gone', 'gonna', 'good', 'goodid', 'goods', 'goodwill', 'goog', 'got', 'gotta', 'gottahave', 'governed', 'governemtn', 'government', 'governmentowned', 'grabbing', 'grade', 'grades', 'grading', 'gradually', 'grain', 'grainbased', 'granted', 'grants', 'grapevine', 'graphics', 'grappling', 'grate', 'gray', 'great', 'greater', 'greatest', 'green', 'grew', 'grid', 'grill', 'grinding', 'grinds', 'grocer', 'grocery', 'gross', 'ground', 'groundbreaking', 'grounds', 'group', 'groups', 'grow', 'growing', 'grown', 'grows', 'growth', 'gs', 'guac', 'guaranteed', 'guess', 'guidance', 'guide', 'guided', 'guides', 'guy', 'gypsum', 'gyrating', 'hack', 'hackers', 'hacking', 'haha', 'hails', 'half', 'halfahair', 'hall', 'halted', 'halved', 'hammer', 'hammered', 'hand', 'handcrocheted', 'handheld', 'handle', 'handled', 'handlers', 'handles', 'handling', 'handoff', 'handout', 'handpainted', 'hands', 'handset', 'handsets', 'hang', 'hangin', 'hanging', 'happen', 'happened', 'happening', 'happens', 'happy', 'harbor', 'hard', 'hardest', 'hardware', 'harmongreg', 'harness', 'harvester', 'harvesters', 'harvesting', 'has80', 'hasten', 'hat', 'hatch', 'hated', 'hauling', 'havent', 'head', 'headbox', 'headboxes', 'headcount', 'headed', 'heading', 'headquarter', 'headquartered', 'headquarters', 'heads', 'headwindsbullish', 'health', 'healthcare', 'healthier', 'healthy', 'hear', 'heard', 'hearing', 'heart', 'heat', 'heated', 'heating', 'heatretaining', 'heats', 'heavily', 'heavy', 'heavyduty', 'heavyhitting', 'hectares', 'hedge', 'hedging', 'height', 'heights', 'held', 'helmets', 'help', 'helped', 'helping', 'hence', 'hepatitis', 'herd', 'hereLong', 'heresold', 'heterogenous', 'hhhmm', 'high', 'highdensity', 'highend', 'higher', 'higherthanexpected', 'highest', 'highestplaced', 'highestquality', 'highgrowth', 'highlight', 'highlighted', 'highlights', 'highly', 'highperformance', 'highpower', 'highquality', 'highrises', 'highs', 'highspeed', 'hightech', 'highway', 'hike', 'hikes', 'hilower', 'hire', 'hired', 'hires', 'hiring', 'historian', 'historic', 'historical', 'historically', 'history', 'hit', 'hitech', 'hits', 'hitting', 'hockey', 'hod', 'hodshould', 'hoist', 'hoists', 'hold', 'holder', 'holders', 'holding', 'holdings', 'holds', 'holiday', 'holidays', 'holy', 'home', 'homebase', 'homebased', 'homepage', 'homes', 'homeware', 'honored', 'hook', 'hooked', 'hope', 'hoped', 'hopes', 'hoping', 'horizon', 'horizontal', 'horrible', 'hospitality', 'hospitals', 'host', 'hosted', 'hostile', 'hosting', 'hot', 'hotel', 'hotels', 'hour', 'hourly', 'hours', 'house', 'housebuilder', 'households', 'houses', 'housewares', 'housing', 'hover', 'however', 'httpchartly2bey48t', 'httpchartly6nosp5q', 'httpchartly7xb9h9b', 'httpchartlyakvujxh', 'httpchartlylgb94rr', 'httpchartlylha44tn', 'httpchartlyml857v3', 'httpstco11K8JzuzMU', 'httpstco1FA6aTOqlw', 'httpstco24hQTQX4ou', 'httpstco2CXahJIX7d', 'httpstco2WQqh35KOY', 'httpstco3BDNEKN7l1', 'httpstco3vXT7AMnpk', 'httpstco4Cs3CNZEBB', 'httpstco4TdgjEDLLZ', 'httpstco4hBoUDR8B8', 'httpstco58tEAEXxpE', 'httpstco5PR4cBtVVy', 'httpstco5QXBkoBphe', 'httpstco63JHQ7pwMN', 'httpstco6NKWEcrBA5', 'httpstco6l3m1wXChw', 'httpstco729BiqLbtK', 'httpstco76DSJysyR0', 'httpstco7J0Gwz89ZC', 'httpstco8VXFUUIt04', 'httpstco8Z7BkVsTl9', 'httpstco9BJ3csk2i9', 'httpstco9ImlXz4YNa', 'httpstco9Q7cI79IYO', 'httpstco9xG5W8nONT', 'httpstcoBFWS3DbM0U', 'httpstcoBmvhcrwREA', 'httpstcoCzHIX3tuAG', 'httpstcoDNh7Hgv22V', 'httpstcoDQfuzOzYlh', 'httpstcoEQQLTfUiOU', 'httpstcoF55dx4aegI', 'httpstcoFa5cnh2t0t', 'httpstcoFeMhJtAmQj', 'httpstcoGIoOf6zbKv', 'httpstcoGpRZ2UJFC4', 'httpstcoH9vqXpZ15G', 'httpstcoHSqdoVry07', 'httpstcoHmOegfHgvn', 'httpstcoHz0wdp5za1', 'httpstcoIRID6zd5gc', 'httpstcoImKYGO2cyc', 'httpstcoIy4LCUGABc', 'httpstcoJ3UhTs022M', 'httpstcoJDNZXDCMkl', 'httpstcoJlgrprR54k', 'httpstcoKPBBCgQ2xy', 'httpstcoLJNXPEvHZN', 'httpstcoLSahepdqhD', 'httpstcoLxX66tknFH', 'httpstcoMRBgfDHHVa', 'httpstcoMhOBzU3Rmx', 'httpstcoMpyLiReQjh', 'httpstcoN8X8BpLJ1E', 'httpstcoNPAkc3U6GS', 'httpstcoO4lwCDXMbr', 'httpstcoOa0loiRIJL', 'httpstcoOdPraN59Xq', 'httpstcoQBsoWjxOST', 'httpstcoQqlEvVwPMV', 'httpstcoQuYSrqFo2x', 'httpstcoSABxCSn8cd', 'httpstcoTJjVpqhHqD', 'httpstcoTaJF0cH2qh', 'httpstcoThfvWTnRPs', 'httpstcoTohLEQ8FK6', 'httpstcoVM32d3M9xi', 'httpstcoVahhJAcBFG', 'httpstcoVkYdWPxeSN', 'httpstcoVlzlgvIHZV', 'httpstcoVt6T5Zp2is', 'httpstcoXCNgws0t4q', 'httpstcoXfnICWeBeG', 'httpstcoXk6lZ3UI3K', 'httpstcoYVYDncdNdi', 'httpstcoZ2je3rTKch', 'httpstcoZMDG0fb3I7', 'httpstcob7izYa4BuE', 'httpstcobGvIntk43h', 'httpstcoc72LLMpiNM', 'httpstcocvkojk05Xn', 'httpstcoczCf8Kbrlt', 'httpstcodEVnLKhqtZ', 'httpstcodR5baNun2u', 'httpstcoeA4FBVuqGP', 'httpstcoextZr1riyP', 'httpstcof2PdQjuTHa', 'httpstcofPFbYTYPuY', 'httpstcogY0aDb2jsQ', 'httpstcoggne4ayzqn', 'httpstcoh5hmXSITwM', 'httpstcohFkLq3WObV', 'httpstcoiuZJelfwt3', 'httpstcoj35FNnx744', 'httpstcoj5jVjI9bia', 'httpstcojEPLmZQKGW', 'httpstcojNDphllzq5', 'httpstcojSpUSzo6na', 'httpstcojVXQ4DoXnP', 'httpstcojnB4c9vdCu', 'httpstcojrcFC8XlY9', 'httpstcolKlD9mVKBQ', 'httpstcolgU0yBxEZe', 'httpstcom6BKHBkzK5', 'httpstcomK7MEMtADT', 'httpstconJx4mnrGLo', 'httpstconlcZawDoHP', 'httpstconxLx1ES7nY', 'httpstcooKTCw4YiB5', 'httpstcoreuf5PzhBm', 'httpstcosX3z7u6N8o', 'httpstcosedqRWgdkt', 'httpstcot0dn02EOH5', 'httpstcot1kMqVwhQQ', 'httpstcotTm9RnFoXJ', 'httpstcotcKqZnMIqX', 'httpstcotqMMt7N16X', 'httpstcouOE7FJ4LOP', 'httpstcouVMmRSR5Zy', 'httpstcov7Lkq08Flp', 'httpstcovT7ppzY2UY', 'httpstcovVpzqCXsNJ', 'httpstcowMy1PnomJF', 'httpstcowc2qfP79TN', 'httpstcoxDGrAExkKz', 'httpstcoxvn4blIwpy', 'httpstcoyCnClcBImV', 'httpstcoyEJuS9cMlC', 'httpstcoyfa9jcUsQa', 'httpstcoz1qb9xa4LD', 'httpstcoz8G5cZaKeU', 'httpstcozwHThSvFSF', 'httpstksco13mW', 'httpstksco15Nv', 'httpstksco15uR', 'httpstksco163e', 'httpstksco1BUE', 'httpstksco1CYN', 'httpstksco1G6x', 'httpstksco1KJ9', 'httpstksco1KkK', 'httpstksco1LDx', 'httpstksco1Lpz', 'httpstksco1MiR', 'httpstksco1NBF', 'httpstksco1Qfg', 'httpstksco1agn', 'httpstksco1itr', 'httpstksco24kM', 'httpstksco2Fcm', 'httpstksco2TAd', 'httpstksco2TrG', 'httpstksco2pa7', 'httpstksco2zWE', 'httpstksco3Qta', 'httpstksco3eiK', 'httpstksco3eiL', 'httpstksco3ffN', 'httpstksco3rdu', 'httpstksco44ow', 'httpstkscoXyf', 'httpstkscoYYe', 'httpstkscoa1IX4', 'httpstkscoaDpO', 'httpstkscoaKTU', 'httpstkscoaT3GLooks', 'httpstkscoaw6z', 'httpstkscob1SVH', 'httpstkscob1kD8', 'httpstkscob29eU', 'httpstkscobDqV', 'httpstkscobOH4', 'httpstkscoc06zG', 'httpstkscoc0mf3', 'httpstkscoc0sU4', 'httpstkscoc1IvX', 'httpstkscoc1Ols', 'httpstkscoc1QKr', 'httpstkscoc1qrm', 'httpstkscoc29Nu', 'httpstkscoc8sR', 'httpstkscocEtw', 'httpstkscod0RHF', 'httpstkscod27qX', 'httpstkscodL1Z', 'httpstkscodZU', 'httpstkscodeDm', 'httpstkscoe0DfP', 'httpstkscoe0PX1', 'httpstkscoe19h', 'httpstkscoeOvw', 'httpstkscoeXVU', 'httpstkscoeXtA', 'httpstkscof1vVU', 'httpstkscof26r4', 'httpstkscof2P94', 'httpstkscof2fgj', 'httpstkscofYCo', 'httpstkscofdmm', 'httpstkscog0ls5', 'httpstkscog1F4T', 'httpstkscog1T7c', 'httpstkscog1cqd', 'httpstkscog3A1', 'httpstkscogBSH', 'httpstkscogGCq', 'httpstkscoghjc', 'httpstkscogoan', 'httpstkscoh0cPJ', 'httpstkscoh0vV8', 'httpstkscoi0GGH', 'httpstkscoi2Cj1', 'httpstkscoi9T3', 'httpstkscoiFpo', 'httpstkscoiPVJ', 'httpstkscoir2F', 'httpstkscoj05uu', 'httpstkscoj0Q9t', 'httpstkscoj1TdF', 'httpstkscoj1qt6', 'httpstkscoj2awg', 'httpstkscojPbN', 'httpstkscojQ0w', 'httpstkscojQfB', 'httpstkscojRmW', 'httpstkscojkUF', 'httpstkscojr8', 'httpstkscol8y4', 'httpstksconFEI', 'httpstkscoo0xY', 'httpstkscoo17i', 'httpstkscoo9nY', 'httpstkscop12QY', 'httpstkscop1V6P', 'httpstkscop27hZ', 'httpstkscoq0WfF', 'httpstkscoq1jAu', 'httpstkscoqSaL', 'httpstkscoqzzx', 'httpstkscor0KKm', 'httpstkscor0cet', 'httpstkscor0ebN', 'httpstkscor12Us', 'httpstkscor1j6c', 'httpstkscor26Ra', 'httpstkscor2F3h', 'httpstkscor82S', 'httpstkscos052z', 'httpstkscos0Ny4', 'httpstkscos1eQc', 'httpstkscos2PDF', 'httpstkscosIYn', 'httpstkscosIln', 'httpstkscot04xX', 'httpstkscot0Vel', 'httpstkscot0tAh', 'httpstkscot1Qp6', 'httpstkscot1Z8T', 'httpstkscot1bOi', 'httpstkscotCSE', 'httpstkscotJU', 'httpstkscotMU', 'hu', 'huge', 'huh', 'hull', 'human', 'humans', 'hun', 'hundreds', 'hunt', 'hunting', 'hurdle', 'hurdles', 'hurt', 'hurting', 'hybrid', 'hydraulics', 'hydro', 'hydrocarbon', 'hydrocarbons', 'hydrogen', 'iGen3', 'iGrid', 'iPad', 'iPhone', 'ice', 'icecream', 'iconic', 'icy', 'idea', 'ideal', 'ideas', 'identical', 'identified', 'identify', 'identifying', 'identity', 'ie', 'ignore', 'ignored', 'illegal', 'illustration', 'ilmn', 'image', 'imagine', 'imaging', 'immediate', 'immediately', 'immersive', 'imo', 'impact', 'impacted', 'impacting', 'impacts', 'impairment', 'implement', 'implementation', 'implemented', 'implementing', 'implements', 'implies', 'import', 'importance', 'important', 'imported', 'imports', 'imporvement', 'impress', 'impressed', 'impressive', 'improbe', 'improve', 'improved', 'improvement', 'improvements', 'improves', 'improving', 'impulse', 'imputed', 'inaugural', 'inaugurated', 'inaugurates', 'inaugurating', 'incentive', 'inches', 'incident', 'incl', 'inclination', 'include', 'included', 'includes', 'including', 'inclusion', 'inclusive', 'income', 'incorporate', 'incorporates', 'incorporating', 'increase', 'increased', 'increases', 'increasing', 'increasingly', 'inculding', 'incur', 'incurred', 'incy', 'indebtedness', 'independence', 'independent', 'independently', 'indepth', 'index', 'indexes', 'indexlinked', 'indicate', 'indicated', 'indicates', 'indicating', 'indication', 'indicator', 'indicators', 'indices', 'individual', 'individualising', 'individually', 'individuals', 'industrial', 'industrialisation', 'industries', 'industry', 'industryleading', 'infected', 'inflation', 'info', 'inform', 'information', 'informed', 'infotainment', 'infra', 'infrastructure', 'infringement', 'ingredient', 'inhibitor', 'initial', 'initially', 'initiate', 'initiated', 'initiative', 'initiatives', 'injectable', 'injection', 'injury', 'ink', 'inked', 'inline', 'innovation', 'innovational', 'innovative', 'inorganic', 'input', 'inregard', 'inside', 'insiders', 'insights', 'inspected', 'inspection', 'inspections', 'inspectorate', 'inspects', 'inspires', 'install', 'installation', 'installations', 'installed', 'installment', 'instance', 'instead', 'instill', 'institutional', 'institutions', 'instruction', 'instructional', 'instrument', 'instrumentation', 'instruments', 'insurance', 'insurer', 'insurers', 'intact', 'intactevenif', 'intake', 'intangible', 'integrate', 'integrated', 'integration', 'intelligence', 'intelligent', 'intend', 'intended', 'intends', 'intensifying', 'intensity', 'intensive', 'intent', 'intention', 'intentions', 'interaction', 'interactions', 'interbank', 'interchange', 'interconnected', 'interconnection', 'interest', 'interestbearing', 'interested', 'interesting', 'interests', 'interface', 'interfaces', 'interference', 'interim', 'interims', 'interior', 'interiors', 'intermediate', 'intermittently', 'intermodal', 'internal', 'internals', 'international', 'internationalised', 'internationalizing', 'internationally', 'internet', 'interoperability', 'interrupted', 'intersection', 'intervention', 'interview', 'intract', 'intraday', 'intravenously', 'intriguing', 'introduce', 'introduced', 'introduces', 'introducing', 'introduction', 'intuitive', 'invalid', 'invalidated', 'invehicle', 'invented', 'invention', 'inventor', 'inventories', 'inventors', 'inventory', 'inverted', 'inverters', 'invest', 'invested', 'investigate', 'investigated', 'investigation', 'investigators', 'investing', 'investment', 'investments', 'investor', 'investors', 'invitations', 'invite', 'invoice', 'invoices', 'invoicing', 'involve', 'involved', 'involves', 'involving', 'iron', 'ironmaking', 'irregularities', 'irrevocable', 'ish', 'islands', 'isoprene', 'isrg', 'issuance', 'issue', 'issued', 'issuer', 'issues', 'issuing', 'item', 'items', 'iterating', 'iwm', 'jacket', 'jan', 'jeans', 'jeopardy', 'jet', 'jets', 'jimcramer', 'jmho', 'job', 'jobs', 'joemccann', 'join', 'joined', 'joins', 'joint', 'jointly', 'journey', 'journeys', 'judge', 'judgement', 'jump', 'jumped', 'jumps', 'junction', 'justdrinks', 'justfood', 'justified', 'justifies', 'kW', 'kaupunki', 'kaupunkin', 'kebabs', 'keep', 'keeping', 'keeps', 'kept', 'key', 'keyboard', 'keyloggers', 'keylogging', 'keyword', 'kick', 'kicking', 'kids', 'killing', 'kilograms', 'kilometers', 'kilometres', 'kilos', 'kind', 'kinds', 'kjepeneter', 'klo', 'km', 'knives', 'know', 'knowhow', 'knowledge', 'knowledgebased', 'knowledgeintensive', 'known', 'knows', 'kostenlos', 'koulutuskuntayhtyma', 'kraft', 'kraftliner', 'kroner', 'kronor', 'kroon', 'kroons', 'labels', 'labor', 'laboratories', 'laboratory', 'lack', 'lacquered', 'ladle', 'lags', 'laid', 'lamp', 'land', 'landed', 'lands', 'lang', 'langs', 'language', 'languages', 'large', 'largely', 'larger', 'largerthanexpected', 'largest', 'last', 'late', 'lately', 'later', 'latest', 'lats', 'latter', 'launch', 'launched', 'launches', 'launching', 'laut', 'law', 'lawmakers', 'laws', 'lay', 'layer', 'layers', 'laying', 'layoff', 'layoffs', 'leaching', 'lead', 'leader', 'leaders', 'leadership', 'leading', 'leadmanagers', 'leads', 'leak', 'leakage', 'leaked', 'lean', 'leaning', 'leap', 'learn', 'learning', 'leasable', 'lease', 'leaseback', 'leased', 'leases', 'leasing', 'least', 'leave', 'leaves', 'leaving', 'led', 'left', 'leg', 'legacy', 'legal', 'lei', 'leisure', 'lender', 'lenders', 'lending', 'length', 'less', 'let', 'lets', 'lettable', 'letter', 'letting', 'leukaemia', 'level', 'levels', 'leverage', 'liabilities', 'liability', 'libraries', 'library', 'licence', 'licences', 'license', 'licenses', 'licensing', 'lies', 'life', 'lifecycle', 'lift', 'liftaway', 'lifted', 'lifting', 'lifts', 'light', 'lighter', 'lighting', 'lightning', 'lights', 'lightweight', 'like', 'likely', 'likes', 'liking', 'limestone', 'limit', 'limited', 'limiting', 'limits', 'line', 'liner', 'lines', 'lingers', 'lining', 'link', 'linking', 'links', 'linkspans', 'lion', 'lip', 'liquefied', 'liquid', 'liquidated', 'liquidations', 'liquidity', 'liquids', 'liquor', 'list', 'listed', 'listing', 'litas', 'liter', 'liters', 'litres', 'litter', 'little', 'live', 'living', 'lo', 'load', 'loadbearing', 'loaded', 'loader', 'loaders', 'loading', 'loan', 'loans', 'local', 'localisation', 'locally', 'locate', 'located', 'location', 'locationbased', 'locations', 'locator', 'lock', 'locks', 'locomotive', 'lodged', 'log', 'logged', 'logging', 'logical', 'logistic', 'logistical', 'logistics', 'logs', 'lol', 'long', 'longdistance', 'longed', 'longer', 'longerterm', 'longestablished', 'longs', 'longscongratsanother', 'longstanding', 'longterm', 'look', 'looked', 'looking', 'lookout', 'looks', 'looms', 'loose', 'lorry', 'lose', 'loses', 'losing', 'loss', 'loss239', 'losses', 'lost', 'lot', 'lots', 'louiebeene', 'lousy', 'love', 'lovely', 'low', 'lowcost', 'lowdown', 'lowend', 'lower', 'lowered', 'lowering', 'lowest', 'lows', 'loyal', 'loyalty', 'lucky', 'lump', 'lunch', 'lung', 'lure', 'lures', 'luxury', 'lye', 'm2', 'm3', 'mEUR', 'mEUR8', 'machine', 'machineroomless', 'machinery', 'machines', 'macroeconomic', 'made', 'magazine', 'magnet', 'magnetic', 'magnetite', 'mail', 'main', 'mainly', 'mainstream', 'maintain', 'maintained', 'maintaining', 'maintains', 'maintenance', 'major', 'majority', 'majors', 'make', 'makeover', 'maker', 'makers', 'makes', 'making', 'mako', 'mall', 'malware', 'manage', 'managed', 'management', 'manager', 'managers', 'manages', 'managing', 'mandate', 'mandatory', 'manganese', 'manipulation', 'manipulator', 'manned', 'manner', 'manufacture', 'manufactured', 'manufacturer', 'manufacturers', 'manufactures', 'manufacturing', 'many', 'manyears', 'map', 'mapping', 'maps', 'march', 'marchin', 'margarine', 'margin', 'margins', 'marinated', 'marine', 'maritime', 'mark', 'marked', 'markedly', 'market', 'marketbased', 'marketed', 'marketfinanced', 'marketing', 'marketplace', 'marketresearch', 'markets', 'markings', 'marks', 'marktomarket', 'marriage', 'mascara', 'mass', 'massive', 'master', 'mastered', 'matches', 'material', 'materialise', 'materials', 'matrix', 'matter', 'matters', 'mature', 'maturing', 'maturity', 'max', 'maximizes', 'maximum', 'may', 'maybe', 'mcp', 'meals', 'mean', 'meaning', 'means', 'meant', 'meantime', 'meanwhile', 'measure', 'measured', 'measurement', 'measurements', 'measures', 'measuring', 'meat', 'meatpacking', 'mechanical', 'mechanics', 'mechanisms', 'media', 'mediaphones', 'mediation', 'medical', 'medically', 'medium', 'mediumsized', 'mediumterm', 'meet', 'meeting', 'meetings', 'megabytes', 'megadeals', 'megamart', 'megawatt', 'megawatts', 'meltdown', 'melting', 'member', 'members', 'memorandum', 'memory', 'mentioned', 'merchandise', 'merchant', 'merely', 'merge', 'merged', 'merger', 'mergers', 'merges', 'merging', 'message', 'messages', 'messaging', 'met', 'metal', 'metallurgical', 'metals', 'meteorology', 'meters', 'method', 'methods', 'metre', 'metres', 'metric', 'metro', 'metropolitan', 'mezzanine', 'mgkg', 'micro', 'microelectronic', 'microwave', 'microwaveable', 'mid', 'mid2007', 'mid2008', 'mid2009', 'midFrance', 'midMay', 'midOctober', 'midSeptember', 'middle', 'midmarket', 'midsized', 'midstrength', 'midswaps', 'might', 'mildly', 'miles', 'milestone', 'milestonebased', 'military', 'milk', 'mill', 'milled', 'million', 'mills', 'min', 'mind', 'mine', 'minera', 'mineral', 'minerals', 'mini', 'miniature', 'minimize', 'minimum', 'mining', 'minister', 'ministerija', 'minor', 'minority', 'mins', 'minutes', 'miracle', 'mismanagement', 'miss', 'missed', 'misses', 'mix', 'mixed', 'mkt', 'ml', 'mln', 'mln1', 'mln42', 'mlnon', 'mmin', 'mn', 'mobile', 'mobileinspired', 'mobilephone', 'mobility', 'mode', 'model', 'modelling', 'models', 'modem', 'modems', 'moderate', 'modern', 'modernisation', 'modes', 'modification', 'modify', 'modular', 'module', 'modules', 'moisture', 'mold', 'molten', 'molybdenum', 'moment', 'momentum', 'money', 'monitoring', 'mono', 'month', 'monthly', 'months', 'mood', 'mooring', 'moreover', 'morning', 'mortar', 'mortgage', 'mortgages', 'mostly', 'moteltan', 'motivate', 'motor', 'motorcyclist', 'motorcyclists', 'motors', 'moulding', 'mount', 'mountain', 'mouse', 'mouth', 'movable', 'move', 'moveWill', 'moved', 'movement', 'movers', 'moves', 'movies', 'moving', 'mr', 'mrkt', 'msft', 'mtyear', 'much', 'mud', 'mugatushair', 'mulling', 'mulls', 'multiasset', 'multichannel', 'multidiscipline', 'multifunctional', 'multimedia', 'multimodal', 'multinational', 'multiplayer', 'multiple', 'multiples', 'multiplying', 'multistorey', 'multitools', 'multiwindow', 'multiyear', 'municipal', 'municipalities', 'municipality', 'music', 'must', 'musthave', 'nalmefene', 'name', 'named', 'namely', 'names', 'narrow', 'narrowed', 'narrows', 'nation', 'national', 'nationally', 'nationwide', 'natural', 'naturally', 'nausea', 'navigability', 'navigation', 'near', 'nearby', 'nearing', 'nearly', 'nearshore', 'necessary', 'need', 'needed', 'needs', 'neeeeds', 'nefarious', 'negative', 'negotiate', 'negotiated', 'negotiating', 'negotiation', 'negotiations', 'neighboring', 'neighbouring', 'nervous', 'net', 'netbooks', 'network', 'networking', 'networks', 'neutral', 'nevertheless', 'new', 'newcomers', 'newest', 'newfound', 'newly', 'newlycompleted', 'newlyformed', 'news', 'newspaper', 'newspapers', 'newsprint', 'next', 'nextgeneration', 'nibbling', 'nice', 'nicely', 'niche', 'nickel', 'nicotine', 'night', 'nine', 'ninemonth', 'nineyear', 'nitrates', 'nitrite', 'nitrogen', 'nod', 'noise', 'nok', 'nominal', 'nomination', 'nonGMO', 'nonUS', 'nonbinding', 'noncoherent', 'noncore', 'nonlife', 'nonperforming', 'nonprofit', 'nonprofitable', 'nonrecurring', 'nonresidential', 'nonresponsive', 'nonrestricted', 'nonvisible', 'nonwovens', 'noon', 'normal', 'normalises', 'normally', 'north', 'northeast', 'northern', 'northwest', 'northwestern', 'notable', 'notably', 'note', 'noted', 'notes', 'nothing', 'notice', 'noticeable', 'noticed', 'notification', 'noting', 'novel', 'nowwill', 'nt', 'nuclear', 'nuggets', 'number', 'numbers', 'numerous', 'nurseries', 'nursing', 'nutritional', 'nya', 'obj', 'objective', 'objectively', 'obligated', 'observations', 'observed', 'observes', 'obtained', 'obvious', 'occasion', 'occupancy', 'occupied', 'occupiers', 'occupies', 'occupy', 'occurred', 'occurring', 'och', 'ocn', 'oeFirstAlert', 'of2008', 'ofBodywhich', 'offer', 'offered', 'offering', 'offerings', 'offers', 'office', 'officer', 'offices', 'official', 'officials', 'offset', 'offsetprinting', 'offshore', 'offtake', 'offtheshelf', 'often', 'oil', 'oils', 'okays', 'old', 'oldage', 'older', 'oldest', 'olives', 'omitted', 'onboard', 'ondemand', 'one', 'oneday', 'onefamily', 'onefifth', 'oneoff', 'oneoffs', 'ones', 'onestopshop', 'onetenth', 'onethird', 'onetime', 'oneyear', 'ongoing', 'online', 'onto', 'onwards', 'ooks', 'open', 'opened', 'opening', 'opens', 'opensource', 'operate', 'operated', 'operates', 'operating', 'operation', 'operational', 'operations', 'operative', 'operatives', 'operator', 'operators', 'opinion', 'opinions', 'opportunities', 'opportunity', 'opposite', 'opt', 'optimisation', 'optimising', 'optimism', 'optimistic', 'optimistically', 'optimization', 'optimize', 'opting', 'option', 'optionally', 'options', 'orange', 'orangehandled', 'order', 'ordered', 'orders', 'ore', 'ores', 'organic', 'organically', 'organisational', 'organised', 'organization', 'organizations', 'organize', 'organized', 'original', 'originally', 'originated', 'ornamental', 'orphan', 'osmium', 'others', 'otherwise', 'ouch', 'ourmachinery', 'outcome', 'outdoors', 'outfits', 'outflows', 'outlets', 'outlining', 'outlook', 'outoteccom', 'outpacing', 'outperform', 'outperforms', 'outplacement', 'output', 'outright', 'outside', 'outsource', 'outsourced', 'outsourcing', 'outstanding', 'overall', 'overbought', 'overcharging', 'overhead', 'overlaid', 'overlapping', 'overnight', 'overproduction', 'overseas', 'oversee', 'overshadowed', 'oversold', 'oversupply', 'overvalued', 'overview', 'overweight', 'owing', 'owned', 'owner', 'ownerengineer', 'owners', 'ownership', 'owning', 'owns', 'p', 'pace', 'pack', 'package', 'packages', 'packaging', 'packed', 'packets', 'pacts', 'pad', 'pages', 'paid', 'painful', 'paint', 'painting', 'paints', 'paintshop', 'palm', 'panIndia', 'panel', 'panels', 'panic', 'paper', 'paperboard', 'papermaking', 'papers', 'par', 'parallel', 'parameters', 'parent', 'pares', 'parity', 'park', 'parking', 'parks', 'parliament', 'parquet', 'parser', 'part', 'partial', 'partially', 'participants', 'participate', 'participated', 'participating', 'participation', 'particles', 'particular', 'particularly', 'parties', 'partition', 'partly', 'partner', 'partnered', 'partners', 'partnership', 'parts', 'parttime', 'party', 'pass', 'passages', 'passed', 'passenger', 'passengers', 'passive', 'password', 'past', 'patch', 'patent', 'patents', 'pates', 'pathological', 'patient', 'patients', 'patronage', 'pattern', 'patterns', 'pave', 'pavements', 'pay', 'payable', 'paycheck', 'paying', 'payment', 'payments', 'payout', 'payroll', 'pays', 'pc', 'pcln', 'pct', 'peace', 'peat', 'pedometers', 'peeling', 'pellet', 'pelletizing', 'pellets', 'penalties', 'pence', 'pending', 'penny', 'pension', 'pensionable', 'pensions', 'people', 'per', 'percent', 'percentage', 'percentages', 'perch', 'perfect', 'perform', 'performance', 'performed', 'peri', 'period', 'periodend', 'periods', 'permanent', 'permanently', 'permission', 'permit', 'permitted', 'peroxide', 'perpendiculars', 'pershare', 'persistently', 'person', 'personal', 'personalized', 'personally', 'personnel', 'persons', 'perspective', 'petition', 'petitions', 'petrochemical', 'petrol', 'pharmaceutical', 'pharmaceuticals', 'pharmacies', 'pharmacodynamic', 'pharmacokinetic', 'pharmacokinetics', 'pharming', 'phase', 'phases', 'phishing', 'phone', 'phones', 'phosphate', 'phosphodiesterase', 'phosphorous', 'photomsn', 'photos', 'physical', 'pick', 'picked', 'picking', 'picks', 'pictures', 'piece', 'pieces', 'pierrules', 'pies', 'pile', 'piles', 'pill', 'pilot', 'piloting', 'pine', 'pinned', 'pipeline', 'piper', 'pipes', 'pipette', 'pipettes', 'pipettor', 'pipettors', 'pips', 'pistachio', 'pit', 'pivot', 'pivotable', 'place', 'placed', 'placement', 'places', 'plan', 'planned', 'planning', 'plans', 'plant', 'plants', 'plaque', 'plasterboard', 'plastic', 'plastics', 'plate', 'platen', 'plates', 'platform', 'platforms', 'platinum', 'play', 'playbook', 'player', 'players', 'plays', 'plc', 'please', 'pleased', 'pleasurable', 'pledged', 'plot', 'plots', 'plumber', 'plumbing', 'plummeted', 'plunge', 'plunged', 'plus', 'plywood', 'pm', 'poaches', 'pocketable', 'podcast', 'point', 'pointing', 'points', 'poised', 'poles', 'policies', 'policy', 'politicians', 'polled', 'pollution', 'pollux654321', 'polyolefin', 'polytechnics', 'pond', 'pool', 'poopoo', 'poor', 'poorest', 'pop', 'popping', 'popular', 'popularity', 'populated', 'population', 'port', 'portable', 'portal', 'portfolio', 'portfolios', 'portion', 'ports', 'pos', 'poser', 'position', 'positioned', 'positioning', 'positions', 'positive', 'possession', 'possibilities', 'possibility', 'possible', 'possibly', 'post', 'postal', 'posted', 'posting', 'postions', 'postpaid', 'postponement', 'posts', 'potash', 'potato', 'potential', 'pots', 'poultry', 'pound', 'pounds', 'pourings', 'powder', 'power', 'powered', 'powerful', 'powerless', 'powerplant', 'powersupply', 'ppl', 'practically', 'practices', 'practitioners', 'pragmatic', 'praised', 'praises', 'pre', 'preFriends', 'preceding', 'precipitation', 'precision', 'predefined', 'predict', 'predictability', 'predictions', 'preempt', 'preemptive', 'prefer', 'preferably', 'preference', 'preferred', 'preliminary', 'premarket', 'premature', 'premier', 'premises', 'premium', 'premiums', 'prepaid', 'preparation', 'prepare', 'prepared', 'prepares', 'preparing', 'preprocess', 'preprocessing', 'prerequisite', 'presence', 'present', 'presentation', 'presentations', 'presented', 'presently', 'presents', 'president', 'press', 'pressed', 'pressure', 'pressures', 'pressuring', 'pressurized', 'pretax', 'pretty', 'prevailing', 'previous', 'previously', 'previousyear', 'price', 'priced', 'pricefixing', 'prices', 'pricier', 'pricing', 'pride', 'primarily', 'primary', 'primed', 'primer', 'principal', 'principally', 'principles', 'print', 'printed', 'printing', 'prints', 'prior', 'privacy', 'private', 'privately', 'privatisation', 'privatization', 'pro', 'probable', 'probably', 'probe', 'problem', 'problems', 'procedure', 'proceed', 'proceeded', 'proceeds', 'process', 'processed', 'processes', 'processing', 'processor', 'processrelated', 'procurement', 'produce', 'produced', 'producer', 'producers', 'produces', 'producing', 'product', 'production', 'productional', 'productionrelated', 'productive', 'productivity', 'products', 'professional', 'profile', 'profiles', 'profiling', 'profit', 'profitability', 'profitable', 'profits', 'proforma', 'program', 'programmatic', 'programming', 'programs', 'progress', 'progressed', 'prohibited', 'project', 'projected', 'projections', 'projects', 'prolongation', 'prolonged', 'promise', 'promised', 'promises', 'promising', 'promo', 'promotes', 'promoting', 'promotion', 'prompt', 'proof', 'propeller', 'proper', 'properties', 'property', 'propertyfrom', 'proportion', 'proposal', 'proposals', 'propose', 'proposed', 'proposes', 'proposition', 'proprietary', 'propulsion', 'prosecution', 'prosecutor', 'prosition', 'prospect', 'prospects', 'prospectus', 'prosperous', 'protect', 'protection', 'protects', 'proteins', 'protocol', 'prototypes', 'protrusion', 'proud', 'proved', 'proven', 'proves', 'provide', 'provided', 'provider', 'providers', 'provides', 'providing', 'proving', 'provision', 'provisional', 'provisioning', 'psoriasis', 'pt', 'pts', 'publ', 'public', 'publication', 'publish', 'published', 'publisher', 'publishes', 'publishing', 'pull', 'pullback', 'pulling', 'pulls', 'pulp', 'pulpwood', 'pulse', 'pump', 'pumpmaking', 'punishing', 'purchase', 'purchased', 'purchases', 'purchasing', 'pure', 'purpose', 'purposes', 'purses', 'pursue', 'pursues', 'pursuit', 'push', 'pushed', 'pushers', 'pushing', 'put', 'puts', 'putting', 'qtrs', 'quadrupled', 'qualified', 'qualities', 'quality', 'qualitytastiness', 'quantity', 'quarter', 'quarterended', 'quarterly', 'quarterlyannual', 'quarteronquarter', 'quarters', 'quarto', 'quench', 'questioned', 'questions', 'quick', 'quickly', 'quipped', 'quite', 'quits', 'quitting', 'quote', 'quoted', 'rabbits', 'race', 'racks', 'radar', 'radars', 'radiation', 'radio', 'radiosonde', 'radomes', 'raid', 'rail', 'railroadcar', 'railway', 'rainbow', 'raise', 'raised', 'raises', 'rallied', 'rallies', 'rally', 'rampup', 'range', 'ranges', 'ranging', 'rank', 'ranked', 'ranking', 'rapid', 'rapidly', 'rare', 'rate', 'rateWould', 'rated', 'rates', 'rating', 'ratings', 'ratio', 'rationalization', 'rationalize', 'raw', 'reach', 'reached', 'reaching', 'reactors', 'read', 'reader', 'readers', 'readership', 'reading', 'ready', 'readyTarget', 'readymeal', 'reaffirmed', 'real', 'realestate', 'realistic', 'realized', 'really', 'realtime', 'reason', 'reasons', 'rebates', 'rebound', 'rebounding', 'rebuff', 'rebuffal', 'rebuild', 'rebuilds', 'rebuilt', 'recall', 'recalling', 'recalls', 'recaptured', 'receipt', 'receive', 'received', 'receives', 'receiving', 'recent', 'recently', 'recentlyvia', 'receptacles', 'reception', 'recession', 'recipient', 'recipients', 'reclaimed', 'recognize', 'recognized', 'recommencing', 'recommend', 'recommendable', 'recommendation', 'recommendations', 'record', 'recorded', 'recording', 'recover', 'recovered', 'recovery', 'recruit', 'recruited', 'recruitment', 'recruits', 'recycle', 'recycled', 'recycling', 'red', 'redeemed', 'redelivery', 'redesigned', 'redistribution', 'redtogreen', 'reduce', 'reduced', 'reducing', 'reduction', 'reductions', 'redundant', 'reel', 'reelection', 'reels', 'reenter', 'reference', 'refinance', 'refiner', 'refineries', 'refinery', 'refining', 'reflect', 'reflected', 'reflectors', 'reflects', 'reform', 'refreshment', 'refurbish', 'refurbishing', 'refurbishment', 'refused', 'refuted', 'regard', 'regarded', 'regarding', 'regeneration', 'region', 'regional', 'regionally', 'regions', 'register', 'registered', 'registers', 'registration', 'regular', 'regulated', 'regulates', 'regulation', 'regulator', 'regulators', 'regulatory', 'rehabilitation', 'rehabilitative', 'reimbursed', 'reinforced', 'reinforcement', 'reiterated', 'reiterates', 'reject', 'rejected', 'rejecting', 'rejection', 'rejects', 'rejoicing', 'related', 'relates', 'relating', 'relation', 'relationship', 'relationships', 'relative', 'relatively', 'relaunch', 'release', 'released', 'releases', 'relentless', 'relevant', 'reliability', 'reliable', 'relinquishing', 'relocate', 'relocated', 'relocation', 'reluctant', 'remain', 'remainder', 'remained', 'remaining', 'remains', 'remind', 'reminder', 'remodeled', 'remote', 'remotely', 'removable', 'removal', 'removed', 'remuneration', 'render', 'rendered', 'renew', 'renewable', 'renewal', 'renewed', 'renewing', 'renews', 'renn', 'renounce', 'renovate', 'renovation', 'rent', 'rental', 'rentalrelated', 'rentals', 'rents', 'reopen', 'reorganisation', 'reorganisations', 'reorganise', 'reorganised', 'reorganization', 'reorganizing', 'repaid', 'repairs', 'repay', 'repayment', 'repayments', 'repeals', 'repeat', 'repeated', 'repeating', 'replace', 'replaced', 'replacement', 'replay', 'replumbing', 'repo', 'report', 'report800', 'reportable', 'reported', 'reportedly', 'reporters', 'reporting', 'reports', 'repositioning', 'represent', 'representation', 'representative', 'representatives', 'represented', 'representing', 'represents', 'reproduction', 'republication', 'repurchase', 'repurchased', 'repurchases', 'request', 'require', 'required', 'requirement', 'requirements', 'requires', 'requisition', 'rerouting', 'res', 'rescue', 'research', 'reservation', 'reservations', 'reserve', 'reserved', 'reserves', 'resettlement', 'reshape', 'reshuffled', 'residential', 'residents', 'residues', 'resignation', 'resilience', 'resilient', 'resin', 'resist', 'resistance', 'reslilience', 'resolution', 'resolutions', 'resolve', 'resolved', 'resort', 'resorts', 'resource', 'resources', 'respect', 'respective', 'respectively', 'respiratory', 'respondents', 'responsibilities', 'responsibility', 'responsible', 'resposnible', 'rest', 'restarting', 'restarts', 'restaurant', 'restaurants', 'resting', 'restoration', 'restrictions', 'restructured', 'restructuring', 'restructurings', 'result', 'resulted', 'resulting', 'results', 'resumes', 'resurrect', 'retail', 'retailed', 'retailer', 'retailers', 'retailing', 'retain', 'retained', 'retaining', 'retake', 'retest', 'retested', 'retire', 'retired', 'retirement', 'retreats', 'retrieving', 'retrofit', 'return', 'returned', 'returns', 'rev', 'revealed', 'revenue', 'revenues', 'reversal', 'reversals', 'reversinglooks', 'review', 'reviews', 'revised', 'revolving', 'revs', 'rewarded', 'rewards', 'rg', 'rheumatoid', 'rice', 'ride', 'rig', 'right', 'rightfully', 'rights', 'rigid', 'ripe', 'rise', 'risen', 'risers', 'rises', 'rising', 'risk', 'risks', 'riskware', 'rival', 'rivals', 'river', 'road', 'roadmap', 'roads', 'roadshow', 'roaster', 'robbieLOLZ', 'robot', 'robust', 'rock', 'rocket', 'rocketed', 'rods', 'roiled', 'role', 'roll', 'rolling', 'rolloff', 'rollon', 'rolls', 'roof', 'roofing', 'room', 'rooms', 'ropax', 'roro', 'rose', 'rosendal', 'rotation', 'rough', 'roughly', 'round', 'rout', 'route', 'routes', 'routine', 'routing', 'roving', 'row', 'royalties', 'royalty', 'rubber', 'rubbertyred', 'rubles', 'rugs', 'ruin', 'rule', 'ruled', 'rules', 'rumor', 'rumors', 'rumours', 'run', 'runner', 'running', 'runs', 'runup', 'runway', 'rush', 'rvi', 'ryandetrick', 'sabbatical', 'sad', 'safe', 'safety', 'said', 'sailed', 'salaried', 'salary', 'sale', 'sales', 'salt', 'saltwaternurse', 'sanctions', 'sandals', 'sandwich', 'sanitation', 'satellite', 'satin', 'satisfactorily', 'satisfied', 'saturation', 'sausages', 'save', 'saved', 'saving', 'savings', 'saw', 'sawmill', 'sawmills', 'say', 'saying', 'says', 'saysJouni', 'scaffolding', 'scale', 'scaling', 'scandal', 'scanned', 'scanning', 'scenario', 'scene', 'scheduled', 'schedules', 'scheduling', 'scheme', 'scholarship', 'schools', 'schwalm', 'science', 'sciencebased', 'sciences', 'scientist', 'scissor', 'scissors', 'scope', 'scoring', 'scottrade', 'scrap', 'scrapped', 'scrappy', 'scraps', 'screen', 'screw', 'sculptural', 'sea', 'seal', 'sealed', 'seals', 'seamless', 'search', 'searching', 'season', 'seasonal', 'seat', 'seats', 'sechs', 'second', 'secondary', 'secondbiggest', 'secondgeneration', 'secondlargest', 'secondquarter', 'seconds', 'section', 'sections', 'sector', 'sectors', 'secure', 'secured', 'securing', 'securities', 'security', 'see', 'see425', 'seeing', 'seek', 'seeking', 'seeks', 'seem', 'seems', 'seen', 'sees', 'segment', 'segments', 'seismic', 'select', 'selected', 'selection', 'sell', 'seller', 'sellers', 'selling', 'sellingshorting', 'selloff', 'sells', 'semiconductor', 'seminar', 'seminars', 'semiproducts', 'semis', 'semitrailers', 'send', 'sending', 'senior', 'sense', 'sensing', 'sensor', 'sent', 'sentiment', 'sentiments', 'separate', 'separated', 'separately', 'separating', 'separationfiltration', 'serial', 'series', 'serve', 'served', 'server', 'servers', 'serves', 'service', 'services', 'servicing', 'serving', 'session', 'sessions', 'set', 'setback', 'sets', 'setting', 'settle', 'settled', 'settles', 'settop', 'setup', 'seven', 'seventeen', 'seventh', 'sevenyear', 'several', 'severe', 'sewer', 'shade', 'shadow', 'shakes', 'shale', 'shall', 'shape', 'shaping', 'share', 'shared', 'shareholder', 'shareholders', 'shareholding', 'shareholdings', 'shares', 'shareswill', 'sharing', 'shark', 'sharkbiotech', 'sharp', 'sharpest', 'sharply', 'shed', 'shedding', 'sheet', 'sheetmetal', 'sheets', 'shell', 'shelters', 'shelved', 'shielding', 'shift', 'shifted', 'shifts', 'ship', 'shipbuilder', 'shipbuilding', 'shipments', 'shipowner', 'shipping', 'ships', 'shipyard', 'shipyards', 'shish', 'sho', 'shock', 'shoe', 'shoes', 'shooting', 'shop', 'shopinshops', 'shoppers', 'shopping', 'shops', 'short', 'shortableat', 'shorter', 'shorting', 'shortlisted', 'shortlived', 'shortrun', 'shorts', 'shortterm', 'shot', 'shots', 'shoulders', 'show', 'showcase', 'showed', 'showing', 'shows', 'shrank', 'shs', 'shuts', 'side', 'sidelines', 'sidewalks', 'sideways', 'sight', 'sightshort', 'sign', 'signal', 'signaled', 'signaling', 'signals', 'signature', 'signatures', 'signed', 'significant', 'significantly', 'signing', 'signs', 'silicon', 'silver', 'similar', 'similarsized', 'simple', 'simplifies', 'simply', 'simulating', 'simultaneously', 'since', 'single', 'singlechannel', 'singles', 'sink', 'sinking', 'sinter', 'sintered', 'sintering', 'sister', 'sit', 'site', 'sites', 'sits', 'situated', 'situation', 'six', 'sixknot', 'sixmonth', 'sixstep', 'sixunder', 'sixyear', 'sizable', 'size', 'sizes', 'sizing', 'skeptical', 'skf', 'ski', 'skids', 'skiequipment', 'skier', 'skiers', 'skilled', 'skinned', 'skis', 'skr', 'slammed', 'slams', 'slapped', 'slash', 'slashed', 'slashes', 'slashing', 'slaughterhouse', 'slaughtering', 'slavery', 'sled', 'slice', 'slid', 'slide', 'slides', 'sliding', 'slight', 'slightly', 'slip', 'slipped', 'slips', 'slitting', 'slope', 'slot', 'slow', 'slowe', 'slowed', 'slowing', 'slowly', 'sludge', 'slump', 'slumped', 'slumps', 'sma', 'sma100', 'small', 'smaller', 'smarket', 'smart', 'smartphone', 'smartphones', 'smelt', 'smelter', 'smoke', 'smoking', 'snacks', 'snag', 'snap', 'snapback', 'snapper', 'snow', 'snowfall', 'soapstone', 'soared', 'soaring', 'soars', 'socalled', 'social', 'sodium', 'soft', 'software', 'softwarebased', 'solar', 'sold', 'sole', 'solely', 'solid', 'solo', 'solution', 'solutions', 'someone', 'something', 'somewhat', 'songs', 'soon', 'sooncheri1', 'sorts', 'sought', 'sound', 'sounds', 'source', 'sourced', 'sources', 'sourcing', 'south', 'southeastern', 'southern', 'southwestern', 'soy', 'spa', 'space', 'spaces', 'span', 'spanning', 'spare', 'spark', 'speaker', 'speaking', 'speaks', 'spear', 'special', 'specialises', 'specialising', 'specialist', 'specialists', 'specialization', 'specialize', 'specialty', 'species', 'specifically', 'specified', 'specifying', 'spectrum', 'speculative', 'speech', 'speed', 'speeded', 'speeds', 'spend', 'spending', 'spent', 'sphere', 'spike', 'spillrelated', 'spin', 'spinning', 'spinoff', 'spirits', 'spite', 'split', 'splitscreen', 'spoke', 'spokesman', 'spokesperson', 'spokeswoman', 'sponsored', 'sponsoring', 'sponsors', 'sponsorship', 'sport', 'sporting', 'sports', 'sportsequipment', 'spot', 'spouts', 'spraying', 'spread', 'spreader', 'spreads', 'spring', 'spruce', 'spunlace', 'spx', 'spy', 'spyware', 'sq', 'square', 'squarefoot', 'squeeze', 'stabilisation', 'stabilise', 'stabilised', 'stability', 'stable', 'stackers', 'staff', 'staffers', 'stage', 'stages', 'stainless', 'stake', 'stakeholders', 'stakes', 'stalk', 'stalls', 'stalwarts', 'stamp', 'stamps', 'stand', 'standalone', 'standard', 'standardised', 'standards', 'standardsbased', 'standing', 'stands', 'stars', 'start', 'started', 'starting', 'starts', 'startup', 'startups', 'state', 'stateapproved', 'statecontrolled', 'stated', 'stateheld', 'statement', 'statements', 'stateoftheart', 'stateowned', 'states', 'station', 'stationery', 'stations', 'statistical', 'statistics', 'status', 'statutory', 'stay', 'staying', 'stays', 'stead', 'steadies', 'steadily', 'steady', 'stealing', 'steam', 'steaming', 'steel', 'steelmaker', 'steep', 'stellar', 'step', 'steps', 'stereotyping', 'stg', 'sticks', 'stiff', 'still', 'stk', 'stochastics', 'stock', 'stockdemons', 'stockmarket', 'stocks', 'stocktrading', 'stole', 'stone', 'stood', 'stop', 'stoppage', 'stopped', 'storage', 'store', 'stored', 'stores', 'storeys', 'storing', 'storms', 'story', 'straddle', 'straight', 'strait', 'stranded', 'strapping', 'strategic', 'strategically', 'strategies', 'strategy', 'strattonite', 'strawberryrhubarb', 'streak', 'stream', 'streaming', 'streamline', 'streamlined', 'streamlining', 'streams', 'street', 'strength', 'strengthen', 'strengthened', 'strengthening', 'strengthens', 'strengths', 'stress', 'stretches', 'stricter', 'strictly', 'strike', 'strip', 'stripy', 'strong', 'stronger', 'strongest', 'strongly', 'structural', 'structure', 'structures', 'struggle', 'struggled', 'struggling', 'stuck', 'students', 'studies', 'study', 'studying', 'stuff', 'stumbled', 'style', 'styled', 'stylised', 'subcontract', 'subcontractor', 'subcontractors', 'subdivision', 'subdued', 'subgroup', 'subject', 'subjects', 'submissions', 'submit', 'submitted', 'subordinated', 'subscribe', 'subscribed', 'subscriber', 'subscribers', 'subscription', 'subscriptions', 'subsequent', 'subsidiaries', 'subsidiary', 'subsidy', 'substantial', 'substantially', 'substantiallyimproved', 'substations', 'substitutes', 'suburban', 'suburbs', 'succeed', 'succeeded', 'succeeds', 'success', 'successful', 'successfully', 'successor', 'suction', 'suddenly', 'sue', 'sued', 'sues', 'suffered', 'suffering', 'suffers', 'sufficient', 'suggest', 'suitable', 'suite', 'suitor', 'sulfide', 'sulphuric', 'sum', 'summary', 'summer', 'summit', 'sunk', 'supercalendered', 'superior', 'supermarket', 'supermarkets', 'superstructures', 'supervise', 'supervision', 'supervisory', 'supplements', 'supplied', 'supplier', 'suppliers', 'supplies', 'supply', 'supplying', 'support', 'supported', 'supporting', 'supports', 'supposed', 'surcharges', 'sure', 'surf', 'surface', 'surfaces', 'surfacetreatment', 'surfeit', 'surfers', 'surfing', 'surged', 'surges', 'surmises', 'surpass', 'surpassing', 'surprise', 'surprised', 'surprises', 'surrounding', 'surveillance', 'survey', 'surveyed', 'suspend', 'suspended', 'sustainability', 'sustainable', 'sveikatos', 'swap', 'swaps', 'sweepers', 'swiftly', 'swing', 'swings', 'swirled', 'switchboard', 'swung', 'symbol', 'syndicate', 'syndicated', 'syndication', 'synergies', 'synergy', 'synonymous', 'system', 'systems', 'tab', 'table', 'tablet', 'tablets', 'tabloid', 'tacked', 'tackle', 'tag', 'tail', 'tailor', 'tailored', 'tailormade', 'take', 'taken', 'takeover', 'takes', 'taking', 'talk', 'talking', 'talks', 'tally', 'tank', 'tanker', 'tankers', 'tanking', 'tanks', 'tap', 'tape', 'tapes', 'tapped', 'target', 'targeted', 'targeting', 'targets', 'tariff', 'tasks', 'taste', 'tastes', 'tax', 'taxes', 'taxpayers', 'te', 'team', 'teamed', 'teaming', 'teams', 'tech', 'technical', 'technically', 'technicals', 'technik', 'technological', 'technologically', 'technologies', 'technology', 'technologyoriented', 'technopark', 'technoparks', 'techsavvy', 'teenagers', 'teflon', 'tel', 'telco', 'telecom', 'telecomms', 'telecommunications', 'telecoms', 'telephone', 'television', 'tell', 'tells', 'temporarily', 'temporary', 'ten', 'tenant', 'tenants', 'tendency', 'tender', 'tendering', 'tension', 'tentative', 'tenth', 'tents', 'tenyear', 'term', 'terminal', 'terminals', 'terminated', 'termination', 'terminations', 'terms', 'territories', 'territory', 'test', 'testament', 'testing', 'tests', 'tetroxide', 'text', 'textile', 'textiles', 'th', 'thanks', 'thats', 'theft', 'themes', 'therapeutic', 'therapies', 'therapy', 'thereby', 'thered', 'therefore', 'therein', 'theres', 'thermal', 'thesecond', 'theutilization', 'theyre', 'thicker', 'thieves', 'thin', 'thing', 'things', 'think', 'thinks', 'thinly', 'third', 'thirdparty', 'thirdquarter', 'thirdrow', 'thirds', 'thirst', 'thirteen', 'thirtyone', 'thisits', 'though', 'thousand', 'thousands', 'thread', 'threat', 'threatening', 'three', 'threeday', 'threemonth', 'threeunder', 'threeyear', 'throughout', 'throughput', 'thru', 'thus', 'ticket', 'tie', 'tied', 'tiein', 'ties', 'tieup', 'tightened', 'tightening', 'til', 'till', 'time', 'timefocused', 'timeless', 'timely', 'times', 'timetable', 'timetables', 'timetomarket', 'timing', 'tinyurls', 'tips', 'tire', 'tires', 'title', 'titles', 'tm', 'toast', 'tobacco', 'today', 'todays', 'todaytomorrow', 'today’s', 'together', 'toilets', 'told', 'tolerability', 'tolerated', 'toll', 'tomatoes', 'tomhend777', 'tomorrow', 'ton', 'tonight', 'tonnage', 'tonnes', 'tons', 'took', 'tool', 'tools', 'top', 'topic', 'topical', 'topped', 'topping', 'toppled', 'toppy', 'tops', 'total', 'totaled', 'totalguru', 'totaling', 'totalled', 'totalling', 'totally', 'totals', 'touch', 'touches', 'touchscreen', 'tough', 'tougher', 'tour', 'tourists', 'tournament', 'tournaments', 'touting', 'toward', 'towards', 'tower', 'towers', 'towertop', 'town', 'toxic', 'traceability', 'traces', 'track', 'tracking', 'traction', 'trade', 'traded', 'tradeideas', 'trademark', 'trademarks', 'trader', 'traders', 'trades', 'trading', 'tradition', 'traditional', 'traditions', 'traffic', 'trailer', 'trails', 'train', 'trained', 'trainee', 'training', 'trains', 'transaction', 'transactions', 'transfer', 'transferred', 'transferring', 'transfers', 'transit', 'transmission', 'transport', 'transportation', 'transported', 'transports', 'traps', 'travel', 'travellers', 'treasury', 'treat', 'treating', 'treatment', 'treatments', 'trebles', 'tree', 'trees', 'tremendous', 'trend', 'trending', 'trendline', 'trends', 'trial', 'trials', 'triangle', 'tried', 'trigger', 'triggered', 'triggers', 'trim', 'trims', 'trip', 'triple', 'tripled', 'trouble', 'troubled', 'troubles', 'trout', 'truck', 'trucks', 'true', 'truly', 'trumpets', 'trust', 'trustworthy', 'try', 'trying', 'tsla', 'tsrandall', 'tube', 'tubes', 'tuition', 'tumble', 'tumbles', 'tummy', 'tune', 'tunnel', 'turbine', 'turbines', 'turkey', 'turmoil', 'turn', 'turnaround', 'turnbyturn', 'turned', 'turning', 'turnkey', 'turnover', 'turns', 'turntable', 'tweet', 'tweets', 'twelve', 'twenty', 'twentyone', 'twice', 'two', 'twoday', 'twofactor', 'twofold', 'twounit', 'twoyear', 'twtr', 'type', 'typed', 'types', 'typically', 'tyre', 'tyres', 'u', 'ulitsa', 'umbrellas', 'umm', 'unaudited', 'unbanked', 'unbroken', 'uncertain', 'uncertainties', 'uncertainty', 'unchanged', 'uncoated', 'und', 'underbanked', 'underground', 'underlying', 'underperf', 'underperform', 'underpins', 'understand', 'understanding', 'understood', 'undertaken', 'undertaking', 'underutilisation', 'undervalued', 'underweight', 'underwhelming', 'underwritten', 'undisclosed', 'undisturbed', 'unfortunately', 'unified', 'unify', 'union', 'unique', 'unit', 'unite', 'united', 'units', 'universities', 'unknown', 'unless', 'unlike', 'unloader', 'unnamed', 'unprofitable', 'unquoted', 'unrivalled', 'unsecured', 'unspectacular', 'unstable', 'untrue', 'unture', 'unusual', 'unveil', 'unveiled', 'unveils', 'upcoming', 'update', 'updated', 'updates', 'upfront', 'upgrade', 'upgraded', 'upgrades', 'upgrading', 'uplift', 'uplong', 'upon', 'upper', 'ups', 'upset', 'upside', 'upstaged', 'upstream', 'uptodate', 'uptrend', 'upward', 'uranium', 'urban', 'us', 'usd', 'use', 'used', 'user', 'usercontrolled', 'userdefined', 'userexperience', 'users', 'uses', 'using', 'usual', 'usually', 'utilisation', 'utilise', 'utilises', 'utilising', 'utility', 'utilizing', 'uvxy', 'vacancy', 'vacant', 'vaccines', 'vacuum', 'valid', 'validating', 'validation', 'valuation', 'value', 'valueadded', 'valued', 'values', 'valve', 'valves', 'vantage', 'variant', 'variety', 'various', 'vary', 'vat', 'vegetable', 'vegetables', 'vehicle', 'vehicles', 'veil', 'vendor', 'vendors', 'veneer', 'venture', 'ventures', 'verification', 'verifying', 'versatile', 'version', 'versions', 'versus', 'vessel', 'vessels', 'via', 'viable', 'vibe', 'vibrocompactors', 'vice', 'vicepresident', 'vicinity', 'video', 'videos', 'view', 'viewed', 'viewing', 'viewpoint', 'views', 'village', 'vintage', 'violated', 'virgin', 'viruses', 'visibility', 'vision', 'visit', 'visitors', 'visual', 'vivid', 'vnoto74', 'voice', 'voiced', 'voicedirected', 'vol', 'volatile', 'volatility', 'voltage', 'volume', 'volumes', 'voluntary', 'volunteers', 'von', 'vote', 'votes', 'voting', 'vs', 'vwap', 'vxx', 'w', 'wackiness', 'wafer', 'wafers', 'wages', 'wagon', 'wait', 'waiting', 'waiving', 'walking', 'wall', 'walls', 'want', 'wanted', 'wants', 'war', 'warehouse', 'warehousing', 'warmly', 'warn', 'warned', 'warning', 'warnings', 'warrant', 'warrants', 'warranty', 'washable', 'washing', 'washout', 'wasnt', 'waste', 'wasteburning', 'wastefired', 'wastes', 'wastewater', 'watch', 'watching', 'watchlist', 'water', 'waterborne', 'watermarks', 'watertight', 'wave', 'waves', 'waxes', 'way', 'ways', 'wayyy', 'weak', 'weakened', 'weakening', 'weaker', 'weakest', 'weakness', 'weaknesses', 'wealth', 'weather', 'weatherdeck', 'web', 'webbased', 'webcast', 'website', 'wedge', 'week', 'weekday', 'weekend', 'weeklies', 'weekly', 'weeks', 'weigh', 'weighing', 'weighs', 'weight', 'weighted', 'welcome', 'welcomes', 'welding', 'well', 'wellknown', 'wellness', 'went', 'west', 'western', 'westward', 'wet', 'whats', 'wheat', 'whereas', 'whereby', 'wherever', 'whether', 'whilst', 'white', 'whitecollar', 'whole', 'wholesale', 'wholesaler', 'wholesalers', 'wholly', 'whollyowned', 'whos', 'whose', 'wide', 'widened', 'wider', 'width', 'wife', 'willingness', 'win', 'wind', 'winded', 'winders', 'window', 'windows', 'winds', 'winner', 'winners', 'winning', 'winnings', 'wins', 'winter', 'winwin', 'wipes', 'wire', 'wireless', 'wish', 'wishes', 'withViking', 'withdrawing', 'withdrawn', 'within', 'without', 'withstand', 'wk', 'wkly', 'wks', 'wo', 'women', 'wonderful', 'wont', 'wood', 'wooden', 'woodworking', 'wording', 'wore', 'work', 'workday', 'worked', 'worker', 'workers', 'workflow', 'workflows', 'workforce', 'workforse', 'working', 'workout', 'works', 'workshop', 'workshops', 'world', 'worldclass', 'worldleading', 'worldwide', 'worm', 'worn', 'worried', 'worries', 'worse', 'worsethanexpected', 'worst', 'worth', 'worthless', 'would', 'wouldnt', 'wrapped', 'write', 'writer', 'writing', 'written', 'wrong', 'wrote', 'wwwahlstromcom', 'wwwcargoteccom', 'wwwcernercom', 'wwwcityconcom', 'wwwcomponentacom', 'wwwcountryelementscouk', 'wwwdailystockplayscom', 'wwwfiskarscom', 'wwwglassworldexcom', 'wwwglobesonlinecom', 'wwwiciscom', 'wwwkauppalehtifilive', 'wwwmosmetroru', 'wwwomeose', 'wwworionfi', 'wwwpeigsse', 'wwwprothiouscom', 'wwwruukkicominvestors', 'wwwsampocom', 'wwwsampocomir', 'wwwsanomacom', 'wwwseahawkdrillingcom', 'wwwstockmanncom', 'wwwupmkymmenecom', 'wwwyitgroupcominvestors', 'x', 'x201a', 'x20ac', 'xDSL', 'ya', 'yard', 'yeah', 'year', 'yearago', 'yearearlier', 'yearlong', 'yearly', 'yearonyea', 'yearonyear', 'years', 'yearó', 'yes', 'yesterday', 'yesterdaylooking', 'yesterdays', 'yet', 'yetwhen', 'yhoo', 'yield', 'youd', 'young', 'yr', 'yrendâ€”Thats', 'ystok', 'yy', 'zero', 'zinc', 'zinclead', 'zip', 'zloty', 'zone', 'zoo', 'zu', '£lemiste', '£lo', '¦', '«', '®', '¼', 'Ál', 'Â£100m', 'Â£180m', 'Â£22', 'Â£250m', 'Â£30m', 'Â£347', 'Â£35bn', 'Â£90m', 'àkersberga', 'àland', 'àlandsbanken', 'àmÑl', 'â€“', 'äñnekoski', 'é', 'ó', '📈']\n"
     ]
    },
    {
     "name": "stderr",
     "output_type": "stream",
     "text": [
      "C:\\ProgramData\\Anaconda3\\lib\\site-packages\\sklearn\\utils\\deprecation.py:87: FutureWarning: Function get_feature_names is deprecated; get_feature_names is deprecated in 1.0 and will be removed in 1.2. Please use get_feature_names_out instead.\n",
      "  warnings.warn(msg, category=FutureWarning)\n"
     ]
    }
   ],
   "source": [
    "from sklearn.feature_extraction.text import CountVectorizer\n",
    "\n",
    "vectorizer = CountVectorizer(analyzer = message_cleaning)\n",
    "sentiment_countvectorizer = vectorizer.fit_transform(sentiment_df['Sentence'])\n",
    "# print(vectorizer.get_feature_names())"
   ]
  },
  {
   "cell_type": "code",
   "execution_count": 45,
   "id": "3b9560e3",
   "metadata": {},
   "outputs": [
    {
     "name": "stdout",
     "output_type": "stream",
     "text": [
      "<bound method _cs_matrix.toarray of <5842x14194 sparse matrix of type '<class 'numpy.int64'>'\n",
      "\twith 68925 stored elements in Compressed Sparse Row format>>\n"
     ]
    }
   ],
   "source": [
    "print(sentiment_countvectorizer.toarray)"
   ]
  },
  {
   "cell_type": "code",
   "execution_count": 59,
   "id": "aa718942",
   "metadata": {},
   "outputs": [
    {
     "data": {
      "text/html": [
       "<div>\n",
       "<style scoped>\n",
       "    .dataframe tbody tr th:only-of-type {\n",
       "        vertical-align: middle;\n",
       "    }\n",
       "\n",
       "    .dataframe tbody tr th {\n",
       "        vertical-align: top;\n",
       "    }\n",
       "\n",
       "    .dataframe thead th {\n",
       "        text-align: right;\n",
       "    }\n",
       "</style>\n",
       "<table border=\"1\" class=\"dataframe\">\n",
       "  <thead>\n",
       "    <tr style=\"text-align: right;\">\n",
       "      <th></th>\n",
       "      <th>0</th>\n",
       "      <th>1</th>\n",
       "      <th>2</th>\n",
       "      <th>3</th>\n",
       "      <th>4</th>\n",
       "      <th>5</th>\n",
       "      <th>6</th>\n",
       "      <th>7</th>\n",
       "      <th>8</th>\n",
       "      <th>9</th>\n",
       "      <th>...</th>\n",
       "      <th>14184</th>\n",
       "      <th>14185</th>\n",
       "      <th>14186</th>\n",
       "      <th>14187</th>\n",
       "      <th>14188</th>\n",
       "      <th>14189</th>\n",
       "      <th>14190</th>\n",
       "      <th>14191</th>\n",
       "      <th>14192</th>\n",
       "      <th>14193</th>\n",
       "    </tr>\n",
       "  </thead>\n",
       "  <tbody>\n",
       "    <tr>\n",
       "      <th>0</th>\n",
       "      <td>0</td>\n",
       "      <td>0</td>\n",
       "      <td>0</td>\n",
       "      <td>0</td>\n",
       "      <td>0</td>\n",
       "      <td>0</td>\n",
       "      <td>0</td>\n",
       "      <td>0</td>\n",
       "      <td>0</td>\n",
       "      <td>0</td>\n",
       "      <td>...</td>\n",
       "      <td>0</td>\n",
       "      <td>0</td>\n",
       "      <td>0</td>\n",
       "      <td>0</td>\n",
       "      <td>0</td>\n",
       "      <td>0</td>\n",
       "      <td>0</td>\n",
       "      <td>0</td>\n",
       "      <td>0</td>\n",
       "      <td>0</td>\n",
       "    </tr>\n",
       "    <tr>\n",
       "      <th>1</th>\n",
       "      <td>0</td>\n",
       "      <td>0</td>\n",
       "      <td>0</td>\n",
       "      <td>0</td>\n",
       "      <td>0</td>\n",
       "      <td>0</td>\n",
       "      <td>0</td>\n",
       "      <td>0</td>\n",
       "      <td>0</td>\n",
       "      <td>0</td>\n",
       "      <td>...</td>\n",
       "      <td>0</td>\n",
       "      <td>0</td>\n",
       "      <td>0</td>\n",
       "      <td>0</td>\n",
       "      <td>0</td>\n",
       "      <td>0</td>\n",
       "      <td>0</td>\n",
       "      <td>0</td>\n",
       "      <td>0</td>\n",
       "      <td>0</td>\n",
       "    </tr>\n",
       "    <tr>\n",
       "      <th>2</th>\n",
       "      <td>0</td>\n",
       "      <td>0</td>\n",
       "      <td>0</td>\n",
       "      <td>0</td>\n",
       "      <td>0</td>\n",
       "      <td>0</td>\n",
       "      <td>0</td>\n",
       "      <td>0</td>\n",
       "      <td>0</td>\n",
       "      <td>0</td>\n",
       "      <td>...</td>\n",
       "      <td>0</td>\n",
       "      <td>0</td>\n",
       "      <td>0</td>\n",
       "      <td>0</td>\n",
       "      <td>0</td>\n",
       "      <td>0</td>\n",
       "      <td>0</td>\n",
       "      <td>0</td>\n",
       "      <td>0</td>\n",
       "      <td>0</td>\n",
       "    </tr>\n",
       "    <tr>\n",
       "      <th>3</th>\n",
       "      <td>0</td>\n",
       "      <td>0</td>\n",
       "      <td>0</td>\n",
       "      <td>0</td>\n",
       "      <td>0</td>\n",
       "      <td>0</td>\n",
       "      <td>0</td>\n",
       "      <td>0</td>\n",
       "      <td>0</td>\n",
       "      <td>0</td>\n",
       "      <td>...</td>\n",
       "      <td>0</td>\n",
       "      <td>0</td>\n",
       "      <td>0</td>\n",
       "      <td>0</td>\n",
       "      <td>0</td>\n",
       "      <td>0</td>\n",
       "      <td>0</td>\n",
       "      <td>0</td>\n",
       "      <td>0</td>\n",
       "      <td>0</td>\n",
       "    </tr>\n",
       "    <tr>\n",
       "      <th>4</th>\n",
       "      <td>0</td>\n",
       "      <td>0</td>\n",
       "      <td>0</td>\n",
       "      <td>0</td>\n",
       "      <td>0</td>\n",
       "      <td>0</td>\n",
       "      <td>0</td>\n",
       "      <td>0</td>\n",
       "      <td>0</td>\n",
       "      <td>0</td>\n",
       "      <td>...</td>\n",
       "      <td>0</td>\n",
       "      <td>0</td>\n",
       "      <td>0</td>\n",
       "      <td>0</td>\n",
       "      <td>0</td>\n",
       "      <td>0</td>\n",
       "      <td>0</td>\n",
       "      <td>0</td>\n",
       "      <td>0</td>\n",
       "      <td>0</td>\n",
       "    </tr>\n",
       "    <tr>\n",
       "      <th>...</th>\n",
       "      <td>...</td>\n",
       "      <td>...</td>\n",
       "      <td>...</td>\n",
       "      <td>...</td>\n",
       "      <td>...</td>\n",
       "      <td>...</td>\n",
       "      <td>...</td>\n",
       "      <td>...</td>\n",
       "      <td>...</td>\n",
       "      <td>...</td>\n",
       "      <td>...</td>\n",
       "      <td>...</td>\n",
       "      <td>...</td>\n",
       "      <td>...</td>\n",
       "      <td>...</td>\n",
       "      <td>...</td>\n",
       "      <td>...</td>\n",
       "      <td>...</td>\n",
       "      <td>...</td>\n",
       "      <td>...</td>\n",
       "      <td>...</td>\n",
       "    </tr>\n",
       "    <tr>\n",
       "      <th>5837</th>\n",
       "      <td>0</td>\n",
       "      <td>0</td>\n",
       "      <td>0</td>\n",
       "      <td>0</td>\n",
       "      <td>0</td>\n",
       "      <td>0</td>\n",
       "      <td>0</td>\n",
       "      <td>0</td>\n",
       "      <td>0</td>\n",
       "      <td>0</td>\n",
       "      <td>...</td>\n",
       "      <td>0</td>\n",
       "      <td>0</td>\n",
       "      <td>0</td>\n",
       "      <td>0</td>\n",
       "      <td>0</td>\n",
       "      <td>0</td>\n",
       "      <td>0</td>\n",
       "      <td>0</td>\n",
       "      <td>0</td>\n",
       "      <td>0</td>\n",
       "    </tr>\n",
       "    <tr>\n",
       "      <th>5838</th>\n",
       "      <td>0</td>\n",
       "      <td>0</td>\n",
       "      <td>0</td>\n",
       "      <td>0</td>\n",
       "      <td>0</td>\n",
       "      <td>0</td>\n",
       "      <td>0</td>\n",
       "      <td>0</td>\n",
       "      <td>0</td>\n",
       "      <td>0</td>\n",
       "      <td>...</td>\n",
       "      <td>0</td>\n",
       "      <td>0</td>\n",
       "      <td>0</td>\n",
       "      <td>0</td>\n",
       "      <td>0</td>\n",
       "      <td>0</td>\n",
       "      <td>0</td>\n",
       "      <td>0</td>\n",
       "      <td>0</td>\n",
       "      <td>0</td>\n",
       "    </tr>\n",
       "    <tr>\n",
       "      <th>5839</th>\n",
       "      <td>0</td>\n",
       "      <td>0</td>\n",
       "      <td>0</td>\n",
       "      <td>0</td>\n",
       "      <td>0</td>\n",
       "      <td>0</td>\n",
       "      <td>0</td>\n",
       "      <td>0</td>\n",
       "      <td>0</td>\n",
       "      <td>0</td>\n",
       "      <td>...</td>\n",
       "      <td>0</td>\n",
       "      <td>0</td>\n",
       "      <td>0</td>\n",
       "      <td>0</td>\n",
       "      <td>0</td>\n",
       "      <td>0</td>\n",
       "      <td>0</td>\n",
       "      <td>0</td>\n",
       "      <td>0</td>\n",
       "      <td>0</td>\n",
       "    </tr>\n",
       "    <tr>\n",
       "      <th>5840</th>\n",
       "      <td>0</td>\n",
       "      <td>0</td>\n",
       "      <td>0</td>\n",
       "      <td>0</td>\n",
       "      <td>0</td>\n",
       "      <td>0</td>\n",
       "      <td>0</td>\n",
       "      <td>0</td>\n",
       "      <td>0</td>\n",
       "      <td>0</td>\n",
       "      <td>...</td>\n",
       "      <td>0</td>\n",
       "      <td>0</td>\n",
       "      <td>0</td>\n",
       "      <td>0</td>\n",
       "      <td>0</td>\n",
       "      <td>0</td>\n",
       "      <td>0</td>\n",
       "      <td>0</td>\n",
       "      <td>0</td>\n",
       "      <td>0</td>\n",
       "    </tr>\n",
       "    <tr>\n",
       "      <th>5841</th>\n",
       "      <td>0</td>\n",
       "      <td>0</td>\n",
       "      <td>0</td>\n",
       "      <td>0</td>\n",
       "      <td>0</td>\n",
       "      <td>0</td>\n",
       "      <td>0</td>\n",
       "      <td>0</td>\n",
       "      <td>0</td>\n",
       "      <td>0</td>\n",
       "      <td>...</td>\n",
       "      <td>0</td>\n",
       "      <td>0</td>\n",
       "      <td>0</td>\n",
       "      <td>0</td>\n",
       "      <td>0</td>\n",
       "      <td>0</td>\n",
       "      <td>0</td>\n",
       "      <td>0</td>\n",
       "      <td>0</td>\n",
       "      <td>0</td>\n",
       "    </tr>\n",
       "  </tbody>\n",
       "</table>\n",
       "<p>5842 rows × 14194 columns</p>\n",
       "</div>"
      ],
      "text/plain": [
       "      0      1      2      3      4      5      6      7      8      9      \\\n",
       "0         0      0      0      0      0      0      0      0      0      0   \n",
       "1         0      0      0      0      0      0      0      0      0      0   \n",
       "2         0      0      0      0      0      0      0      0      0      0   \n",
       "3         0      0      0      0      0      0      0      0      0      0   \n",
       "4         0      0      0      0      0      0      0      0      0      0   \n",
       "...     ...    ...    ...    ...    ...    ...    ...    ...    ...    ...   \n",
       "5837      0      0      0      0      0      0      0      0      0      0   \n",
       "5838      0      0      0      0      0      0      0      0      0      0   \n",
       "5839      0      0      0      0      0      0      0      0      0      0   \n",
       "5840      0      0      0      0      0      0      0      0      0      0   \n",
       "5841      0      0      0      0      0      0      0      0      0      0   \n",
       "\n",
       "      ...  14184  14185  14186  14187  14188  14189  14190  14191  14192  \\\n",
       "0     ...      0      0      0      0      0      0      0      0      0   \n",
       "1     ...      0      0      0      0      0      0      0      0      0   \n",
       "2     ...      0      0      0      0      0      0      0      0      0   \n",
       "3     ...      0      0      0      0      0      0      0      0      0   \n",
       "4     ...      0      0      0      0      0      0      0      0      0   \n",
       "...   ...    ...    ...    ...    ...    ...    ...    ...    ...    ...   \n",
       "5837  ...      0      0      0      0      0      0      0      0      0   \n",
       "5838  ...      0      0      0      0      0      0      0      0      0   \n",
       "5839  ...      0      0      0      0      0      0      0      0      0   \n",
       "5840  ...      0      0      0      0      0      0      0      0      0   \n",
       "5841  ...      0      0      0      0      0      0      0      0      0   \n",
       "\n",
       "      14193  \n",
       "0         0  \n",
       "1         0  \n",
       "2         0  \n",
       "3         0  \n",
       "4         0  \n",
       "...     ...  \n",
       "5837      0  \n",
       "5838      0  \n",
       "5839      0  \n",
       "5840      0  \n",
       "5841      0  \n",
       "\n",
       "[5842 rows x 14194 columns]"
      ]
     },
     "execution_count": 59,
     "metadata": {},
     "output_type": "execute_result"
    }
   ],
   "source": [
    "X = reviews\n",
    "X"
   ]
  },
  {
   "cell_type": "code",
   "execution_count": 60,
   "id": "25103d38",
   "metadata": {},
   "outputs": [
    {
     "data": {
      "text/plain": [
       "(5842, 14194)"
      ]
     },
     "execution_count": 60,
     "metadata": {},
     "output_type": "execute_result"
    }
   ],
   "source": [
    "sentiment_countvectorizer.shape"
   ]
  },
  {
   "cell_type": "code",
   "execution_count": 61,
   "id": "1cf1fec2",
   "metadata": {},
   "outputs": [],
   "source": [
    "reviews = pd.DataFrame(sentiment_countvectorizer.toarray())"
   ]
  },
  {
   "cell_type": "code",
   "execution_count": 62,
   "id": "af9bd6fc",
   "metadata": {},
   "outputs": [
    {
     "data": {
      "text/plain": [
       "0    2\n",
       "1    0\n",
       "2    2\n",
       "3    1\n",
       "4    1\n",
       "Name: Sentiment, dtype: int64"
      ]
     },
     "execution_count": 62,
     "metadata": {},
     "output_type": "execute_result"
    }
   ],
   "source": [
    "# defining Sentiments:\n",
    "sentiments = ['negative' , 'neutral', 'positive']\n",
    "Y = y.apply(lambda x: sentiments.index(x))\n",
    "#Let’s check Y that it has correctly changed or not:\n",
    "Y.head()"
   ]
  },
  {
   "cell_type": "code",
   "execution_count": 63,
   "id": "8db5d674",
   "metadata": {},
   "outputs": [
    {
     "data": {
      "text/plain": [
       "(5842, 14194)"
      ]
     },
     "execution_count": 63,
     "metadata": {},
     "output_type": "execute_result"
    }
   ],
   "source": [
    "X.shape"
   ]
  },
  {
   "cell_type": "code",
   "execution_count": 64,
   "id": "855b9be7",
   "metadata": {},
   "outputs": [
    {
     "data": {
      "text/plain": [
       "(5842,)"
      ]
     },
     "execution_count": 64,
     "metadata": {},
     "output_type": "execute_result"
    }
   ],
   "source": [
    "y.shape"
   ]
  },
  {
   "cell_type": "code",
   "execution_count": 65,
   "id": "8af4a70c",
   "metadata": {},
   "outputs": [
    {
     "name": "stdout",
     "output_type": "stream",
     "text": [
      "Accuracy for training data in NB: 0.8619730365931949\n",
      "Accuracy for testing data in NB: 0.6732249786142002\n"
     ]
    }
   ],
   "source": [
    "from sklearn.naive_bayes import MultinomialNB\n",
    "from sklearn.model_selection import train_test_split\n",
    "from sklearn.model_selection import KFold\n",
    "NB_classifier = MultinomialNB()\n",
    "X_train, X_test, y_train, y_test = train_test_split(X, y, test_size=0.2)\n",
    "NB_classifier.fit(X_train, y_train)\n",
    "train = NB_classifier.score(X_train, y_train)\n",
    "test = NB_classifier.score(X_test, y_test)\n",
    "print('Accuracy for training data in NB: {}'.format(train))\n",
    "print('Accuracy for testing data in NB: {}'.format(test))"
   ]
  },
  {
   "cell_type": "code",
   "execution_count": 86,
   "id": "f6091c7c",
   "metadata": {},
   "outputs": [
    {
     "name": "stdout",
     "output_type": "stream",
     "text": [
      "After applying simple cross validation to the NB algorithm\n",
      "Accuracy for training data: [0.65454545 0.62459893 0.65668449 0.69271949 0.64775161]\n",
      "The mean for the training data: 0.6552599938164871\n",
      "Accuracy for testing data: [0.62393162 0.64102564 0.64102564 0.62393162 0.66523605]\n",
      "Mean for the testing data: 0.6390301162833352\n"
     ]
    }
   ],
   "source": [
    "from sklearn.model_selection import cross_val_score\n",
    "train = cross_val_score(NB_classifier, X_train, y_train, cv = 5)\n",
    "test = cross_val_score(NB_classifier, X_test, y_test, cv = 5)\n",
    "print('After applying simple cross validation to the NB algorithm')\n",
    "print('Accuracy for training data: {}'.format(train))\n",
    "print('The mean for the training data: {}'.format(train.mean()))\n",
    "print('Accuracy for testing data: {}'.format(test))\n",
    "print('Mean for the testing data: {}'.format(test.mean()))"
   ]
  },
  {
   "cell_type": "code",
   "execution_count": 69,
   "id": "a6197e65",
   "metadata": {},
   "outputs": [
    {
     "name": "stdout",
     "output_type": "stream",
     "text": [
      "After applying the Stratified K fold cross validation on NB we got the following result.\n",
      "Training data for NB:\n",
      "[0.6513369  0.65989305 0.64385027 0.64132762 0.63490364]\n",
      "The mean for training data:0.6462622954574082\n",
      "The testing data: 0.6586919041854664\n"
     ]
    }
   ],
   "source": [
    "kfold = KFold(n_splits=5, shuffle=True, random_state=0)\n",
    "train = cross_val_score(NB_classifier, X_train, y_train, cv=kfold)\n",
    "test = cross_val_score(NB_classifier, X_test, y_test, cv=kfold)\n",
    "\n",
    "print('After applying the Stratified K fold cross validation on NB we got the following result.')\n",
    "print(\"Training data for NB:\\n{}\".format(train))\n",
    "print('The mean for training data:{}'.format(train.mean()))\n",
    "print('The testing data: {}'.format(test.mean()))"
   ]
  },
  {
   "cell_type": "code",
   "execution_count": 70,
   "id": "d65c0002",
   "metadata": {},
   "outputs": [
    {
     "data": {
      "text/plain": [
       "<AxesSubplot:>"
      ]
     },
     "execution_count": 70,
     "metadata": {},
     "output_type": "execute_result"
    },
    {
     "data": {
      "image/png": "[encoded data removed]",
      "text/plain": [
       "<Figure size 432x288 with 2 Axes>"
      ]
     },
     "metadata": {
      "needs_background": "light"
     },
     "output_type": "display_data"
    }
   ],
   "source": [
    "from sklearn.metrics import classification_report, confusion_matrix\n",
    "import seaborn as sns\n",
    "y_predict_test = NB_classifier.predict(X_test)\n",
    "cm = confusion_matrix(y_test, y_predict_test)\n",
    "sns.heatmap(cm, fmt = 'g', annot = True)"
   ]
  },
  {
   "cell_type": "code",
   "execution_count": 71,
   "id": "083aa1fb",
   "metadata": {
    "scrolled": true
   },
   "outputs": [
    {
     "name": "stdout",
     "output_type": "stream",
     "text": [
      "Confusion matrex for NB:               precision    recall  f1-score   support\n",
      "\n",
      "    negative       0.36      0.41      0.38       158\n",
      "     neutral       0.72      0.77      0.75       610\n",
      "    positive       0.75      0.63      0.68       401\n",
      "\n",
      "    accuracy                           0.67      1169\n",
      "   macro avg       0.61      0.60      0.60      1169\n",
      "weighted avg       0.68      0.67      0.67      1169\n",
      "\n"
     ]
    }
   ],
   "source": [
    "print('Confusion matrex for NB: {}'.format(classification_report(y_test, y_predict_test)))"
   ]
  },
  {
   "cell_type": "code",
   "execution_count": 89,
   "id": "fbf9e6b3",
   "metadata": {},
   "outputs": [
    {
     "name": "stderr",
     "output_type": "stream",
     "text": [
      "C:\\ProgramData\\Anaconda3\\lib\\site-packages\\sklearn\\linear_model\\_logistic.py:814: ConvergenceWarning: lbfgs failed to converge (status=1):\n",
      "STOP: TOTAL NO. of ITERATIONS REACHED LIMIT.\n",
      "\n",
      "Increase the number of iterations (max_iter) or scale the data as shown in:\n",
      "    https://scikit-learn.org/stable/modules/preprocessing.html\n",
      "Please also refer to the documentation for alternative solver options:\n",
      "    https://scikit-learn.org/stable/modules/linear_model.html#logistic-regression\n",
      "  n_iter_i = _check_optimize_result(\n"
     ]
    },
    {
     "name": "stdout",
     "output_type": "stream",
     "text": [
      "Training data: 0.9285255724374064\n",
      "Testing data: 0.6355859709153122\n"
     ]
    }
   ],
   "source": [
    "# logistic regression model cross validation using kfold\n",
    "from sklearn.linear_model import LogisticRegression\n",
    "from sklearn.model_selection import train_test_split\n",
    "\n",
    "X_train, X_test, y_train, y_test = train_test_split(X, y, test_size=0.2)\n",
    "logreg = LogisticRegression().fit(X_train, y_train)\n",
    "\n",
    "train = logreg.score(X_train, y_train)\n",
    "test = logreg.score(X_test, y_test)\n",
    "print('Training data: {}'.format(train))\n",
    "print('Testing data: {}'.format(test))\n"
   ]
  },
  {
   "cell_type": "code",
   "execution_count": 90,
   "id": "f108114d",
   "metadata": {},
   "outputs": [
    {
     "name": "stderr",
     "output_type": "stream",
     "text": [
      "C:\\ProgramData\\Anaconda3\\lib\\site-packages\\sklearn\\linear_model\\_logistic.py:814: ConvergenceWarning: lbfgs failed to converge (status=1):\n",
      "STOP: TOTAL NO. of ITERATIONS REACHED LIMIT.\n",
      "\n",
      "Increase the number of iterations (max_iter) or scale the data as shown in:\n",
      "    https://scikit-learn.org/stable/modules/preprocessing.html\n",
      "Please also refer to the documentation for alternative solver options:\n",
      "    https://scikit-learn.org/stable/modules/linear_model.html#logistic-regression\n",
      "  n_iter_i = _check_optimize_result(\n",
      "C:\\ProgramData\\Anaconda3\\lib\\site-packages\\sklearn\\linear_model\\_logistic.py:814: ConvergenceWarning: lbfgs failed to converge (status=1):\n",
      "STOP: TOTAL NO. of ITERATIONS REACHED LIMIT.\n",
      "\n",
      "Increase the number of iterations (max_iter) or scale the data as shown in:\n",
      "    https://scikit-learn.org/stable/modules/preprocessing.html\n",
      "Please also refer to the documentation for alternative solver options:\n",
      "    https://scikit-learn.org/stable/modules/linear_model.html#logistic-regression\n",
      "  n_iter_i = _check_optimize_result(\n",
      "C:\\ProgramData\\Anaconda3\\lib\\site-packages\\sklearn\\linear_model\\_logistic.py:814: ConvergenceWarning: lbfgs failed to converge (status=1):\n",
      "STOP: TOTAL NO. of ITERATIONS REACHED LIMIT.\n",
      "\n",
      "Increase the number of iterations (max_iter) or scale the data as shown in:\n",
      "    https://scikit-learn.org/stable/modules/preprocessing.html\n",
      "Please also refer to the documentation for alternative solver options:\n",
      "    https://scikit-learn.org/stable/modules/linear_model.html#logistic-regression\n",
      "  n_iter_i = _check_optimize_result(\n",
      "C:\\ProgramData\\Anaconda3\\lib\\site-packages\\sklearn\\linear_model\\_logistic.py:814: ConvergenceWarning: lbfgs failed to converge (status=1):\n",
      "STOP: TOTAL NO. of ITERATIONS REACHED LIMIT.\n",
      "\n",
      "Increase the number of iterations (max_iter) or scale the data as shown in:\n",
      "    https://scikit-learn.org/stable/modules/preprocessing.html\n",
      "Please also refer to the documentation for alternative solver options:\n",
      "    https://scikit-learn.org/stable/modules/linear_model.html#logistic-regression\n",
      "  n_iter_i = _check_optimize_result(\n",
      "C:\\ProgramData\\Anaconda3\\lib\\site-packages\\sklearn\\linear_model\\_logistic.py:814: ConvergenceWarning: lbfgs failed to converge (status=1):\n",
      "STOP: TOTAL NO. of ITERATIONS REACHED LIMIT.\n",
      "\n",
      "Increase the number of iterations (max_iter) or scale the data as shown in:\n",
      "    https://scikit-learn.org/stable/modules/preprocessing.html\n",
      "Please also refer to the documentation for alternative solver options:\n",
      "    https://scikit-learn.org/stable/modules/linear_model.html#logistic-regression\n",
      "  n_iter_i = _check_optimize_result(\n"
     ]
    },
    {
     "name": "stdout",
     "output_type": "stream",
     "text": [
      "Simple K-fold cross validation: [0.63216424 0.65012831 0.64383562 0.64554795 0.6489726 ]\n",
      "The mean: 0.6441297444250441\n"
     ]
    }
   ],
   "source": [
    "score = cross_val_score(logreg, X, y, cv = 5)\n",
    "print('Simple K-fold cross validation: {}'.format(score))\n",
    "print('The mean: {}'.format(score.mean()))"
   ]
  },
  {
   "cell_type": "code",
   "execution_count": 91,
   "id": "d7b7ba36",
   "metadata": {},
   "outputs": [
    {
     "name": "stderr",
     "output_type": "stream",
     "text": [
      "C:\\ProgramData\\Anaconda3\\lib\\site-packages\\sklearn\\linear_model\\_logistic.py:814: ConvergenceWarning: lbfgs failed to converge (status=1):\n",
      "STOP: TOTAL NO. of ITERATIONS REACHED LIMIT.\n",
      "\n",
      "Increase the number of iterations (max_iter) or scale the data as shown in:\n",
      "    https://scikit-learn.org/stable/modules/preprocessing.html\n",
      "Please also refer to the documentation for alternative solver options:\n",
      "    https://scikit-learn.org/stable/modules/linear_model.html#logistic-regression\n",
      "  n_iter_i = _check_optimize_result(\n",
      "C:\\ProgramData\\Anaconda3\\lib\\site-packages\\sklearn\\linear_model\\_logistic.py:814: ConvergenceWarning: lbfgs failed to converge (status=1):\n",
      "STOP: TOTAL NO. of ITERATIONS REACHED LIMIT.\n",
      "\n",
      "Increase the number of iterations (max_iter) or scale the data as shown in:\n",
      "    https://scikit-learn.org/stable/modules/preprocessing.html\n",
      "Please also refer to the documentation for alternative solver options:\n",
      "    https://scikit-learn.org/stable/modules/linear_model.html#logistic-regression\n",
      "  n_iter_i = _check_optimize_result(\n",
      "C:\\ProgramData\\Anaconda3\\lib\\site-packages\\sklearn\\linear_model\\_logistic.py:814: ConvergenceWarning: lbfgs failed to converge (status=1):\n",
      "STOP: TOTAL NO. of ITERATIONS REACHED LIMIT.\n",
      "\n",
      "Increase the number of iterations (max_iter) or scale the data as shown in:\n",
      "    https://scikit-learn.org/stable/modules/preprocessing.html\n",
      "Please also refer to the documentation for alternative solver options:\n",
      "    https://scikit-learn.org/stable/modules/linear_model.html#logistic-regression\n",
      "  n_iter_i = _check_optimize_result(\n",
      "C:\\ProgramData\\Anaconda3\\lib\\site-packages\\sklearn\\linear_model\\_logistic.py:814: ConvergenceWarning: lbfgs failed to converge (status=1):\n",
      "STOP: TOTAL NO. of ITERATIONS REACHED LIMIT.\n",
      "\n",
      "Increase the number of iterations (max_iter) or scale the data as shown in:\n",
      "    https://scikit-learn.org/stable/modules/preprocessing.html\n",
      "Please also refer to the documentation for alternative solver options:\n",
      "    https://scikit-learn.org/stable/modules/linear_model.html#logistic-regression\n",
      "  n_iter_i = _check_optimize_result(\n",
      "C:\\ProgramData\\Anaconda3\\lib\\site-packages\\sklearn\\linear_model\\_logistic.py:814: ConvergenceWarning: lbfgs failed to converge (status=1):\n",
      "STOP: TOTAL NO. of ITERATIONS REACHED LIMIT.\n",
      "\n",
      "Increase the number of iterations (max_iter) or scale the data as shown in:\n",
      "    https://scikit-learn.org/stable/modules/preprocessing.html\n",
      "Please also refer to the documentation for alternative solver options:\n",
      "    https://scikit-learn.org/stable/modules/linear_model.html#logistic-regression\n",
      "  n_iter_i = _check_optimize_result(\n"
     ]
    },
    {
     "name": "stdout",
     "output_type": "stream",
     "text": [
      "Stratified K-fold cross validation:\n",
      "[0.65098375 0.64242943 0.63869863 0.63955479 0.64811644]\n",
      "The mean 0.6439566073332786\n"
     ]
    }
   ],
   "source": [
    "from sklearn.model_selection import KFold\n",
    "kfold = KFold(n_splits=5, shuffle=True, random_state=0)\n",
    "score = cross_val_score(logreg, X, y, cv=kfold)\n",
    "                        \n",
    "print(\"Stratified K-fold cross validation:\\n{}\".format(score))\n",
    "print('The mean {}'.format(score.mean()))"
   ]
  },
  {
   "cell_type": "code",
   "execution_count": 92,
   "id": "18dff301",
   "metadata": {},
   "outputs": [
    {
     "name": "stderr",
     "output_type": "stream",
     "text": [
      "C:\\ProgramData\\Anaconda3\\lib\\site-packages\\sklearn\\linear_model\\_logistic.py:814: ConvergenceWarning: lbfgs failed to converge (status=1):\n",
      "STOP: TOTAL NO. of ITERATIONS REACHED LIMIT.\n",
      "\n",
      "Increase the number of iterations (max_iter) or scale the data as shown in:\n",
      "    https://scikit-learn.org/stable/modules/preprocessing.html\n",
      "Please also refer to the documentation for alternative solver options:\n",
      "    https://scikit-learn.org/stable/modules/linear_model.html#logistic-regression\n",
      "  n_iter_i = _check_optimize_result(\n"
     ]
    },
    {
     "name": "stdout",
     "output_type": "stream",
     "text": [
      "              precision    recall  f1-score   support\n",
      "\n",
      "    negative       0.23      0.20      0.22       169\n",
      "     neutral       0.64      0.78      0.70       601\n",
      "    positive       0.82      0.60      0.69       399\n",
      "\n",
      "    accuracy                           0.64      1169\n",
      "   macro avg       0.56      0.53      0.54      1169\n",
      "weighted avg       0.64      0.64      0.63      1169\n",
      "\n"
     ]
    },
    {
     "data": {
      "image/png": "[encoded data removed]",
      "text/plain": [
       "<Figure size 432x288 with 2 Axes>"
      ]
     },
     "metadata": {
      "needs_background": "light"
     },
     "output_type": "display_data"
    }
   ],
   "source": [
    "model = LogisticRegression()\n",
    "model.fit(X_train, y_train)\n",
    "\n",
    "\n",
    "y_pred = model.predict(X_test)\n",
    "\n",
    "cm = confusion_matrix(y_pred, y_test)\n",
    "sns.heatmap(cm, fmt = 'g', annot = True)\n",
    "\n",
    "print(classification_report(y_test, y_pred))"
   ]
  },
  {
   "cell_type": "code",
   "execution_count": 93,
   "id": "315d98cb",
   "metadata": {},
   "outputs": [],
   "source": [
    "from sklearn.neighbors import KNeighborsClassifier\n",
    "knn = KNeighborsClassifier()"
   ]
  },
  {
   "cell_type": "code",
   "execution_count": 94,
   "id": "e9a2dc89",
   "metadata": {},
   "outputs": [
    {
     "name": "stdout",
     "output_type": "stream",
     "text": [
      "Simple K-fold cross validation for KNN: [0.54491018 0.54234388 0.54880137 0.54195205 0.54366438]\n",
      "The mean: 0.5443343743042292\n"
     ]
    }
   ],
   "source": [
    "score = cross_val_score(knn, X, y, cv = 5)\n",
    "print('Simple K-fold cross validation for KNN: {}'.format(score))\n",
    "print('The mean: {}'.format(score.mean()))"
   ]
  },
  {
   "cell_type": "code",
   "execution_count": 95,
   "id": "f4bd3825",
   "metadata": {},
   "outputs": [
    {
     "name": "stdout",
     "output_type": "stream",
     "text": [
      "Testing: 0.5072594548989399\n",
      "Stratified Kfold cross validation for KNN: [0.55175364 0.51668092 0.53510274 0.56592466 0.54452055]\n",
      "The mean: 0.5427965009316006\n"
     ]
    }
   ],
   "source": [
    "from sklearn.model_selection import KFold\n",
    "KFold = KFold(n_splits=5, shuffle=True, random_state=0)\n",
    "\n",
    "score = cross_val_score(knn, X, y, cv = KFold)\n",
    "test = cross_val_score(knn, X_test, y_test, cv = KFold)\n",
    "print('Testing: {}'.format(test.mean()))\n",
    "print('Stratified Kfold cross validation for KNN: {}'.format(score))\n",
    "print('The mean: {}'.format(score.mean()))"
   ]
  },
  {
   "cell_type": "code",
   "execution_count": 96,
   "id": "f526f39e",
   "metadata": {},
   "outputs": [
    {
     "name": "stdout",
     "output_type": "stream",
     "text": [
      "              precision    recall  f1-score   support\n",
      "\n",
      "    negative       0.31      0.12      0.17       169\n",
      "     neutral       0.52      0.93      0.67       601\n",
      "    positive       0.68      0.07      0.12       399\n",
      "\n",
      "    accuracy                           0.52      1169\n",
      "   macro avg       0.50      0.37      0.32      1169\n",
      "weighted avg       0.54      0.52      0.41      1169\n",
      "\n"
     ]
    },
    {
     "data": {
      "image/png": "[encoded data removed]",
      "text/plain": [
       "<Figure size 432x288 with 2 Axes>"
      ]
     },
     "metadata": {
      "needs_background": "light"
     },
     "output_type": "display_data"
    }
   ],
   "source": [
    "# knn.fit(X=X_train, y=y_train)\n",
    "\n",
    "model = KNeighborsClassifier()\n",
    "model.fit(X_train, y_train)\n",
    "y_pred = model.predict(X_test)\n",
    "\n",
    "cm = confusion_matrix(y_pred, y_test)\n",
    "sns.heatmap(cm, fmt = 'g' , annot = True)\n",
    "\n",
    "print(classification_report(y_test, y_pred))"
   ]
  },
  {
   "cell_type": "code",
   "execution_count": 97,
   "id": "0be56bd6",
   "metadata": {},
   "outputs": [],
   "source": [
    "# bellow code is to find out the best parameter either c or gama or both for our algorithm"
   ]
  },
  {
   "cell_type": "code",
   "execution_count": 98,
   "id": "271bc376",
   "metadata": {},
   "outputs": [
    {
     "name": "stdout",
     "output_type": "stream",
     "text": [
      "Training set score: 0.893\n",
      "Test set score: 0.640\n"
     ]
    }
   ],
   "source": [
    "logreg100 = LogisticRegression(C=0.22).fit(X_train, y_train)\n",
    "print(\"Training set score: {:.3f}\".format(logreg100.score(X_train, y_train)))\n",
    "print(\"Test set score: {:.3f}\".format(logreg100.score(X_test, y_test)))"
   ]
  }
 ],
 "metadata": {
  "kernelspec": {
   "display_name": "Python 3 (ipykernel)",
   "language": "python",
   "name": "python3"
  },
  "language_info": {
   "codemirror_mode": {
    "name": "ipython",
    "version": 3
   },
   "file_extension": ".py",
   "mimetype": "text/x-python",
   "name": "python",
   "nbconvert_exporter": "python",
   "pygments_lexer": "ipython3",
   "version": "3.9.12"
  }
 },
 "nbformat": 4,
 "nbformat_minor": 5
}
